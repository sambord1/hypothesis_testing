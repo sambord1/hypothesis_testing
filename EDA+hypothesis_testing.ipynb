{
 "cells": [
  {
   "cell_type": "markdown",
   "id": "4ab07d3a",
   "metadata": {},
   "source": [
    "# Aнализ Данных Сервиса Аренды Самокатов GoFast"
   ]
  },
  {
   "cell_type": "markdown",
   "id": "8389ad68",
   "metadata": {},
   "source": [
    "## Задачи анализа \n",
    "- Исследовательский анализ данных о выборке пользователей из нескольких городов, а также об их поездках.\n",
    "\n",
    "- Проверка гипотез:\n",
    " - Разница времени аренды между пользователями с подпиской и без,\n",
    " - Расстояние, проезжаемое пользователями с подпиской, не превышает оптимальное с точки зрения износа самоката значение\n",
    " - Разнице помесячной выручки между пользователями с подпиской и без.\n",
    " \n",
    "- Рекомендации по охвату пользователей промо-акцией.\n",
    "- Оценка конверсии push-уведомлений.\n",
    " \n",
    "\n",
    "\n"
   ]
  },
  {
   "cell_type": "markdown",
   "id": "c7200e68",
   "metadata": {},
   "source": [
    "## Исследуемые данные\n",
    "Предоставлены 3 csv файла:\n",
    "\n",
    "1) `users_go.csv` - пользователи\n",
    "- `user_id` - уникальный идентификатор пользователя\n",
    "- `name` - имя пользователя\n",
    "- `age` - возраст\n",
    "- `city` - город\n",
    "- `subscription_type` - тип подписки (free, ultra)\n",
    "\n",
    "2) `rides_go.csv` - поездки\n",
    "- `user_id` - уникальный идентификатор пользователя\n",
    "- `distance` - расстояние, которое пользователь проехал в текущей сессии (в метрах)\n",
    "- `duration` - продолжительность сессии (в минутах) — время с того момента, как пользователь нажал кнопку «Начать поездку» до момента, как он нажал кнопку «Завершить поездку»\n",
    "- `date` - дата совершения поездки\n",
    "\n",
    "3) `subscriptions_go.csv` - подписки\n",
    "- `subscription_type` - тип подписки\n",
    "- `minute_price` - стоимость одной минуты поездки по данной подписке\n",
    "- `start_ride_price` - стоимость начала поездки\n",
    "- `subscription_fee` - стоимость ежемесячного платежа"
   ]
  },
  {
   "cell_type": "markdown",
   "id": "9ca7cbd3",
   "metadata": {},
   "source": [
    "Импортируем библиотеки"
   ]
  },
  {
   "cell_type": "code",
   "execution_count": 1,
   "id": "72576667",
   "metadata": {},
   "outputs": [
    {
     "name": "stdout",
     "output_type": "stream",
     "text": [
      "Requirement already satisfied: matplotlib in /opt/conda/lib/python3.9/site-packages (3.3.4)\n",
      "Requirement already satisfied: cycler>=0.10 in /opt/conda/lib/python3.9/site-packages (from matplotlib) (0.11.0)\n",
      "Requirement already satisfied: python-dateutil>=2.1 in /opt/conda/lib/python3.9/site-packages (from matplotlib) (2.8.1)\n",
      "Requirement already satisfied: pyparsing!=2.0.4,!=2.1.2,!=2.1.6,>=2.0.3 in /opt/conda/lib/python3.9/site-packages (from matplotlib) (2.4.7)\n",
      "Requirement already satisfied: numpy>=1.15 in /opt/conda/lib/python3.9/site-packages (from matplotlib) (1.21.1)\n",
      "Requirement already satisfied: pillow>=6.2.0 in /opt/conda/lib/python3.9/site-packages (from matplotlib) (8.4.0)\n",
      "Requirement already satisfied: kiwisolver>=1.0.1 in /opt/conda/lib/python3.9/site-packages (from matplotlib) (1.4.4)\n",
      "Requirement already satisfied: six>=1.5 in /opt/conda/lib/python3.9/site-packages (from python-dateutil>=2.1->matplotlib) (1.16.0)\n"
     ]
    }
   ],
   "source": [
    "!pip install matplotlib\n",
    "import pandas as pd\n",
    "from math import ceil, sqrt, factorial\n",
    "import numpy as np\n",
    "from scipy import stats as st\n",
    "from scipy.stats import poisson, binom, norm\n",
    "import matplotlib.pyplot as plt\n",
    "import seaborn as sns"
   ]
  },
  {
   "cell_type": "markdown",
   "id": "c42cbe00",
   "metadata": {},
   "source": [
    "## Загрузка и ознакомление с данными"
   ]
  },
  {
   "cell_type": "code",
   "execution_count": 2,
   "id": "eff9f206",
   "metadata": {},
   "outputs": [
    {
     "name": "stdout",
     "output_type": "stream",
     "text": [
      "users_data\n"
     ]
    },
    {
     "data": {
      "text/html": [
       "<div>\n",
       "<style scoped>\n",
       "    .dataframe tbody tr th:only-of-type {\n",
       "        vertical-align: middle;\n",
       "    }\n",
       "\n",
       "    .dataframe tbody tr th {\n",
       "        vertical-align: top;\n",
       "    }\n",
       "\n",
       "    .dataframe thead th {\n",
       "        text-align: right;\n",
       "    }\n",
       "</style>\n",
       "<table border=\"1\" class=\"dataframe\">\n",
       "  <thead>\n",
       "    <tr style=\"text-align: right;\">\n",
       "      <th></th>\n",
       "      <th>user_id</th>\n",
       "      <th>name</th>\n",
       "      <th>age</th>\n",
       "      <th>city</th>\n",
       "      <th>subscription_type</th>\n",
       "    </tr>\n",
       "  </thead>\n",
       "  <tbody>\n",
       "    <tr>\n",
       "      <th>0</th>\n",
       "      <td>1</td>\n",
       "      <td>Кира</td>\n",
       "      <td>22</td>\n",
       "      <td>Тюмень</td>\n",
       "      <td>ultra</td>\n",
       "    </tr>\n",
       "    <tr>\n",
       "      <th>1</th>\n",
       "      <td>2</td>\n",
       "      <td>Станислав</td>\n",
       "      <td>31</td>\n",
       "      <td>Омск</td>\n",
       "      <td>ultra</td>\n",
       "    </tr>\n",
       "    <tr>\n",
       "      <th>2</th>\n",
       "      <td>3</td>\n",
       "      <td>Алексей</td>\n",
       "      <td>20</td>\n",
       "      <td>Москва</td>\n",
       "      <td>ultra</td>\n",
       "    </tr>\n",
       "    <tr>\n",
       "      <th>3</th>\n",
       "      <td>4</td>\n",
       "      <td>Константин</td>\n",
       "      <td>26</td>\n",
       "      <td>Ростов-на-Дону</td>\n",
       "      <td>ultra</td>\n",
       "    </tr>\n",
       "    <tr>\n",
       "      <th>4</th>\n",
       "      <td>5</td>\n",
       "      <td>Адель</td>\n",
       "      <td>28</td>\n",
       "      <td>Омск</td>\n",
       "      <td>ultra</td>\n",
       "    </tr>\n",
       "  </tbody>\n",
       "</table>\n",
       "</div>"
      ],
      "text/plain": [
       "   user_id        name  age            city subscription_type\n",
       "0        1        Кира   22          Тюмень             ultra\n",
       "1        2   Станислав   31            Омск             ultra\n",
       "2        3     Алексей   20          Москва             ultra\n",
       "3        4  Константин   26  Ростов-на-Дону             ultra\n",
       "4        5       Адель   28            Омск             ultra"
      ]
     },
     "metadata": {},
     "output_type": "display_data"
    },
    {
     "name": "stdout",
     "output_type": "stream",
     "text": [
      "<class 'pandas.core.frame.DataFrame'>\n",
      "RangeIndex: 1565 entries, 0 to 1564\n",
      "Data columns (total 5 columns):\n",
      " #   Column             Non-Null Count  Dtype \n",
      "---  ------             --------------  ----- \n",
      " 0   user_id            1565 non-null   int64 \n",
      " 1   name               1565 non-null   object\n",
      " 2   age                1565 non-null   int64 \n",
      " 3   city               1565 non-null   object\n",
      " 4   subscription_type  1565 non-null   object\n",
      "dtypes: int64(2), object(3)\n",
      "memory usage: 61.3+ KB\n",
      "rides_data\n"
     ]
    },
    {
     "data": {
      "text/html": [
       "<div>\n",
       "<style scoped>\n",
       "    .dataframe tbody tr th:only-of-type {\n",
       "        vertical-align: middle;\n",
       "    }\n",
       "\n",
       "    .dataframe tbody tr th {\n",
       "        vertical-align: top;\n",
       "    }\n",
       "\n",
       "    .dataframe thead th {\n",
       "        text-align: right;\n",
       "    }\n",
       "</style>\n",
       "<table border=\"1\" class=\"dataframe\">\n",
       "  <thead>\n",
       "    <tr style=\"text-align: right;\">\n",
       "      <th></th>\n",
       "      <th>user_id</th>\n",
       "      <th>distance</th>\n",
       "      <th>duration</th>\n",
       "      <th>date</th>\n",
       "    </tr>\n",
       "  </thead>\n",
       "  <tbody>\n",
       "    <tr>\n",
       "      <th>0</th>\n",
       "      <td>1</td>\n",
       "      <td>4409.919140</td>\n",
       "      <td>25.599769</td>\n",
       "      <td>2021-01-01</td>\n",
       "    </tr>\n",
       "    <tr>\n",
       "      <th>1</th>\n",
       "      <td>1</td>\n",
       "      <td>2617.592153</td>\n",
       "      <td>15.816871</td>\n",
       "      <td>2021-01-18</td>\n",
       "    </tr>\n",
       "    <tr>\n",
       "      <th>2</th>\n",
       "      <td>1</td>\n",
       "      <td>754.159807</td>\n",
       "      <td>6.232113</td>\n",
       "      <td>2021-04-20</td>\n",
       "    </tr>\n",
       "    <tr>\n",
       "      <th>3</th>\n",
       "      <td>1</td>\n",
       "      <td>2694.783254</td>\n",
       "      <td>18.511000</td>\n",
       "      <td>2021-08-11</td>\n",
       "    </tr>\n",
       "    <tr>\n",
       "      <th>4</th>\n",
       "      <td>1</td>\n",
       "      <td>4028.687306</td>\n",
       "      <td>26.265803</td>\n",
       "      <td>2021-08-28</td>\n",
       "    </tr>\n",
       "  </tbody>\n",
       "</table>\n",
       "</div>"
      ],
      "text/plain": [
       "   user_id     distance   duration        date\n",
       "0        1  4409.919140  25.599769  2021-01-01\n",
       "1        1  2617.592153  15.816871  2021-01-18\n",
       "2        1   754.159807   6.232113  2021-04-20\n",
       "3        1  2694.783254  18.511000  2021-08-11\n",
       "4        1  4028.687306  26.265803  2021-08-28"
      ]
     },
     "metadata": {},
     "output_type": "display_data"
    },
    {
     "name": "stdout",
     "output_type": "stream",
     "text": [
      "<class 'pandas.core.frame.DataFrame'>\n",
      "RangeIndex: 18068 entries, 0 to 18067\n",
      "Data columns (total 4 columns):\n",
      " #   Column    Non-Null Count  Dtype  \n",
      "---  ------    --------------  -----  \n",
      " 0   user_id   18068 non-null  int64  \n",
      " 1   distance  18068 non-null  float64\n",
      " 2   duration  18068 non-null  float64\n",
      " 3   date      18068 non-null  object \n",
      "dtypes: float64(2), int64(1), object(1)\n",
      "memory usage: 564.8+ KB\n",
      "subscriptions_data\n"
     ]
    },
    {
     "data": {
      "text/html": [
       "<div>\n",
       "<style scoped>\n",
       "    .dataframe tbody tr th:only-of-type {\n",
       "        vertical-align: middle;\n",
       "    }\n",
       "\n",
       "    .dataframe tbody tr th {\n",
       "        vertical-align: top;\n",
       "    }\n",
       "\n",
       "    .dataframe thead th {\n",
       "        text-align: right;\n",
       "    }\n",
       "</style>\n",
       "<table border=\"1\" class=\"dataframe\">\n",
       "  <thead>\n",
       "    <tr style=\"text-align: right;\">\n",
       "      <th></th>\n",
       "      <th>subscription_type</th>\n",
       "      <th>minute_price</th>\n",
       "      <th>start_ride_price</th>\n",
       "      <th>subscription_fee</th>\n",
       "    </tr>\n",
       "  </thead>\n",
       "  <tbody>\n",
       "    <tr>\n",
       "      <th>0</th>\n",
       "      <td>free</td>\n",
       "      <td>8</td>\n",
       "      <td>50</td>\n",
       "      <td>0</td>\n",
       "    </tr>\n",
       "    <tr>\n",
       "      <th>1</th>\n",
       "      <td>ultra</td>\n",
       "      <td>6</td>\n",
       "      <td>0</td>\n",
       "      <td>199</td>\n",
       "    </tr>\n",
       "  </tbody>\n",
       "</table>\n",
       "</div>"
      ],
      "text/plain": [
       "  subscription_type  minute_price  start_ride_price  subscription_fee\n",
       "0              free             8                50                 0\n",
       "1             ultra             6                 0               199"
      ]
     },
     "metadata": {},
     "output_type": "display_data"
    },
    {
     "name": "stdout",
     "output_type": "stream",
     "text": [
      "<class 'pandas.core.frame.DataFrame'>\n",
      "RangeIndex: 2 entries, 0 to 1\n",
      "Data columns (total 4 columns):\n",
      " #   Column             Non-Null Count  Dtype \n",
      "---  ------             --------------  ----- \n",
      " 0   subscription_type  2 non-null      object\n",
      " 1   minute_price       2 non-null      int64 \n",
      " 2   start_ride_price   2 non-null      int64 \n",
      " 3   subscription_fee   2 non-null      int64 \n",
      "dtypes: int64(3), object(1)\n",
      "memory usage: 192.0+ bytes\n"
     ]
    }
   ],
   "source": [
    "users_data = pd.read_csv('/datasets/users_go.csv')\n",
    "rides_data = pd.read_csv('/datasets/rides_go.csv')\n",
    "subscriptions_data = pd.read_csv('/datasets/subscriptions_go.csv')\n",
    "\n",
    "print('users_data')\n",
    "display(users_data.head())\n",
    "users_data.info()\n",
    "\n",
    "print('rides_data')\n",
    "display(rides_data.head())\n",
    "rides_data.info()\n",
    "\n",
    "print('subscriptions_data')\n",
    "display(subscriptions_data.head())\n",
    "subscriptions_data.info()"
   ]
  },
  {
   "cell_type": "markdown",
   "id": "8000d1c7",
   "metadata": {},
   "source": [
    "Таким образом, у нас имеются 3 датафрейма:\n",
    "- первый содержит данные о каждом уникальном пользователе\n",
    "- второй содержит данные о каждой совершенной в сервисе поездке\n",
    "- третий - данные о тарификации поездки без подписки и с ней\n",
    "\n",
    "Пропуски в данных отсутствуют, необходимо в рамках предобработки данных изменить соответствующие типы данных и проверить данные на предмет дубликатов."
   ]
  },
  {
   "cell_type": "markdown",
   "id": "e95ebca7",
   "metadata": {},
   "source": [
    "#### Шаг 2. Предобработка данных"
   ]
  },
  {
   "cell_type": "markdown",
   "id": "2b1544a1",
   "metadata": {},
   "source": [
    "**Изменение типа данных**"
   ]
  },
  {
   "cell_type": "code",
   "execution_count": 3,
   "id": "af6d202c",
   "metadata": {
    "scrolled": true
   },
   "outputs": [
    {
     "name": "stdout",
     "output_type": "stream",
     "text": [
      "<class 'pandas.core.frame.DataFrame'>\n",
      "RangeIndex: 18068 entries, 0 to 18067\n",
      "Data columns (total 4 columns):\n",
      " #   Column    Non-Null Count  Dtype         \n",
      "---  ------    --------------  -----         \n",
      " 0   user_id   18068 non-null  int64         \n",
      " 1   distance  18068 non-null  float64       \n",
      " 2   duration  18068 non-null  float64       \n",
      " 3   date      18068 non-null  datetime64[ns]\n",
      "dtypes: datetime64[ns](1), float64(2), int64(1)\n",
      "memory usage: 564.8 KB\n"
     ]
    }
   ],
   "source": [
    "rides_data['date'] = pd.to_datetime(rides_data['date'], format='%Y-%m-%d')\n",
    "rides_data.info()"
   ]
  },
  {
   "cell_type": "markdown",
   "id": "1e0d4dbc",
   "metadata": {},
   "source": [
    "**Создание столбца с номером месяца**"
   ]
  },
  {
   "cell_type": "code",
   "execution_count": 4,
   "id": "d64b7f5e",
   "metadata": {
    "scrolled": true
   },
   "outputs": [
    {
     "name": "stdout",
     "output_type": "stream",
     "text": [
      "Данные представлены за 2021 год.\n"
     ]
    },
    {
     "data": {
      "text/html": [
       "<div>\n",
       "<style scoped>\n",
       "    .dataframe tbody tr th:only-of-type {\n",
       "        vertical-align: middle;\n",
       "    }\n",
       "\n",
       "    .dataframe tbody tr th {\n",
       "        vertical-align: top;\n",
       "    }\n",
       "\n",
       "    .dataframe thead th {\n",
       "        text-align: right;\n",
       "    }\n",
       "</style>\n",
       "<table border=\"1\" class=\"dataframe\">\n",
       "  <thead>\n",
       "    <tr style=\"text-align: right;\">\n",
       "      <th></th>\n",
       "      <th>user_id</th>\n",
       "      <th>distance</th>\n",
       "      <th>duration</th>\n",
       "      <th>date</th>\n",
       "      <th>month</th>\n",
       "      <th>year</th>\n",
       "    </tr>\n",
       "  </thead>\n",
       "  <tbody>\n",
       "    <tr>\n",
       "      <th>0</th>\n",
       "      <td>1</td>\n",
       "      <td>4409.919140</td>\n",
       "      <td>25.599769</td>\n",
       "      <td>2021-01-01</td>\n",
       "      <td>1</td>\n",
       "      <td>2021</td>\n",
       "    </tr>\n",
       "    <tr>\n",
       "      <th>1</th>\n",
       "      <td>1</td>\n",
       "      <td>2617.592153</td>\n",
       "      <td>15.816871</td>\n",
       "      <td>2021-01-18</td>\n",
       "      <td>1</td>\n",
       "      <td>2021</td>\n",
       "    </tr>\n",
       "    <tr>\n",
       "      <th>2</th>\n",
       "      <td>1</td>\n",
       "      <td>754.159807</td>\n",
       "      <td>6.232113</td>\n",
       "      <td>2021-04-20</td>\n",
       "      <td>4</td>\n",
       "      <td>2021</td>\n",
       "    </tr>\n",
       "    <tr>\n",
       "      <th>3</th>\n",
       "      <td>1</td>\n",
       "      <td>2694.783254</td>\n",
       "      <td>18.511000</td>\n",
       "      <td>2021-08-11</td>\n",
       "      <td>8</td>\n",
       "      <td>2021</td>\n",
       "    </tr>\n",
       "    <tr>\n",
       "      <th>4</th>\n",
       "      <td>1</td>\n",
       "      <td>4028.687306</td>\n",
       "      <td>26.265803</td>\n",
       "      <td>2021-08-28</td>\n",
       "      <td>8</td>\n",
       "      <td>2021</td>\n",
       "    </tr>\n",
       "  </tbody>\n",
       "</table>\n",
       "</div>"
      ],
      "text/plain": [
       "   user_id     distance   duration       date  month  year\n",
       "0        1  4409.919140  25.599769 2021-01-01      1  2021\n",
       "1        1  2617.592153  15.816871 2021-01-18      1  2021\n",
       "2        1   754.159807   6.232113 2021-04-20      4  2021\n",
       "3        1  2694.783254  18.511000 2021-08-11      8  2021\n",
       "4        1  4028.687306  26.265803 2021-08-28      8  2021"
      ]
     },
     "execution_count": 4,
     "metadata": {},
     "output_type": "execute_result"
    }
   ],
   "source": [
    "rides_data['month'] = rides_data['date'].dt.month\n",
    "\n",
    "rides_data['year'] = rides_data['date'].dt.year\n",
    "year = int(rides_data['year'].unique())\n",
    "print(f'Данные представлены за {year} год.')\n",
    "\n",
    "rides_data.head()"
   ]
  },
  {
   "cell_type": "markdown",
   "id": "8852d301",
   "metadata": {},
   "source": [
    "**Поиск пропусков**"
   ]
  },
  {
   "cell_type": "code",
   "execution_count": 5,
   "id": "f7b0f96f",
   "metadata": {
    "scrolled": true
   },
   "outputs": [
    {
     "name": "stdout",
     "output_type": "stream",
     "text": [
      "user_id              0\n",
      "name                 0\n",
      "age                  0\n",
      "city                 0\n",
      "subscription_type    0\n",
      "dtype: int64\n",
      "\n",
      "user_id     0\n",
      "distance    0\n",
      "duration    0\n",
      "date        0\n",
      "month       0\n",
      "year        0\n",
      "dtype: int64\n",
      "\n",
      "subscription_type    0\n",
      "minute_price         0\n",
      "start_ride_price     0\n",
      "subscription_fee     0\n",
      "dtype: int64\n",
      "\n"
     ]
    }
   ],
   "source": [
    "df_list = [users_data, rides_data, subscriptions_data]\n",
    "count = 0\n",
    "for df in df_list:\n",
    "    print(df.isna().sum())\n",
    "    print()"
   ]
  },
  {
   "cell_type": "markdown",
   "id": "99f1b388",
   "metadata": {},
   "source": [
    "**Поиск дубликатов**"
   ]
  },
  {
   "cell_type": "code",
   "execution_count": 6,
   "id": "3b24e4a9",
   "metadata": {
    "scrolled": true
   },
   "outputs": [
    {
     "name": "stdout",
     "output_type": "stream",
     "text": [
      "31\n",
      "\n",
      "0\n",
      "\n",
      "0\n",
      "\n"
     ]
    }
   ],
   "source": [
    "df_list = [users_data, rides_data, subscriptions_data]\n",
    "count = 0\n",
    "for df in df_list:\n",
    "    print(df.duplicated().sum())\n",
    "    print()"
   ]
  },
  {
   "cell_type": "code",
   "execution_count": 7,
   "id": "f9fae0fb",
   "metadata": {
    "scrolled": true
   },
   "outputs": [
    {
     "data": {
      "text/html": [
       "<div>\n",
       "<style scoped>\n",
       "    .dataframe tbody tr th:only-of-type {\n",
       "        vertical-align: middle;\n",
       "    }\n",
       "\n",
       "    .dataframe tbody tr th {\n",
       "        vertical-align: top;\n",
       "    }\n",
       "\n",
       "    .dataframe thead th {\n",
       "        text-align: right;\n",
       "    }\n",
       "</style>\n",
       "<table border=\"1\" class=\"dataframe\">\n",
       "  <thead>\n",
       "    <tr style=\"text-align: right;\">\n",
       "      <th></th>\n",
       "      <th>user_id</th>\n",
       "      <th>name</th>\n",
       "      <th>age</th>\n",
       "      <th>city</th>\n",
       "      <th>subscription_type</th>\n",
       "    </tr>\n",
       "  </thead>\n",
       "  <tbody>\n",
       "    <tr>\n",
       "      <th>1534</th>\n",
       "      <td>293</td>\n",
       "      <td>Агата</td>\n",
       "      <td>26</td>\n",
       "      <td>Краснодар</td>\n",
       "      <td>ultra</td>\n",
       "    </tr>\n",
       "    <tr>\n",
       "      <th>1535</th>\n",
       "      <td>16</td>\n",
       "      <td>Амалия</td>\n",
       "      <td>27</td>\n",
       "      <td>Краснодар</td>\n",
       "      <td>ultra</td>\n",
       "    </tr>\n",
       "    <tr>\n",
       "      <th>1536</th>\n",
       "      <td>909</td>\n",
       "      <td>Константин</td>\n",
       "      <td>20</td>\n",
       "      <td>Екатеринбург</td>\n",
       "      <td>free</td>\n",
       "    </tr>\n",
       "    <tr>\n",
       "      <th>1537</th>\n",
       "      <td>403</td>\n",
       "      <td>Полина</td>\n",
       "      <td>19</td>\n",
       "      <td>Сочи</td>\n",
       "      <td>ultra</td>\n",
       "    </tr>\n",
       "    <tr>\n",
       "      <th>1538</th>\n",
       "      <td>908</td>\n",
       "      <td>Рустам</td>\n",
       "      <td>30</td>\n",
       "      <td>Тюмень</td>\n",
       "      <td>free</td>\n",
       "    </tr>\n",
       "    <tr>\n",
       "      <th>1539</th>\n",
       "      <td>43</td>\n",
       "      <td>Стефания</td>\n",
       "      <td>22</td>\n",
       "      <td>Омск</td>\n",
       "      <td>ultra</td>\n",
       "    </tr>\n",
       "    <tr>\n",
       "      <th>1540</th>\n",
       "      <td>127</td>\n",
       "      <td>Павел</td>\n",
       "      <td>25</td>\n",
       "      <td>Пятигорск</td>\n",
       "      <td>ultra</td>\n",
       "    </tr>\n",
       "    <tr>\n",
       "      <th>1541</th>\n",
       "      <td>659</td>\n",
       "      <td>Злата</td>\n",
       "      <td>27</td>\n",
       "      <td>Ростов-на-Дону</td>\n",
       "      <td>ultra</td>\n",
       "    </tr>\n",
       "    <tr>\n",
       "      <th>1542</th>\n",
       "      <td>204</td>\n",
       "      <td>Руслан</td>\n",
       "      <td>30</td>\n",
       "      <td>Пятигорск</td>\n",
       "      <td>ultra</td>\n",
       "    </tr>\n",
       "    <tr>\n",
       "      <th>1543</th>\n",
       "      <td>153</td>\n",
       "      <td>Герман</td>\n",
       "      <td>23</td>\n",
       "      <td>Москва</td>\n",
       "      <td>ultra</td>\n",
       "    </tr>\n",
       "    <tr>\n",
       "      <th>1544</th>\n",
       "      <td>1245</td>\n",
       "      <td>Регина</td>\n",
       "      <td>27</td>\n",
       "      <td>Пятигорск</td>\n",
       "      <td>free</td>\n",
       "    </tr>\n",
       "    <tr>\n",
       "      <th>1545</th>\n",
       "      <td>807</td>\n",
       "      <td>Александр</td>\n",
       "      <td>28</td>\n",
       "      <td>Екатеринбург</td>\n",
       "      <td>free</td>\n",
       "    </tr>\n",
       "    <tr>\n",
       "      <th>1546</th>\n",
       "      <td>924</td>\n",
       "      <td>Мария</td>\n",
       "      <td>23</td>\n",
       "      <td>Пятигорск</td>\n",
       "      <td>free</td>\n",
       "    </tr>\n",
       "    <tr>\n",
       "      <th>1547</th>\n",
       "      <td>635</td>\n",
       "      <td>Герман</td>\n",
       "      <td>21</td>\n",
       "      <td>Москва</td>\n",
       "      <td>ultra</td>\n",
       "    </tr>\n",
       "    <tr>\n",
       "      <th>1548</th>\n",
       "      <td>136</td>\n",
       "      <td>Марсель</td>\n",
       "      <td>25</td>\n",
       "      <td>Тюмень</td>\n",
       "      <td>ultra</td>\n",
       "    </tr>\n",
       "    <tr>\n",
       "      <th>1549</th>\n",
       "      <td>108</td>\n",
       "      <td>Влада</td>\n",
       "      <td>29</td>\n",
       "      <td>Тюмень</td>\n",
       "      <td>ultra</td>\n",
       "    </tr>\n",
       "    <tr>\n",
       "      <th>1550</th>\n",
       "      <td>737</td>\n",
       "      <td>Мелания</td>\n",
       "      <td>27</td>\n",
       "      <td>Ростов-на-Дону</td>\n",
       "      <td>free</td>\n",
       "    </tr>\n",
       "    <tr>\n",
       "      <th>1551</th>\n",
       "      <td>666</td>\n",
       "      <td>Зарина</td>\n",
       "      <td>29</td>\n",
       "      <td>Москва</td>\n",
       "      <td>ultra</td>\n",
       "    </tr>\n",
       "    <tr>\n",
       "      <th>1552</th>\n",
       "      <td>297</td>\n",
       "      <td>Егор</td>\n",
       "      <td>33</td>\n",
       "      <td>Пятигорск</td>\n",
       "      <td>ultra</td>\n",
       "    </tr>\n",
       "    <tr>\n",
       "      <th>1553</th>\n",
       "      <td>121</td>\n",
       "      <td>Алина</td>\n",
       "      <td>25</td>\n",
       "      <td>Пятигорск</td>\n",
       "      <td>ultra</td>\n",
       "    </tr>\n",
       "    <tr>\n",
       "      <th>1554</th>\n",
       "      <td>1198</td>\n",
       "      <td>Демид</td>\n",
       "      <td>29</td>\n",
       "      <td>Ростов-на-Дону</td>\n",
       "      <td>free</td>\n",
       "    </tr>\n",
       "    <tr>\n",
       "      <th>1555</th>\n",
       "      <td>72</td>\n",
       "      <td>Никита</td>\n",
       "      <td>25</td>\n",
       "      <td>Москва</td>\n",
       "      <td>ultra</td>\n",
       "    </tr>\n",
       "    <tr>\n",
       "      <th>1556</th>\n",
       "      <td>422</td>\n",
       "      <td>Кирилл</td>\n",
       "      <td>27</td>\n",
       "      <td>Сочи</td>\n",
       "      <td>ultra</td>\n",
       "    </tr>\n",
       "    <tr>\n",
       "      <th>1557</th>\n",
       "      <td>611</td>\n",
       "      <td>Владимир</td>\n",
       "      <td>28</td>\n",
       "      <td>Омск</td>\n",
       "      <td>ultra</td>\n",
       "    </tr>\n",
       "    <tr>\n",
       "      <th>1558</th>\n",
       "      <td>1237</td>\n",
       "      <td>Евгения</td>\n",
       "      <td>23</td>\n",
       "      <td>Тюмень</td>\n",
       "      <td>free</td>\n",
       "    </tr>\n",
       "    <tr>\n",
       "      <th>1559</th>\n",
       "      <td>209</td>\n",
       "      <td>Андрей</td>\n",
       "      <td>23</td>\n",
       "      <td>Омск</td>\n",
       "      <td>ultra</td>\n",
       "    </tr>\n",
       "    <tr>\n",
       "      <th>1560</th>\n",
       "      <td>829</td>\n",
       "      <td>Федор</td>\n",
       "      <td>29</td>\n",
       "      <td>Пятигорск</td>\n",
       "      <td>free</td>\n",
       "    </tr>\n",
       "    <tr>\n",
       "      <th>1561</th>\n",
       "      <td>809</td>\n",
       "      <td>Юрий</td>\n",
       "      <td>26</td>\n",
       "      <td>Сочи</td>\n",
       "      <td>free</td>\n",
       "    </tr>\n",
       "    <tr>\n",
       "      <th>1562</th>\n",
       "      <td>307</td>\n",
       "      <td>Ясмина</td>\n",
       "      <td>19</td>\n",
       "      <td>Краснодар</td>\n",
       "      <td>ultra</td>\n",
       "    </tr>\n",
       "    <tr>\n",
       "      <th>1563</th>\n",
       "      <td>47</td>\n",
       "      <td>Юрий</td>\n",
       "      <td>28</td>\n",
       "      <td>Тюмень</td>\n",
       "      <td>ultra</td>\n",
       "    </tr>\n",
       "    <tr>\n",
       "      <th>1564</th>\n",
       "      <td>1045</td>\n",
       "      <td>Артемий</td>\n",
       "      <td>28</td>\n",
       "      <td>Ростов-на-Дону</td>\n",
       "      <td>free</td>\n",
       "    </tr>\n",
       "  </tbody>\n",
       "</table>\n",
       "</div>"
      ],
      "text/plain": [
       "      user_id        name  age            city subscription_type\n",
       "1534      293       Агата   26       Краснодар             ultra\n",
       "1535       16      Амалия   27       Краснодар             ultra\n",
       "1536      909  Константин   20    Екатеринбург              free\n",
       "1537      403      Полина   19            Сочи             ultra\n",
       "1538      908      Рустам   30          Тюмень              free\n",
       "1539       43    Стефания   22            Омск             ultra\n",
       "1540      127       Павел   25       Пятигорск             ultra\n",
       "1541      659       Злата   27  Ростов-на-Дону             ultra\n",
       "1542      204      Руслан   30       Пятигорск             ultra\n",
       "1543      153      Герман   23          Москва             ultra\n",
       "1544     1245      Регина   27       Пятигорск              free\n",
       "1545      807   Александр   28    Екатеринбург              free\n",
       "1546      924       Мария   23       Пятигорск              free\n",
       "1547      635      Герман   21          Москва             ultra\n",
       "1548      136     Марсель   25          Тюмень             ultra\n",
       "1549      108       Влада   29          Тюмень             ultra\n",
       "1550      737     Мелания   27  Ростов-на-Дону              free\n",
       "1551      666      Зарина   29          Москва             ultra\n",
       "1552      297        Егор   33       Пятигорск             ultra\n",
       "1553      121       Алина   25       Пятигорск             ultra\n",
       "1554     1198       Демид   29  Ростов-на-Дону              free\n",
       "1555       72      Никита   25          Москва             ultra\n",
       "1556      422      Кирилл   27            Сочи             ultra\n",
       "1557      611    Владимир   28            Омск             ultra\n",
       "1558     1237     Евгения   23          Тюмень              free\n",
       "1559      209      Андрей   23            Омск             ultra\n",
       "1560      829       Федор   29       Пятигорск              free\n",
       "1561      809        Юрий   26            Сочи              free\n",
       "1562      307      Ясмина   19       Краснодар             ultra\n",
       "1563       47        Юрий   28          Тюмень             ultra\n",
       "1564     1045     Артемий   28  Ростов-на-Дону              free"
      ]
     },
     "execution_count": 7,
     "metadata": {},
     "output_type": "execute_result"
    }
   ],
   "source": [
    "duplicates = users_data.loc[users_data.duplicated()]\n",
    "duplicates"
   ]
  },
  {
   "cell_type": "markdown",
   "id": "96527690",
   "metadata": {},
   "source": [
    "**Обработка дубликатов**"
   ]
  },
  {
   "cell_type": "code",
   "execution_count": 8,
   "id": "cb1a465f",
   "metadata": {},
   "outputs": [
    {
     "data": {
      "text/plain": [
       "0"
      ]
     },
     "execution_count": 8,
     "metadata": {},
     "output_type": "execute_result"
    }
   ],
   "source": [
    "users_data = users_data.drop_duplicates()\n",
    "users_data.duplicated().sum()"
   ]
  },
  {
   "cell_type": "markdown",
   "id": "ebb8bad4",
   "metadata": {},
   "source": [
    "Сделали предобработку данных:\n",
    "- убедились, что пропусков точно нет\n",
    "- изменили тип данных у столбца с датой\n",
    "- добавили столбцы с информацией о месяце каждой поездки и годе - данные предоставлены за 21 год\n",
    "- избавились от 31 дубликата в данных о пользователях"
   ]
  },
  {
   "cell_type": "markdown",
   "id": "212593c7",
   "metadata": {},
   "source": [
    "## Исследовательский анализ данных"
   ]
  },
  {
   "cell_type": "markdown",
   "id": "3fd4773e",
   "metadata": {},
   "source": [
    "Опишите и визуализируйте общую информацию о пользователях и поездках:\n",
    "3.1 частота встречаемости городов;\n",
    "3.2 соотношение пользователей с подпиской и без подписки;\n",
    "3.3 возраст пользователей;\n",
    "3.4 расстояние, которое пользователь преодолел за одну поездку;\n",
    "3.5 продолжительность поездок."
   ]
  },
  {
   "cell_type": "markdown",
   "id": "6ce021f4",
   "metadata": {},
   "source": [
    "**Частота встречаемости городов**"
   ]
  },
  {
   "cell_type": "code",
   "execution_count": 9,
   "id": "17fa6f0e",
   "metadata": {
    "scrolled": true
   },
   "outputs": [
    {
     "data": {
      "text/plain": [
       "Пятигорск         219\n",
       "Екатеринбург      204\n",
       "Ростов-на-Дону    198\n",
       "Краснодар         193\n",
       "Сочи              189\n",
       "Омск              183\n",
       "Тюмень            180\n",
       "Москва            168\n",
       "Name: city, dtype: int64"
      ]
     },
     "execution_count": 9,
     "metadata": {},
     "output_type": "execute_result"
    }
   ],
   "source": [
    "town_pivot = users_data['city'].value_counts()\n",
    "town_pivot"
   ]
  },
  {
   "cell_type": "code",
   "execution_count": 10,
   "id": "0c054b43",
   "metadata": {},
   "outputs": [
    {
     "data": {
      "image/png": "[encoded data removed]",
      "text/plain": [
       "<Figure size 432x288 with 1 Axes>"
      ]
     },
     "metadata": {
      "needs_background": "light"
     },
     "output_type": "display_data"
    }
   ],
   "source": [
    "fig, ax = plt.subplots()\n",
    "\n",
    "ax.set_ylabel('Встречаемость')\n",
    "ax.set_title('Встречаемость городов')\n",
    "\n",
    "towns = ax.bar(town_pivot.index, town_pivot)\n",
    "plt.xticks(rotation= 60)\n",
    "\n",
    "for elem in towns:\n",
    "   height = elem.get_height()\n",
    "   ax.annotate('{}'.format(height),\n",
    "      xy=(elem.get_x() + elem.get_width() / 2, height))\n",
    "plt.show()"
   ]
  },
  {
   "cell_type": "markdown",
   "id": "7c483e1d",
   "metadata": {},
   "source": [
    "**Соотношение пользователей с подпиской и без подписки**"
   ]
  },
  {
   "cell_type": "code",
   "execution_count": 11,
   "id": "64a3c644",
   "metadata": {
    "scrolled": true
   },
   "outputs": [
    {
     "name": "stdout",
     "output_type": "stream",
     "text": [
      "Соотношение пользователей с подпиской к пользователем без: 0.84\n",
      "Соотношение пользователей с подпиской к общему числу пользователей: 0.46\n",
      "Соотношение пользователей без подписки к общему числу пользователей: 0.54\n"
     ]
    }
   ],
   "source": [
    "sub_to_nosub = users_data.query('subscription_type == \"ultra\"')['subscription_type'].count() \\\n",
    "/ users_data.query('subscription_type == \"free\"')['subscription_type'].count()\n",
    "print('Соотношение пользователей с подпиской к пользователем без:', round(sub_to_nosub,2))\n",
    "\n",
    "sub_to_all = users_data.query('subscription_type == \"ultra\"')['subscription_type'].count() \\\n",
    "/ users_data['subscription_type'].count()\n",
    "print('Соотношение пользователей с подпиской к общему числу пользователей:', round(sub_to_all, 2))\n",
    "\n",
    "nosub_to_all = users_data.query('subscription_type == \"free\"')['subscription_type'].count() \\\n",
    "/ users_data['subscription_type'].count()\n",
    "print('Соотношение пользователей без подписки к общему числу пользователей:', round(nosub_to_all, 2))"
   ]
  },
  {
   "cell_type": "code",
   "execution_count": 12,
   "id": "b8a85db9",
   "metadata": {},
   "outputs": [
    {
     "data": {
      "image/png": "[encoded data removed]",
      "text/plain": [
       "<Figure size 432x288 with 1 Axes>"
      ]
     },
     "metadata": {},
     "output_type": "display_data"
    }
   ],
   "source": [
    "fig, ax = plt.subplots()\n",
    "sizes = [sub_to_all, nosub_to_all]\n",
    "labels = 'имеют подписку', 'нет подписки'\n",
    "ax.pie(sizes, labels= labels, autopct='%1.1f%%');"
   ]
  },
  {
   "cell_type": "markdown",
   "id": "a00259d6",
   "metadata": {},
   "source": [
    "Примерно равное количество пользователей с подпиской и без, однако пользователей без подписки больше - 54% против 45%."
   ]
  },
  {
   "cell_type": "markdown",
   "id": "1c926811",
   "metadata": {},
   "source": [
    "**Возраст пользователей**"
   ]
  },
  {
   "cell_type": "code",
   "execution_count": 13,
   "id": "63efa94a",
   "metadata": {},
   "outputs": [
    {
     "data": {
      "image/png": "[encoded data removed]",
      "text/plain": [
       "<Figure size 432x288 with 1 Axes>"
      ]
     },
     "metadata": {
      "needs_background": "light"
     },
     "output_type": "display_data"
    }
   ],
   "source": [
    "users_data['age'].plot(kind= 'hist')\n",
    "plt.title('Распределение пользователей по возрасту')\n",
    "plt.xlabel('Возраст')\n",
    "plt.ylabel('Количество пользователей');"
   ]
  },
  {
   "cell_type": "markdown",
   "id": "9578c64f",
   "metadata": {},
   "source": [
    "Средний возраст пользователей около 25 лет - около 800 человек из выборки, младше 15 лет и старше 35 встречаются единицы."
   ]
  },
  {
   "cell_type": "markdown",
   "id": "dc0c0700",
   "metadata": {},
   "source": [
    "**Расстояние, которое пользователь преодолел за одну поездку**"
   ]
  },
  {
   "cell_type": "code",
   "execution_count": 14,
   "id": "13d96c7e",
   "metadata": {
    "scrolled": true
   },
   "outputs": [
    {
     "data": {
      "image/png": "[encoded data removed]",
      "text/plain": [
       "<Figure size 432x288 with 1 Axes>"
      ]
     },
     "metadata": {
      "needs_background": "light"
     },
     "output_type": "display_data"
    }
   ],
   "source": [
    "rides_data['distance'].plot(kind= 'hist', bins= 100);\n",
    "plt.title('Распределение поездок по расстоянию')\n",
    "plt.xlabel('Расстояние, м')\n",
    "plt.ylabel('Количество поездок');"
   ]
  },
  {
   "cell_type": "markdown",
   "id": "d1066cc0",
   "metadata": {},
   "source": [
    "Судя по гистограмме все поездки можно разделить на 2 типа - короткие(600м в среднем) и длинные (3,5км в среднем)."
   ]
  },
  {
   "cell_type": "markdown",
   "id": "4c5af14f",
   "metadata": {},
   "source": [
    "**Продолжительность поездок**"
   ]
  },
  {
   "cell_type": "code",
   "execution_count": 15,
   "id": "92d3ab9c",
   "metadata": {
    "scrolled": true
   },
   "outputs": [
    {
     "data": {
      "image/png": "[encoded data removed]",
      "text/plain": [
       "<Figure size 432x288 with 1 Axes>"
      ]
     },
     "metadata": {
      "needs_background": "light"
     },
     "output_type": "display_data"
    }
   ],
   "source": [
    "rides_data['duration'].plot(kind= 'hist', bins= 100);\n",
    "plt.title('Распределение поездок по длительности')\n",
    "plt.xlabel('Длительность, мин')\n",
    "plt.ylabel('Количество поездок');"
   ]
  },
  {
   "cell_type": "markdown",
   "id": "ac49f582",
   "metadata": {},
   "source": [
    "Исходя из распределения дальности поездки ожидалось аналогичное распределение\n",
    "у длительности поездки, однако мы видим нормальное распределение с одним пиком на уровне около 20 минут. Единственным логичным \n",
    "объяснением на данный момент кажется разница средней скорости между пользователей с короткими и длинными поездками.\n",
    "\n",
    "Также на себя обращает внимание 100 поездок с длительностью около 0 - аренда была завершена практически сразу после начала.\n",
    "Будем помнить про эту группу и уберем ее, если она будет влиять на выводы."
   ]
  },
  {
   "cell_type": "markdown",
   "id": "4ef51331",
   "metadata": {},
   "source": [
    "#### Шаг 4. Объединение данных"
   ]
  },
  {
   "cell_type": "markdown",
   "id": "d05b3249",
   "metadata": {},
   "source": [
    "**Объединение данных в один датафрейм**"
   ]
  },
  {
   "cell_type": "code",
   "execution_count": 16,
   "id": "8c420b94",
   "metadata": {},
   "outputs": [
    {
     "data": {
      "text/html": [
       "<div>\n",
       "<style scoped>\n",
       "    .dataframe tbody tr th:only-of-type {\n",
       "        vertical-align: middle;\n",
       "    }\n",
       "\n",
       "    .dataframe tbody tr th {\n",
       "        vertical-align: top;\n",
       "    }\n",
       "\n",
       "    .dataframe thead th {\n",
       "        text-align: right;\n",
       "    }\n",
       "</style>\n",
       "<table border=\"1\" class=\"dataframe\">\n",
       "  <thead>\n",
       "    <tr style=\"text-align: right;\">\n",
       "      <th></th>\n",
       "      <th>user_id</th>\n",
       "      <th>distance</th>\n",
       "      <th>duration</th>\n",
       "      <th>date</th>\n",
       "      <th>month</th>\n",
       "      <th>year</th>\n",
       "      <th>name</th>\n",
       "      <th>age</th>\n",
       "      <th>city</th>\n",
       "      <th>subscription_type</th>\n",
       "      <th>minute_price</th>\n",
       "      <th>start_ride_price</th>\n",
       "      <th>subscription_fee</th>\n",
       "    </tr>\n",
       "  </thead>\n",
       "  <tbody>\n",
       "    <tr>\n",
       "      <th>0</th>\n",
       "      <td>1</td>\n",
       "      <td>4409.919140</td>\n",
       "      <td>25.599769</td>\n",
       "      <td>2021-01-01</td>\n",
       "      <td>1</td>\n",
       "      <td>2021</td>\n",
       "      <td>Кира</td>\n",
       "      <td>22</td>\n",
       "      <td>Тюмень</td>\n",
       "      <td>ultra</td>\n",
       "      <td>6</td>\n",
       "      <td>0</td>\n",
       "      <td>199</td>\n",
       "    </tr>\n",
       "    <tr>\n",
       "      <th>1</th>\n",
       "      <td>1</td>\n",
       "      <td>2617.592153</td>\n",
       "      <td>15.816871</td>\n",
       "      <td>2021-01-18</td>\n",
       "      <td>1</td>\n",
       "      <td>2021</td>\n",
       "      <td>Кира</td>\n",
       "      <td>22</td>\n",
       "      <td>Тюмень</td>\n",
       "      <td>ultra</td>\n",
       "      <td>6</td>\n",
       "      <td>0</td>\n",
       "      <td>199</td>\n",
       "    </tr>\n",
       "    <tr>\n",
       "      <th>2</th>\n",
       "      <td>1</td>\n",
       "      <td>754.159807</td>\n",
       "      <td>6.232113</td>\n",
       "      <td>2021-04-20</td>\n",
       "      <td>4</td>\n",
       "      <td>2021</td>\n",
       "      <td>Кира</td>\n",
       "      <td>22</td>\n",
       "      <td>Тюмень</td>\n",
       "      <td>ultra</td>\n",
       "      <td>6</td>\n",
       "      <td>0</td>\n",
       "      <td>199</td>\n",
       "    </tr>\n",
       "    <tr>\n",
       "      <th>3</th>\n",
       "      <td>1</td>\n",
       "      <td>2694.783254</td>\n",
       "      <td>18.511000</td>\n",
       "      <td>2021-08-11</td>\n",
       "      <td>8</td>\n",
       "      <td>2021</td>\n",
       "      <td>Кира</td>\n",
       "      <td>22</td>\n",
       "      <td>Тюмень</td>\n",
       "      <td>ultra</td>\n",
       "      <td>6</td>\n",
       "      <td>0</td>\n",
       "      <td>199</td>\n",
       "    </tr>\n",
       "    <tr>\n",
       "      <th>4</th>\n",
       "      <td>1</td>\n",
       "      <td>4028.687306</td>\n",
       "      <td>26.265803</td>\n",
       "      <td>2021-08-28</td>\n",
       "      <td>8</td>\n",
       "      <td>2021</td>\n",
       "      <td>Кира</td>\n",
       "      <td>22</td>\n",
       "      <td>Тюмень</td>\n",
       "      <td>ultra</td>\n",
       "      <td>6</td>\n",
       "      <td>0</td>\n",
       "      <td>199</td>\n",
       "    </tr>\n",
       "    <tr>\n",
       "      <th>...</th>\n",
       "      <td>...</td>\n",
       "      <td>...</td>\n",
       "      <td>...</td>\n",
       "      <td>...</td>\n",
       "      <td>...</td>\n",
       "      <td>...</td>\n",
       "      <td>...</td>\n",
       "      <td>...</td>\n",
       "      <td>...</td>\n",
       "      <td>...</td>\n",
       "      <td>...</td>\n",
       "      <td>...</td>\n",
       "      <td>...</td>\n",
       "    </tr>\n",
       "    <tr>\n",
       "      <th>18063</th>\n",
       "      <td>1534</td>\n",
       "      <td>3781.098080</td>\n",
       "      <td>19.822962</td>\n",
       "      <td>2021-11-04</td>\n",
       "      <td>11</td>\n",
       "      <td>2021</td>\n",
       "      <td>Альберт</td>\n",
       "      <td>25</td>\n",
       "      <td>Краснодар</td>\n",
       "      <td>free</td>\n",
       "      <td>8</td>\n",
       "      <td>50</td>\n",
       "      <td>0</td>\n",
       "    </tr>\n",
       "    <tr>\n",
       "      <th>18064</th>\n",
       "      <td>1534</td>\n",
       "      <td>2840.423057</td>\n",
       "      <td>21.409799</td>\n",
       "      <td>2021-11-16</td>\n",
       "      <td>11</td>\n",
       "      <td>2021</td>\n",
       "      <td>Альберт</td>\n",
       "      <td>25</td>\n",
       "      <td>Краснодар</td>\n",
       "      <td>free</td>\n",
       "      <td>8</td>\n",
       "      <td>50</td>\n",
       "      <td>0</td>\n",
       "    </tr>\n",
       "    <tr>\n",
       "      <th>18065</th>\n",
       "      <td>1534</td>\n",
       "      <td>3826.185507</td>\n",
       "      <td>18.435051</td>\n",
       "      <td>2021-11-18</td>\n",
       "      <td>11</td>\n",
       "      <td>2021</td>\n",
       "      <td>Альберт</td>\n",
       "      <td>25</td>\n",
       "      <td>Краснодар</td>\n",
       "      <td>free</td>\n",
       "      <td>8</td>\n",
       "      <td>50</td>\n",
       "      <td>0</td>\n",
       "    </tr>\n",
       "    <tr>\n",
       "      <th>18066</th>\n",
       "      <td>1534</td>\n",
       "      <td>2902.308661</td>\n",
       "      <td>16.674362</td>\n",
       "      <td>2021-11-27</td>\n",
       "      <td>11</td>\n",
       "      <td>2021</td>\n",
       "      <td>Альберт</td>\n",
       "      <td>25</td>\n",
       "      <td>Краснодар</td>\n",
       "      <td>free</td>\n",
       "      <td>8</td>\n",
       "      <td>50</td>\n",
       "      <td>0</td>\n",
       "    </tr>\n",
       "    <tr>\n",
       "      <th>18067</th>\n",
       "      <td>1534</td>\n",
       "      <td>2371.711192</td>\n",
       "      <td>15.893917</td>\n",
       "      <td>2021-12-29</td>\n",
       "      <td>12</td>\n",
       "      <td>2021</td>\n",
       "      <td>Альберт</td>\n",
       "      <td>25</td>\n",
       "      <td>Краснодар</td>\n",
       "      <td>free</td>\n",
       "      <td>8</td>\n",
       "      <td>50</td>\n",
       "      <td>0</td>\n",
       "    </tr>\n",
       "  </tbody>\n",
       "</table>\n",
       "<p>18068 rows × 13 columns</p>\n",
       "</div>"
      ],
      "text/plain": [
       "       user_id     distance   duration       date  month  year     name  age  \\\n",
       "0            1  4409.919140  25.599769 2021-01-01      1  2021     Кира   22   \n",
       "1            1  2617.592153  15.816871 2021-01-18      1  2021     Кира   22   \n",
       "2            1   754.159807   6.232113 2021-04-20      4  2021     Кира   22   \n",
       "3            1  2694.783254  18.511000 2021-08-11      8  2021     Кира   22   \n",
       "4            1  4028.687306  26.265803 2021-08-28      8  2021     Кира   22   \n",
       "...        ...          ...        ...        ...    ...   ...      ...  ...   \n",
       "18063     1534  3781.098080  19.822962 2021-11-04     11  2021  Альберт   25   \n",
       "18064     1534  2840.423057  21.409799 2021-11-16     11  2021  Альберт   25   \n",
       "18065     1534  3826.185507  18.435051 2021-11-18     11  2021  Альберт   25   \n",
       "18066     1534  2902.308661  16.674362 2021-11-27     11  2021  Альберт   25   \n",
       "18067     1534  2371.711192  15.893917 2021-12-29     12  2021  Альберт   25   \n",
       "\n",
       "            city subscription_type  minute_price  start_ride_price  \\\n",
       "0         Тюмень             ultra             6                 0   \n",
       "1         Тюмень             ultra             6                 0   \n",
       "2         Тюмень             ultra             6                 0   \n",
       "3         Тюмень             ultra             6                 0   \n",
       "4         Тюмень             ultra             6                 0   \n",
       "...          ...               ...           ...               ...   \n",
       "18063  Краснодар              free             8                50   \n",
       "18064  Краснодар              free             8                50   \n",
       "18065  Краснодар              free             8                50   \n",
       "18066  Краснодар              free             8                50   \n",
       "18067  Краснодар              free             8                50   \n",
       "\n",
       "       subscription_fee  \n",
       "0                   199  \n",
       "1                   199  \n",
       "2                   199  \n",
       "3                   199  \n",
       "4                   199  \n",
       "...                 ...  \n",
       "18063                 0  \n",
       "18064                 0  \n",
       "18065                 0  \n",
       "18066                 0  \n",
       "18067                 0  \n",
       "\n",
       "[18068 rows x 13 columns]"
      ]
     },
     "execution_count": 16,
     "metadata": {},
     "output_type": "execute_result"
    }
   ],
   "source": [
    "data = (rides_data\n",
    ".merge(users_data, on= 'user_id', how= 'left')\n",
    ".merge(subscriptions_data, on= 'subscription_type', how= 'left')\n",
    ")\n",
    "data"
   ]
  },
  {
   "cell_type": "markdown",
   "id": "6541409e",
   "metadata": {},
   "source": [
    "**Выделение данных пользователей без подписки**"
   ]
  },
  {
   "cell_type": "code",
   "execution_count": 17,
   "id": "83b961c9",
   "metadata": {
    "scrolled": true
   },
   "outputs": [
    {
     "data": {
      "text/html": [
       "<div>\n",
       "<style scoped>\n",
       "    .dataframe tbody tr th:only-of-type {\n",
       "        vertical-align: middle;\n",
       "    }\n",
       "\n",
       "    .dataframe tbody tr th {\n",
       "        vertical-align: top;\n",
       "    }\n",
       "\n",
       "    .dataframe thead th {\n",
       "        text-align: right;\n",
       "    }\n",
       "</style>\n",
       "<table border=\"1\" class=\"dataframe\">\n",
       "  <thead>\n",
       "    <tr style=\"text-align: right;\">\n",
       "      <th></th>\n",
       "      <th>user_id</th>\n",
       "      <th>distance</th>\n",
       "      <th>duration</th>\n",
       "      <th>date</th>\n",
       "      <th>month</th>\n",
       "      <th>year</th>\n",
       "      <th>name</th>\n",
       "      <th>age</th>\n",
       "      <th>city</th>\n",
       "      <th>subscription_type</th>\n",
       "      <th>minute_price</th>\n",
       "      <th>start_ride_price</th>\n",
       "      <th>subscription_fee</th>\n",
       "    </tr>\n",
       "  </thead>\n",
       "  <tbody>\n",
       "    <tr>\n",
       "      <th>6500</th>\n",
       "      <td>700</td>\n",
       "      <td>2515.690719</td>\n",
       "      <td>14.944286</td>\n",
       "      <td>2021-01-02</td>\n",
       "      <td>1</td>\n",
       "      <td>2021</td>\n",
       "      <td>Айдар</td>\n",
       "      <td>22</td>\n",
       "      <td>Омск</td>\n",
       "      <td>free</td>\n",
       "      <td>8</td>\n",
       "      <td>50</td>\n",
       "      <td>0</td>\n",
       "    </tr>\n",
       "    <tr>\n",
       "      <th>6501</th>\n",
       "      <td>700</td>\n",
       "      <td>846.932642</td>\n",
       "      <td>16.234663</td>\n",
       "      <td>2021-02-01</td>\n",
       "      <td>2</td>\n",
       "      <td>2021</td>\n",
       "      <td>Айдар</td>\n",
       "      <td>22</td>\n",
       "      <td>Омск</td>\n",
       "      <td>free</td>\n",
       "      <td>8</td>\n",
       "      <td>50</td>\n",
       "      <td>0</td>\n",
       "    </tr>\n",
       "    <tr>\n",
       "      <th>6502</th>\n",
       "      <td>700</td>\n",
       "      <td>4004.434142</td>\n",
       "      <td>20.016628</td>\n",
       "      <td>2021-02-04</td>\n",
       "      <td>2</td>\n",
       "      <td>2021</td>\n",
       "      <td>Айдар</td>\n",
       "      <td>22</td>\n",
       "      <td>Омск</td>\n",
       "      <td>free</td>\n",
       "      <td>8</td>\n",
       "      <td>50</td>\n",
       "      <td>0</td>\n",
       "    </tr>\n",
       "    <tr>\n",
       "      <th>6503</th>\n",
       "      <td>700</td>\n",
       "      <td>1205.911290</td>\n",
       "      <td>9.782872</td>\n",
       "      <td>2021-02-10</td>\n",
       "      <td>2</td>\n",
       "      <td>2021</td>\n",
       "      <td>Айдар</td>\n",
       "      <td>22</td>\n",
       "      <td>Омск</td>\n",
       "      <td>free</td>\n",
       "      <td>8</td>\n",
       "      <td>50</td>\n",
       "      <td>0</td>\n",
       "    </tr>\n",
       "    <tr>\n",
       "      <th>6504</th>\n",
       "      <td>700</td>\n",
       "      <td>3047.379435</td>\n",
       "      <td>17.427673</td>\n",
       "      <td>2021-02-14</td>\n",
       "      <td>2</td>\n",
       "      <td>2021</td>\n",
       "      <td>Айдар</td>\n",
       "      <td>22</td>\n",
       "      <td>Омск</td>\n",
       "      <td>free</td>\n",
       "      <td>8</td>\n",
       "      <td>50</td>\n",
       "      <td>0</td>\n",
       "    </tr>\n",
       "    <tr>\n",
       "      <th>...</th>\n",
       "      <td>...</td>\n",
       "      <td>...</td>\n",
       "      <td>...</td>\n",
       "      <td>...</td>\n",
       "      <td>...</td>\n",
       "      <td>...</td>\n",
       "      <td>...</td>\n",
       "      <td>...</td>\n",
       "      <td>...</td>\n",
       "      <td>...</td>\n",
       "      <td>...</td>\n",
       "      <td>...</td>\n",
       "      <td>...</td>\n",
       "    </tr>\n",
       "    <tr>\n",
       "      <th>18063</th>\n",
       "      <td>1534</td>\n",
       "      <td>3781.098080</td>\n",
       "      <td>19.822962</td>\n",
       "      <td>2021-11-04</td>\n",
       "      <td>11</td>\n",
       "      <td>2021</td>\n",
       "      <td>Альберт</td>\n",
       "      <td>25</td>\n",
       "      <td>Краснодар</td>\n",
       "      <td>free</td>\n",
       "      <td>8</td>\n",
       "      <td>50</td>\n",
       "      <td>0</td>\n",
       "    </tr>\n",
       "    <tr>\n",
       "      <th>18064</th>\n",
       "      <td>1534</td>\n",
       "      <td>2840.423057</td>\n",
       "      <td>21.409799</td>\n",
       "      <td>2021-11-16</td>\n",
       "      <td>11</td>\n",
       "      <td>2021</td>\n",
       "      <td>Альберт</td>\n",
       "      <td>25</td>\n",
       "      <td>Краснодар</td>\n",
       "      <td>free</td>\n",
       "      <td>8</td>\n",
       "      <td>50</td>\n",
       "      <td>0</td>\n",
       "    </tr>\n",
       "    <tr>\n",
       "      <th>18065</th>\n",
       "      <td>1534</td>\n",
       "      <td>3826.185507</td>\n",
       "      <td>18.435051</td>\n",
       "      <td>2021-11-18</td>\n",
       "      <td>11</td>\n",
       "      <td>2021</td>\n",
       "      <td>Альберт</td>\n",
       "      <td>25</td>\n",
       "      <td>Краснодар</td>\n",
       "      <td>free</td>\n",
       "      <td>8</td>\n",
       "      <td>50</td>\n",
       "      <td>0</td>\n",
       "    </tr>\n",
       "    <tr>\n",
       "      <th>18066</th>\n",
       "      <td>1534</td>\n",
       "      <td>2902.308661</td>\n",
       "      <td>16.674362</td>\n",
       "      <td>2021-11-27</td>\n",
       "      <td>11</td>\n",
       "      <td>2021</td>\n",
       "      <td>Альберт</td>\n",
       "      <td>25</td>\n",
       "      <td>Краснодар</td>\n",
       "      <td>free</td>\n",
       "      <td>8</td>\n",
       "      <td>50</td>\n",
       "      <td>0</td>\n",
       "    </tr>\n",
       "    <tr>\n",
       "      <th>18067</th>\n",
       "      <td>1534</td>\n",
       "      <td>2371.711192</td>\n",
       "      <td>15.893917</td>\n",
       "      <td>2021-12-29</td>\n",
       "      <td>12</td>\n",
       "      <td>2021</td>\n",
       "      <td>Альберт</td>\n",
       "      <td>25</td>\n",
       "      <td>Краснодар</td>\n",
       "      <td>free</td>\n",
       "      <td>8</td>\n",
       "      <td>50</td>\n",
       "      <td>0</td>\n",
       "    </tr>\n",
       "  </tbody>\n",
       "</table>\n",
       "<p>11568 rows × 13 columns</p>\n",
       "</div>"
      ],
      "text/plain": [
       "       user_id     distance   duration       date  month  year     name  age  \\\n",
       "6500       700  2515.690719  14.944286 2021-01-02      1  2021    Айдар   22   \n",
       "6501       700   846.932642  16.234663 2021-02-01      2  2021    Айдар   22   \n",
       "6502       700  4004.434142  20.016628 2021-02-04      2  2021    Айдар   22   \n",
       "6503       700  1205.911290   9.782872 2021-02-10      2  2021    Айдар   22   \n",
       "6504       700  3047.379435  17.427673 2021-02-14      2  2021    Айдар   22   \n",
       "...        ...          ...        ...        ...    ...   ...      ...  ...   \n",
       "18063     1534  3781.098080  19.822962 2021-11-04     11  2021  Альберт   25   \n",
       "18064     1534  2840.423057  21.409799 2021-11-16     11  2021  Альберт   25   \n",
       "18065     1534  3826.185507  18.435051 2021-11-18     11  2021  Альберт   25   \n",
       "18066     1534  2902.308661  16.674362 2021-11-27     11  2021  Альберт   25   \n",
       "18067     1534  2371.711192  15.893917 2021-12-29     12  2021  Альберт   25   \n",
       "\n",
       "            city subscription_type  minute_price  start_ride_price  \\\n",
       "6500        Омск              free             8                50   \n",
       "6501        Омск              free             8                50   \n",
       "6502        Омск              free             8                50   \n",
       "6503        Омск              free             8                50   \n",
       "6504        Омск              free             8                50   \n",
       "...          ...               ...           ...               ...   \n",
       "18063  Краснодар              free             8                50   \n",
       "18064  Краснодар              free             8                50   \n",
       "18065  Краснодар              free             8                50   \n",
       "18066  Краснодар              free             8                50   \n",
       "18067  Краснодар              free             8                50   \n",
       "\n",
       "       subscription_fee  \n",
       "6500                  0  \n",
       "6501                  0  \n",
       "6502                  0  \n",
       "6503                  0  \n",
       "6504                  0  \n",
       "...                 ...  \n",
       "18063                 0  \n",
       "18064                 0  \n",
       "18065                 0  \n",
       "18066                 0  \n",
       "18067                 0  \n",
       "\n",
       "[11568 rows x 13 columns]"
      ]
     },
     "execution_count": 17,
     "metadata": {},
     "output_type": "execute_result"
    }
   ],
   "source": [
    "nosub_data = data.query('subscription_type == \"free\"')\n",
    "nosub_data"
   ]
  },
  {
   "cell_type": "markdown",
   "id": "a66ce93a",
   "metadata": {},
   "source": [
    "**Выделение данных пользователей с подпиской**"
   ]
  },
  {
   "cell_type": "code",
   "execution_count": 18,
   "id": "f49c850f",
   "metadata": {},
   "outputs": [
    {
     "data": {
      "text/html": [
       "<div>\n",
       "<style scoped>\n",
       "    .dataframe tbody tr th:only-of-type {\n",
       "        vertical-align: middle;\n",
       "    }\n",
       "\n",
       "    .dataframe tbody tr th {\n",
       "        vertical-align: top;\n",
       "    }\n",
       "\n",
       "    .dataframe thead th {\n",
       "        text-align: right;\n",
       "    }\n",
       "</style>\n",
       "<table border=\"1\" class=\"dataframe\">\n",
       "  <thead>\n",
       "    <tr style=\"text-align: right;\">\n",
       "      <th></th>\n",
       "      <th>user_id</th>\n",
       "      <th>distance</th>\n",
       "      <th>duration</th>\n",
       "      <th>date</th>\n",
       "      <th>month</th>\n",
       "      <th>year</th>\n",
       "      <th>name</th>\n",
       "      <th>age</th>\n",
       "      <th>city</th>\n",
       "      <th>subscription_type</th>\n",
       "      <th>minute_price</th>\n",
       "      <th>start_ride_price</th>\n",
       "      <th>subscription_fee</th>\n",
       "    </tr>\n",
       "  </thead>\n",
       "  <tbody>\n",
       "    <tr>\n",
       "      <th>0</th>\n",
       "      <td>1</td>\n",
       "      <td>4409.919140</td>\n",
       "      <td>25.599769</td>\n",
       "      <td>2021-01-01</td>\n",
       "      <td>1</td>\n",
       "      <td>2021</td>\n",
       "      <td>Кира</td>\n",
       "      <td>22</td>\n",
       "      <td>Тюмень</td>\n",
       "      <td>ultra</td>\n",
       "      <td>6</td>\n",
       "      <td>0</td>\n",
       "      <td>199</td>\n",
       "    </tr>\n",
       "    <tr>\n",
       "      <th>1</th>\n",
       "      <td>1</td>\n",
       "      <td>2617.592153</td>\n",
       "      <td>15.816871</td>\n",
       "      <td>2021-01-18</td>\n",
       "      <td>1</td>\n",
       "      <td>2021</td>\n",
       "      <td>Кира</td>\n",
       "      <td>22</td>\n",
       "      <td>Тюмень</td>\n",
       "      <td>ultra</td>\n",
       "      <td>6</td>\n",
       "      <td>0</td>\n",
       "      <td>199</td>\n",
       "    </tr>\n",
       "    <tr>\n",
       "      <th>2</th>\n",
       "      <td>1</td>\n",
       "      <td>754.159807</td>\n",
       "      <td>6.232113</td>\n",
       "      <td>2021-04-20</td>\n",
       "      <td>4</td>\n",
       "      <td>2021</td>\n",
       "      <td>Кира</td>\n",
       "      <td>22</td>\n",
       "      <td>Тюмень</td>\n",
       "      <td>ultra</td>\n",
       "      <td>6</td>\n",
       "      <td>0</td>\n",
       "      <td>199</td>\n",
       "    </tr>\n",
       "    <tr>\n",
       "      <th>3</th>\n",
       "      <td>1</td>\n",
       "      <td>2694.783254</td>\n",
       "      <td>18.511000</td>\n",
       "      <td>2021-08-11</td>\n",
       "      <td>8</td>\n",
       "      <td>2021</td>\n",
       "      <td>Кира</td>\n",
       "      <td>22</td>\n",
       "      <td>Тюмень</td>\n",
       "      <td>ultra</td>\n",
       "      <td>6</td>\n",
       "      <td>0</td>\n",
       "      <td>199</td>\n",
       "    </tr>\n",
       "    <tr>\n",
       "      <th>4</th>\n",
       "      <td>1</td>\n",
       "      <td>4028.687306</td>\n",
       "      <td>26.265803</td>\n",
       "      <td>2021-08-28</td>\n",
       "      <td>8</td>\n",
       "      <td>2021</td>\n",
       "      <td>Кира</td>\n",
       "      <td>22</td>\n",
       "      <td>Тюмень</td>\n",
       "      <td>ultra</td>\n",
       "      <td>6</td>\n",
       "      <td>0</td>\n",
       "      <td>199</td>\n",
       "    </tr>\n",
       "    <tr>\n",
       "      <th>...</th>\n",
       "      <td>...</td>\n",
       "      <td>...</td>\n",
       "      <td>...</td>\n",
       "      <td>...</td>\n",
       "      <td>...</td>\n",
       "      <td>...</td>\n",
       "      <td>...</td>\n",
       "      <td>...</td>\n",
       "      <td>...</td>\n",
       "      <td>...</td>\n",
       "      <td>...</td>\n",
       "      <td>...</td>\n",
       "      <td>...</td>\n",
       "    </tr>\n",
       "    <tr>\n",
       "      <th>6495</th>\n",
       "      <td>699</td>\n",
       "      <td>3973.046497</td>\n",
       "      <td>24.671163</td>\n",
       "      <td>2021-08-29</td>\n",
       "      <td>8</td>\n",
       "      <td>2021</td>\n",
       "      <td>Оксана</td>\n",
       "      <td>22</td>\n",
       "      <td>Москва</td>\n",
       "      <td>ultra</td>\n",
       "      <td>6</td>\n",
       "      <td>0</td>\n",
       "      <td>199</td>\n",
       "    </tr>\n",
       "    <tr>\n",
       "      <th>6496</th>\n",
       "      <td>699</td>\n",
       "      <td>3288.702563</td>\n",
       "      <td>15.892886</td>\n",
       "      <td>2021-09-12</td>\n",
       "      <td>9</td>\n",
       "      <td>2021</td>\n",
       "      <td>Оксана</td>\n",
       "      <td>22</td>\n",
       "      <td>Москва</td>\n",
       "      <td>ultra</td>\n",
       "      <td>6</td>\n",
       "      <td>0</td>\n",
       "      <td>199</td>\n",
       "    </tr>\n",
       "    <tr>\n",
       "      <th>6497</th>\n",
       "      <td>699</td>\n",
       "      <td>3076.159348</td>\n",
       "      <td>14.389525</td>\n",
       "      <td>2021-09-26</td>\n",
       "      <td>9</td>\n",
       "      <td>2021</td>\n",
       "      <td>Оксана</td>\n",
       "      <td>22</td>\n",
       "      <td>Москва</td>\n",
       "      <td>ultra</td>\n",
       "      <td>6</td>\n",
       "      <td>0</td>\n",
       "      <td>199</td>\n",
       "    </tr>\n",
       "    <tr>\n",
       "      <th>6498</th>\n",
       "      <td>699</td>\n",
       "      <td>4707.845501</td>\n",
       "      <td>15.839579</td>\n",
       "      <td>2021-10-17</td>\n",
       "      <td>10</td>\n",
       "      <td>2021</td>\n",
       "      <td>Оксана</td>\n",
       "      <td>22</td>\n",
       "      <td>Москва</td>\n",
       "      <td>ultra</td>\n",
       "      <td>6</td>\n",
       "      <td>0</td>\n",
       "      <td>199</td>\n",
       "    </tr>\n",
       "    <tr>\n",
       "      <th>6499</th>\n",
       "      <td>699</td>\n",
       "      <td>3202.890770</td>\n",
       "      <td>25.217345</td>\n",
       "      <td>2021-12-03</td>\n",
       "      <td>12</td>\n",
       "      <td>2021</td>\n",
       "      <td>Оксана</td>\n",
       "      <td>22</td>\n",
       "      <td>Москва</td>\n",
       "      <td>ultra</td>\n",
       "      <td>6</td>\n",
       "      <td>0</td>\n",
       "      <td>199</td>\n",
       "    </tr>\n",
       "  </tbody>\n",
       "</table>\n",
       "<p>6500 rows × 13 columns</p>\n",
       "</div>"
      ],
      "text/plain": [
       "      user_id     distance   duration       date  month  year    name  age  \\\n",
       "0           1  4409.919140  25.599769 2021-01-01      1  2021    Кира   22   \n",
       "1           1  2617.592153  15.816871 2021-01-18      1  2021    Кира   22   \n",
       "2           1   754.159807   6.232113 2021-04-20      4  2021    Кира   22   \n",
       "3           1  2694.783254  18.511000 2021-08-11      8  2021    Кира   22   \n",
       "4           1  4028.687306  26.265803 2021-08-28      8  2021    Кира   22   \n",
       "...       ...          ...        ...        ...    ...   ...     ...  ...   \n",
       "6495      699  3973.046497  24.671163 2021-08-29      8  2021  Оксана   22   \n",
       "6496      699  3288.702563  15.892886 2021-09-12      9  2021  Оксана   22   \n",
       "6497      699  3076.159348  14.389525 2021-09-26      9  2021  Оксана   22   \n",
       "6498      699  4707.845501  15.839579 2021-10-17     10  2021  Оксана   22   \n",
       "6499      699  3202.890770  25.217345 2021-12-03     12  2021  Оксана   22   \n",
       "\n",
       "        city subscription_type  minute_price  start_ride_price  \\\n",
       "0     Тюмень             ultra             6                 0   \n",
       "1     Тюмень             ultra             6                 0   \n",
       "2     Тюмень             ultra             6                 0   \n",
       "3     Тюмень             ultra             6                 0   \n",
       "4     Тюмень             ultra             6                 0   \n",
       "...      ...               ...           ...               ...   \n",
       "6495  Москва             ultra             6                 0   \n",
       "6496  Москва             ultra             6                 0   \n",
       "6497  Москва             ultra             6                 0   \n",
       "6498  Москва             ultra             6                 0   \n",
       "6499  Москва             ultra             6                 0   \n",
       "\n",
       "      subscription_fee  \n",
       "0                  199  \n",
       "1                  199  \n",
       "2                  199  \n",
       "3                  199  \n",
       "4                  199  \n",
       "...                ...  \n",
       "6495               199  \n",
       "6496               199  \n",
       "6497               199  \n",
       "6498               199  \n",
       "6499               199  \n",
       "\n",
       "[6500 rows x 13 columns]"
      ]
     },
     "execution_count": 18,
     "metadata": {},
     "output_type": "execute_result"
    }
   ],
   "source": [
    "sub_data = data.query('subscription_type == \"ultra\"')\n",
    "sub_data"
   ]
  },
  {
   "cell_type": "markdown",
   "id": "af023c2f",
   "metadata": {},
   "source": [
    "**Визуализация распределений расстояний у пользователей без и с подпиской**"
   ]
  },
  {
   "cell_type": "code",
   "execution_count": 19,
   "id": "841e2280",
   "metadata": {},
   "outputs": [
    {
     "data": {
      "image/png": "[encoded data removed]",
      "text/plain": [
       "<Figure size 432x288 with 1 Axes>"
      ]
     },
     "metadata": {
      "needs_background": "light"
     },
     "output_type": "display_data"
    }
   ],
   "source": [
    "nosub_data['distance'].plot(kind= 'hist', bins= 100);\n",
    "plt.title('Распределение поездок по расстоянию без подписки')\n",
    "plt.xlabel('Расстояние, м')\n",
    "plt.ylabel('Количество поездок');"
   ]
  },
  {
   "cell_type": "code",
   "execution_count": 20,
   "id": "e637cca5",
   "metadata": {},
   "outputs": [
    {
     "data": {
      "image/png": "[encoded data removed]",
      "text/plain": [
       "<Figure size 432x288 with 1 Axes>"
      ]
     },
     "metadata": {
      "needs_background": "light"
     },
     "output_type": "display_data"
    }
   ],
   "source": [
    "sub_data['distance'].plot(kind= 'hist', bins= 100);\n",
    "plt.title('Распределение поездок по расстоянию с подпиской')\n",
    "plt.xlabel('Расстояние, м')\n",
    "plt.ylabel('Количество поездок');"
   ]
  },
  {
   "cell_type": "markdown",
   "id": "311d1ec4",
   "metadata": {},
   "source": [
    "Распределения примерно схожи."
   ]
  },
  {
   "cell_type": "markdown",
   "id": "e205a3ed",
   "metadata": {},
   "source": [
    "**Визуализация распределений времени аренды у пользователей без и с подпиской**"
   ]
  },
  {
   "cell_type": "code",
   "execution_count": 21,
   "id": "b5da0732",
   "metadata": {},
   "outputs": [
    {
     "data": {
      "image/png": "[encoded data removed]",
      "text/plain": [
       "<Figure size 432x288 with 1 Axes>"
      ]
     },
     "metadata": {
      "needs_background": "light"
     },
     "output_type": "display_data"
    }
   ],
   "source": [
    "nosub_data['duration'].plot(kind= 'hist', bins= 100);\n",
    "plt.title('Распределение поездок по длительности без подписки')\n",
    "plt.xlabel('Длительность, мин')\n",
    "plt.ylabel('Количество поездок');"
   ]
  },
  {
   "cell_type": "code",
   "execution_count": 22,
   "id": "eb49567d",
   "metadata": {},
   "outputs": [
    {
     "data": {
      "image/png": "[encoded data removed]",
      "text/plain": [
       "<Figure size 432x288 with 1 Axes>"
      ]
     },
     "metadata": {
      "needs_background": "light"
     },
     "output_type": "display_data"
    }
   ],
   "source": [
    "sub_data['duration'].plot(kind= 'hist', bins= 100);\n",
    "plt.title('Распределение поездок по длительности c подпиской')\n",
    "plt.xlabel('Длительность, мин')\n",
    "plt.ylabel('Количество поездок');"
   ]
  },
  {
   "cell_type": "markdown",
   "id": "1d241eab",
   "metadata": {},
   "source": [
    "Все околонулевые по времени аренды приходятся на пользователей без подписки. \n",
    "В остальном распределения примерно одинаковы."
   ]
  },
  {
   "cell_type": "markdown",
   "id": "402d620f",
   "metadata": {},
   "source": [
    "#### Шаг 5. Подсчёт выручки"
   ]
  },
  {
   "cell_type": "code",
   "execution_count": 23,
   "id": "7a36c0da",
   "metadata": {
    "scrolled": true
   },
   "outputs": [
    {
     "data": {
      "text/html": [
       "<div>\n",
       "<style scoped>\n",
       "    .dataframe tbody tr th:only-of-type {\n",
       "        vertical-align: middle;\n",
       "    }\n",
       "\n",
       "    .dataframe tbody tr th {\n",
       "        vertical-align: top;\n",
       "    }\n",
       "\n",
       "    .dataframe thead th {\n",
       "        text-align: right;\n",
       "    }\n",
       "</style>\n",
       "<table border=\"1\" class=\"dataframe\">\n",
       "  <thead>\n",
       "    <tr style=\"text-align: right;\">\n",
       "      <th></th>\n",
       "      <th></th>\n",
       "      <th>month_dist</th>\n",
       "      <th>month_count</th>\n",
       "      <th>month_dur</th>\n",
       "    </tr>\n",
       "    <tr>\n",
       "      <th>user_id</th>\n",
       "      <th>month</th>\n",
       "      <th></th>\n",
       "      <th></th>\n",
       "      <th></th>\n",
       "    </tr>\n",
       "  </thead>\n",
       "  <tbody>\n",
       "    <tr>\n",
       "      <th rowspan=\"5\" valign=\"top\">1</th>\n",
       "      <th>1</th>\n",
       "      <td>7027.511294</td>\n",
       "      <td>2</td>\n",
       "      <td>42</td>\n",
       "    </tr>\n",
       "    <tr>\n",
       "      <th>4</th>\n",
       "      <td>754.159807</td>\n",
       "      <td>1</td>\n",
       "      <td>7</td>\n",
       "    </tr>\n",
       "    <tr>\n",
       "      <th>8</th>\n",
       "      <td>6723.470560</td>\n",
       "      <td>2</td>\n",
       "      <td>45</td>\n",
       "    </tr>\n",
       "    <tr>\n",
       "      <th>10</th>\n",
       "      <td>5809.911100</td>\n",
       "      <td>2</td>\n",
       "      <td>32</td>\n",
       "    </tr>\n",
       "    <tr>\n",
       "      <th>11</th>\n",
       "      <td>7003.499363</td>\n",
       "      <td>3</td>\n",
       "      <td>54</td>\n",
       "    </tr>\n",
       "    <tr>\n",
       "      <th>...</th>\n",
       "      <th>...</th>\n",
       "      <td>...</td>\n",
       "      <td>...</td>\n",
       "      <td>...</td>\n",
       "    </tr>\n",
       "    <tr>\n",
       "      <th rowspan=\"5\" valign=\"top\">1534</th>\n",
       "      <th>6</th>\n",
       "      <td>3409.468534</td>\n",
       "      <td>2</td>\n",
       "      <td>25</td>\n",
       "    </tr>\n",
       "    <tr>\n",
       "      <th>8</th>\n",
       "      <td>7622.453034</td>\n",
       "      <td>2</td>\n",
       "      <td>48</td>\n",
       "    </tr>\n",
       "    <tr>\n",
       "      <th>9</th>\n",
       "      <td>4928.173852</td>\n",
       "      <td>1</td>\n",
       "      <td>23</td>\n",
       "    </tr>\n",
       "    <tr>\n",
       "      <th>11</th>\n",
       "      <td>13350.015305</td>\n",
       "      <td>4</td>\n",
       "      <td>77</td>\n",
       "    </tr>\n",
       "    <tr>\n",
       "      <th>12</th>\n",
       "      <td>2371.711192</td>\n",
       "      <td>1</td>\n",
       "      <td>16</td>\n",
       "    </tr>\n",
       "  </tbody>\n",
       "</table>\n",
       "<p>11331 rows × 3 columns</p>\n",
       "</div>"
      ],
      "text/plain": [
       "                 month_dist  month_count  month_dur\n",
       "user_id month                                      \n",
       "1       1       7027.511294            2         42\n",
       "        4        754.159807            1          7\n",
       "        8       6723.470560            2         45\n",
       "        10      5809.911100            2         32\n",
       "        11      7003.499363            3         54\n",
       "...                     ...          ...        ...\n",
       "1534    6       3409.468534            2         25\n",
       "        8       7622.453034            2         48\n",
       "        9       4928.173852            1         23\n",
       "        11     13350.015305            4         77\n",
       "        12      2371.711192            1         16\n",
       "\n",
       "[11331 rows x 3 columns]"
      ]
     },
     "execution_count": 23,
     "metadata": {},
     "output_type": "execute_result"
    }
   ],
   "source": [
    "#создание сводных таблиц по дистанции, количеству поездок \n",
    "#и продолжительность за каждый месяц и объединение в датафрейм\n",
    "pivot_data = (data\n",
    "              .pivot_table(index= ['user_id', 'month'], \n",
    "                           values= 'distance', aggfunc= 'sum')\n",
    "             )\n",
    "pivot_data = (pivot_data\n",
    "              .merge(data.pivot_table(index= ['user_id', 'month'],\n",
    "                                      values= 'date', aggfunc= 'count'),\n",
    "                     left_index= True, right_index= True)\n",
    "              .merge(data.pivot_table(index= ['user_id', 'month'],\n",
    "                                      values= 'duration', aggfunc= 'sum'),\n",
    "                     left_index= True, right_index= True)\n",
    "             )\n",
    "pivot_data.columns = ['month_dist', 'month_count', 'month_dur']\n",
    "pivot_data['month_dur'] = np.ceil(pivot_data['month_dur']).astype(int)\n",
    "pivot_data"
   ]
  },
  {
   "cell_type": "code",
   "execution_count": 24,
   "id": "ed5d1c2a",
   "metadata": {
    "scrolled": true
   },
   "outputs": [
    {
     "data": {
      "text/html": [
       "<div>\n",
       "<style scoped>\n",
       "    .dataframe tbody tr th:only-of-type {\n",
       "        vertical-align: middle;\n",
       "    }\n",
       "\n",
       "    .dataframe tbody tr th {\n",
       "        vertical-align: top;\n",
       "    }\n",
       "\n",
       "    .dataframe thead th {\n",
       "        text-align: right;\n",
       "    }\n",
       "</style>\n",
       "<table border=\"1\" class=\"dataframe\">\n",
       "  <thead>\n",
       "    <tr style=\"text-align: right;\">\n",
       "      <th></th>\n",
       "      <th>user_id</th>\n",
       "      <th>distance</th>\n",
       "      <th>duration</th>\n",
       "      <th>date</th>\n",
       "      <th>month</th>\n",
       "      <th>year</th>\n",
       "      <th>name</th>\n",
       "      <th>age</th>\n",
       "      <th>city</th>\n",
       "      <th>subscription_type</th>\n",
       "      <th>minute_price</th>\n",
       "      <th>start_ride_price</th>\n",
       "      <th>subscription_fee</th>\n",
       "      <th>cost_no_fee</th>\n",
       "    </tr>\n",
       "  </thead>\n",
       "  <tbody>\n",
       "    <tr>\n",
       "      <th>0</th>\n",
       "      <td>1</td>\n",
       "      <td>4409.919140</td>\n",
       "      <td>25.599769</td>\n",
       "      <td>2021-01-01</td>\n",
       "      <td>1</td>\n",
       "      <td>2021</td>\n",
       "      <td>Кира</td>\n",
       "      <td>22</td>\n",
       "      <td>Тюмень</td>\n",
       "      <td>ultra</td>\n",
       "      <td>6</td>\n",
       "      <td>0</td>\n",
       "      <td>199</td>\n",
       "      <td>156.0</td>\n",
       "    </tr>\n",
       "    <tr>\n",
       "      <th>1</th>\n",
       "      <td>1</td>\n",
       "      <td>2617.592153</td>\n",
       "      <td>15.816871</td>\n",
       "      <td>2021-01-18</td>\n",
       "      <td>1</td>\n",
       "      <td>2021</td>\n",
       "      <td>Кира</td>\n",
       "      <td>22</td>\n",
       "      <td>Тюмень</td>\n",
       "      <td>ultra</td>\n",
       "      <td>6</td>\n",
       "      <td>0</td>\n",
       "      <td>199</td>\n",
       "      <td>96.0</td>\n",
       "    </tr>\n",
       "    <tr>\n",
       "      <th>2</th>\n",
       "      <td>1</td>\n",
       "      <td>754.159807</td>\n",
       "      <td>6.232113</td>\n",
       "      <td>2021-04-20</td>\n",
       "      <td>4</td>\n",
       "      <td>2021</td>\n",
       "      <td>Кира</td>\n",
       "      <td>22</td>\n",
       "      <td>Тюмень</td>\n",
       "      <td>ultra</td>\n",
       "      <td>6</td>\n",
       "      <td>0</td>\n",
       "      <td>199</td>\n",
       "      <td>42.0</td>\n",
       "    </tr>\n",
       "    <tr>\n",
       "      <th>3</th>\n",
       "      <td>1</td>\n",
       "      <td>2694.783254</td>\n",
       "      <td>18.511000</td>\n",
       "      <td>2021-08-11</td>\n",
       "      <td>8</td>\n",
       "      <td>2021</td>\n",
       "      <td>Кира</td>\n",
       "      <td>22</td>\n",
       "      <td>Тюмень</td>\n",
       "      <td>ultra</td>\n",
       "      <td>6</td>\n",
       "      <td>0</td>\n",
       "      <td>199</td>\n",
       "      <td>114.0</td>\n",
       "    </tr>\n",
       "    <tr>\n",
       "      <th>4</th>\n",
       "      <td>1</td>\n",
       "      <td>4028.687306</td>\n",
       "      <td>26.265803</td>\n",
       "      <td>2021-08-28</td>\n",
       "      <td>8</td>\n",
       "      <td>2021</td>\n",
       "      <td>Кира</td>\n",
       "      <td>22</td>\n",
       "      <td>Тюмень</td>\n",
       "      <td>ultra</td>\n",
       "      <td>6</td>\n",
       "      <td>0</td>\n",
       "      <td>199</td>\n",
       "      <td>162.0</td>\n",
       "    </tr>\n",
       "    <tr>\n",
       "      <th>...</th>\n",
       "      <td>...</td>\n",
       "      <td>...</td>\n",
       "      <td>...</td>\n",
       "      <td>...</td>\n",
       "      <td>...</td>\n",
       "      <td>...</td>\n",
       "      <td>...</td>\n",
       "      <td>...</td>\n",
       "      <td>...</td>\n",
       "      <td>...</td>\n",
       "      <td>...</td>\n",
       "      <td>...</td>\n",
       "      <td>...</td>\n",
       "      <td>...</td>\n",
       "    </tr>\n",
       "    <tr>\n",
       "      <th>18063</th>\n",
       "      <td>1534</td>\n",
       "      <td>3781.098080</td>\n",
       "      <td>19.822962</td>\n",
       "      <td>2021-11-04</td>\n",
       "      <td>11</td>\n",
       "      <td>2021</td>\n",
       "      <td>Альберт</td>\n",
       "      <td>25</td>\n",
       "      <td>Краснодар</td>\n",
       "      <td>free</td>\n",
       "      <td>8</td>\n",
       "      <td>50</td>\n",
       "      <td>0</td>\n",
       "      <td>210.0</td>\n",
       "    </tr>\n",
       "    <tr>\n",
       "      <th>18064</th>\n",
       "      <td>1534</td>\n",
       "      <td>2840.423057</td>\n",
       "      <td>21.409799</td>\n",
       "      <td>2021-11-16</td>\n",
       "      <td>11</td>\n",
       "      <td>2021</td>\n",
       "      <td>Альберт</td>\n",
       "      <td>25</td>\n",
       "      <td>Краснодар</td>\n",
       "      <td>free</td>\n",
       "      <td>8</td>\n",
       "      <td>50</td>\n",
       "      <td>0</td>\n",
       "      <td>226.0</td>\n",
       "    </tr>\n",
       "    <tr>\n",
       "      <th>18065</th>\n",
       "      <td>1534</td>\n",
       "      <td>3826.185507</td>\n",
       "      <td>18.435051</td>\n",
       "      <td>2021-11-18</td>\n",
       "      <td>11</td>\n",
       "      <td>2021</td>\n",
       "      <td>Альберт</td>\n",
       "      <td>25</td>\n",
       "      <td>Краснодар</td>\n",
       "      <td>free</td>\n",
       "      <td>8</td>\n",
       "      <td>50</td>\n",
       "      <td>0</td>\n",
       "      <td>202.0</td>\n",
       "    </tr>\n",
       "    <tr>\n",
       "      <th>18066</th>\n",
       "      <td>1534</td>\n",
       "      <td>2902.308661</td>\n",
       "      <td>16.674362</td>\n",
       "      <td>2021-11-27</td>\n",
       "      <td>11</td>\n",
       "      <td>2021</td>\n",
       "      <td>Альберт</td>\n",
       "      <td>25</td>\n",
       "      <td>Краснодар</td>\n",
       "      <td>free</td>\n",
       "      <td>8</td>\n",
       "      <td>50</td>\n",
       "      <td>0</td>\n",
       "      <td>186.0</td>\n",
       "    </tr>\n",
       "    <tr>\n",
       "      <th>18067</th>\n",
       "      <td>1534</td>\n",
       "      <td>2371.711192</td>\n",
       "      <td>15.893917</td>\n",
       "      <td>2021-12-29</td>\n",
       "      <td>12</td>\n",
       "      <td>2021</td>\n",
       "      <td>Альберт</td>\n",
       "      <td>25</td>\n",
       "      <td>Краснодар</td>\n",
       "      <td>free</td>\n",
       "      <td>8</td>\n",
       "      <td>50</td>\n",
       "      <td>0</td>\n",
       "      <td>178.0</td>\n",
       "    </tr>\n",
       "  </tbody>\n",
       "</table>\n",
       "<p>18068 rows × 14 columns</p>\n",
       "</div>"
      ],
      "text/plain": [
       "       user_id     distance   duration       date  month  year     name  age  \\\n",
       "0            1  4409.919140  25.599769 2021-01-01      1  2021     Кира   22   \n",
       "1            1  2617.592153  15.816871 2021-01-18      1  2021     Кира   22   \n",
       "2            1   754.159807   6.232113 2021-04-20      4  2021     Кира   22   \n",
       "3            1  2694.783254  18.511000 2021-08-11      8  2021     Кира   22   \n",
       "4            1  4028.687306  26.265803 2021-08-28      8  2021     Кира   22   \n",
       "...        ...          ...        ...        ...    ...   ...      ...  ...   \n",
       "18063     1534  3781.098080  19.822962 2021-11-04     11  2021  Альберт   25   \n",
       "18064     1534  2840.423057  21.409799 2021-11-16     11  2021  Альберт   25   \n",
       "18065     1534  3826.185507  18.435051 2021-11-18     11  2021  Альберт   25   \n",
       "18066     1534  2902.308661  16.674362 2021-11-27     11  2021  Альберт   25   \n",
       "18067     1534  2371.711192  15.893917 2021-12-29     12  2021  Альберт   25   \n",
       "\n",
       "            city subscription_type  minute_price  start_ride_price  \\\n",
       "0         Тюмень             ultra             6                 0   \n",
       "1         Тюмень             ultra             6                 0   \n",
       "2         Тюмень             ultra             6                 0   \n",
       "3         Тюмень             ultra             6                 0   \n",
       "4         Тюмень             ultra             6                 0   \n",
       "...          ...               ...           ...               ...   \n",
       "18063  Краснодар              free             8                50   \n",
       "18064  Краснодар              free             8                50   \n",
       "18065  Краснодар              free             8                50   \n",
       "18066  Краснодар              free             8                50   \n",
       "18067  Краснодар              free             8                50   \n",
       "\n",
       "       subscription_fee  cost_no_fee  \n",
       "0                   199        156.0  \n",
       "1                   199         96.0  \n",
       "2                   199         42.0  \n",
       "3                   199        114.0  \n",
       "4                   199        162.0  \n",
       "...                 ...          ...  \n",
       "18063                 0        210.0  \n",
       "18064                 0        226.0  \n",
       "18065                 0        202.0  \n",
       "18066                 0        186.0  \n",
       "18067                 0        178.0  \n",
       "\n",
       "[18068 rows x 14 columns]"
      ]
     },
     "execution_count": 24,
     "metadata": {},
     "output_type": "execute_result"
    }
   ],
   "source": [
    "#добавление в основной датафрейм столбцов со стоимостью каждой \n",
    "#поездки - не учтена месячная плата за подписку\n",
    "data.loc[data['subscription_type'] == 'free', 'cost_no_fee'] = (\n",
    "    (np.ceil(data['duration']).astype(int) * data['minute_price'])\n",
    "+ data['start_ride_price']\n",
    ")\n",
    "data.loc[data['subscription_type'] == 'ultra', 'cost_no_fee'] = (\n",
    "(np.ceil(data['duration']).astype(int) * data['minute_price'])\n",
    ")\n",
    "data"
   ]
  },
  {
   "cell_type": "code",
   "execution_count": 25,
   "id": "db1c3d19",
   "metadata": {},
   "outputs": [],
   "source": [
    "#составление сводной таблицы по оплате по месяцам\n",
    "cost_no_fee = (data\n",
    "               .pivot_table(index=['user_id', 'month'],\n",
    "                            values= 'cost_no_fee',\n",
    "                            aggfunc= 'sum')\n",
    "              )\n",
    "pivot_data = (pivot_data\n",
    "              .merge(cost_no_fee,\n",
    "                     left_index= True,\n",
    "                     right_index= True)\n",
    "             )"
   ]
  },
  {
   "cell_type": "code",
   "execution_count": 26,
   "id": "0d372453",
   "metadata": {},
   "outputs": [
    {
     "data": {
      "text/html": [
       "<div>\n",
       "<style scoped>\n",
       "    .dataframe tbody tr th:only-of-type {\n",
       "        vertical-align: middle;\n",
       "    }\n",
       "\n",
       "    .dataframe tbody tr th {\n",
       "        vertical-align: top;\n",
       "    }\n",
       "\n",
       "    .dataframe thead th {\n",
       "        text-align: right;\n",
       "    }\n",
       "</style>\n",
       "<table border=\"1\" class=\"dataframe\">\n",
       "  <thead>\n",
       "    <tr style=\"text-align: right;\">\n",
       "      <th></th>\n",
       "      <th></th>\n",
       "      <th>month_dist</th>\n",
       "      <th>month_count</th>\n",
       "      <th>month_dur</th>\n",
       "      <th>month_cost</th>\n",
       "      <th>is_sub</th>\n",
       "    </tr>\n",
       "    <tr>\n",
       "      <th>user_id</th>\n",
       "      <th>month</th>\n",
       "      <th></th>\n",
       "      <th></th>\n",
       "      <th></th>\n",
       "      <th></th>\n",
       "      <th></th>\n",
       "    </tr>\n",
       "  </thead>\n",
       "  <tbody>\n",
       "    <tr>\n",
       "      <th rowspan=\"5\" valign=\"top\">1</th>\n",
       "      <th>1</th>\n",
       "      <td>7027.511294</td>\n",
       "      <td>2</td>\n",
       "      <td>42</td>\n",
       "      <td>451.0</td>\n",
       "      <td>True</td>\n",
       "    </tr>\n",
       "    <tr>\n",
       "      <th>4</th>\n",
       "      <td>754.159807</td>\n",
       "      <td>1</td>\n",
       "      <td>7</td>\n",
       "      <td>241.0</td>\n",
       "      <td>True</td>\n",
       "    </tr>\n",
       "    <tr>\n",
       "      <th>8</th>\n",
       "      <td>6723.470560</td>\n",
       "      <td>2</td>\n",
       "      <td>45</td>\n",
       "      <td>475.0</td>\n",
       "      <td>True</td>\n",
       "    </tr>\n",
       "    <tr>\n",
       "      <th>10</th>\n",
       "      <td>5809.911100</td>\n",
       "      <td>2</td>\n",
       "      <td>32</td>\n",
       "      <td>391.0</td>\n",
       "      <td>True</td>\n",
       "    </tr>\n",
       "    <tr>\n",
       "      <th>11</th>\n",
       "      <td>7003.499363</td>\n",
       "      <td>3</td>\n",
       "      <td>54</td>\n",
       "      <td>535.0</td>\n",
       "      <td>True</td>\n",
       "    </tr>\n",
       "    <tr>\n",
       "      <th>...</th>\n",
       "      <th>...</th>\n",
       "      <td>...</td>\n",
       "      <td>...</td>\n",
       "      <td>...</td>\n",
       "      <td>...</td>\n",
       "      <td>...</td>\n",
       "    </tr>\n",
       "    <tr>\n",
       "      <th rowspan=\"5\" valign=\"top\">1534</th>\n",
       "      <th>6</th>\n",
       "      <td>3409.468534</td>\n",
       "      <td>2</td>\n",
       "      <td>25</td>\n",
       "      <td>308.0</td>\n",
       "      <td>NaN</td>\n",
       "    </tr>\n",
       "    <tr>\n",
       "      <th>8</th>\n",
       "      <td>7622.453034</td>\n",
       "      <td>2</td>\n",
       "      <td>48</td>\n",
       "      <td>484.0</td>\n",
       "      <td>NaN</td>\n",
       "    </tr>\n",
       "    <tr>\n",
       "      <th>9</th>\n",
       "      <td>4928.173852</td>\n",
       "      <td>1</td>\n",
       "      <td>23</td>\n",
       "      <td>234.0</td>\n",
       "      <td>NaN</td>\n",
       "    </tr>\n",
       "    <tr>\n",
       "      <th>11</th>\n",
       "      <td>13350.015305</td>\n",
       "      <td>4</td>\n",
       "      <td>77</td>\n",
       "      <td>824.0</td>\n",
       "      <td>NaN</td>\n",
       "    </tr>\n",
       "    <tr>\n",
       "      <th>12</th>\n",
       "      <td>2371.711192</td>\n",
       "      <td>1</td>\n",
       "      <td>16</td>\n",
       "      <td>178.0</td>\n",
       "      <td>NaN</td>\n",
       "    </tr>\n",
       "  </tbody>\n",
       "</table>\n",
       "<p>11331 rows × 5 columns</p>\n",
       "</div>"
      ],
      "text/plain": [
       "                 month_dist  month_count  month_dur  month_cost is_sub\n",
       "user_id month                                                         \n",
       "1       1       7027.511294            2         42       451.0   True\n",
       "        4        754.159807            1          7       241.0   True\n",
       "        8       6723.470560            2         45       475.0   True\n",
       "        10      5809.911100            2         32       391.0   True\n",
       "        11      7003.499363            3         54       535.0   True\n",
       "...                     ...          ...        ...         ...    ...\n",
       "1534    6       3409.468534            2         25       308.0    NaN\n",
       "        8       7622.453034            2         48       484.0    NaN\n",
       "        9       4928.173852            1         23       234.0    NaN\n",
       "        11     13350.015305            4         77       824.0    NaN\n",
       "        12      2371.711192            1         16       178.0    NaN\n",
       "\n",
       "[11331 rows x 5 columns]"
      ]
     },
     "execution_count": 26,
     "metadata": {},
     "output_type": "execute_result"
    }
   ],
   "source": [
    "#добавление ежемесячной платы за подписку соответствующим\n",
    "#пользователям\n",
    "(pivot_data\n",
    " .loc[pivot_data.index.get_level_values(0)\n",
    "      .isin(sub_data['user_id']), 'cost_no_fee']) = (\n",
    "pivot_data['cost_no_fee'] + 199 \n",
    ")\n",
    "\n",
    "(pivot_data\n",
    " .loc[pivot_data.index.get_level_values(0)\n",
    "      .isin(sub_data['user_id']), 'is_sub']) = True\n",
    "\n",
    "pivot_data.columns = (['month_dist', 'month_count', \n",
    "                      'month_dur','month_cost', 'is_sub']\n",
    "                     )\n",
    "#общая сводная таблица\n",
    "pivot_data"
   ]
  },
  {
   "cell_type": "markdown",
   "id": "41545ac0",
   "metadata": {},
   "source": [
    "## Проверка гипотез"
   ]
  },
  {
   "cell_type": "markdown",
   "id": "25ba7ee2",
   "metadata": {},
   "source": [
    "**Гипотеза о разнице времени аренды между пользователями с подпиской и без**\n",
    "- Нулевая гипотеза: пользователи с подпиской тратят на аренду столько же времени, сколько и пользователи без подписки.\n",
    "- Альтернативная гипотеза: среднее значение времени аренды пользователей с подпиской больше, чем у пользователей без подписки.\n"
   ]
  },
  {
   "cell_type": "code",
   "execution_count": 27,
   "id": "762651ae",
   "metadata": {},
   "outputs": [
    {
     "name": "stdout",
     "output_type": "stream",
     "text": [
      "p-значение: 1.2804098316645618e-34\n",
      "Отвергаем нулевую гипотезу\n"
     ]
    }
   ],
   "source": [
    "sample_1 = sub_data['duration']\n",
    "sample_2 = nosub_data['duration']\n",
    "\n",
    "alpha = 0.001\n",
    "\n",
    "results = st.ttest_ind(sample_1, sample_2, alternative= 'greater')\n",
    "\n",
    "print('p-значение:', results.pvalue)\n",
    "\n",
    "if results.pvalue < alpha:\n",
    "    print('Отвергаем нулевую гипотезу')\n",
    "else:\n",
    "    print('Не получилось отвергнуть нулевую гипотезу') "
   ]
  },
  {
   "cell_type": "markdown",
   "id": "c2aa1ab1",
   "metadata": {},
   "source": [
    "**Гипотеза о расстоянии, проезжаемом пользователями с подпиской**\n",
    "- Нулевая гипотеза: пользователи с подпиской проезжают за 1 поездку в среднем 3130 м.\n",
    "- Альтернативная гипотеза: пользователи с подпиской проезжают за 1 поездку в среднем больше 3130 м."
   ]
  },
  {
   "cell_type": "code",
   "execution_count": 28,
   "id": "6c1b1b6d",
   "metadata": {},
   "outputs": [
    {
     "name": "stdout",
     "output_type": "stream",
     "text": [
      "p-значение: 0.9195368847849785\n",
      "Не получилось отвергнуть нулевую гипотезу\n"
     ]
    }
   ],
   "source": [
    "sample_1 = sub_data['distance']\n",
    "\n",
    "alpha = 0.05\n",
    "\n",
    "results = st.ttest_1samp(sample_1, 3130, alternative= 'greater')\n",
    "\n",
    "print('p-значение:', results.pvalue)\n",
    "\n",
    "if results.pvalue < alpha:\n",
    "    print('Отвергаем нулевую гипотезу')\n",
    "else:\n",
    "    print('Не получилось отвергнуть нулевую гипотезу') "
   ]
  },
  {
   "cell_type": "markdown",
   "id": "719e4c1f",
   "metadata": {},
   "source": [
    "**Гипотеза о разнице помесячной выручки между пользователями с подпиской и без**\n",
    "- Нулевая гипотеза: пользователи с подпиской в среднем за месяц приносят столько же выручки, сколько и без подписки.\n",
    "- Альтернативная гипотеза: средняя помесяная выручка с пользователя с подпиской выше, чем выручка с пользователя без подписки."
   ]
  },
  {
   "cell_type": "code",
   "execution_count": 29,
   "id": "c77c24f2",
   "metadata": {},
   "outputs": [
    {
     "name": "stdout",
     "output_type": "stream",
     "text": [
      "p-значение: 1.8850394384715216e-31\n",
      "Отвергаем нулевую гипотезу\n"
     ]
    }
   ],
   "source": [
    "sample_1 = pivot_data.loc[pivot_data['is_sub']==True, 'month_cost']\n",
    "sample_2 = pivot_data.loc[pivot_data['is_sub'].isna(), 'month_cost']\n",
    "\n",
    "alpha = 0.05\n",
    "\n",
    "results = st.ttest_ind(sample_1, sample_2, alternative= 'greater')\n",
    "\n",
    "print('p-значение:', results.pvalue)\n",
    "\n",
    "if results.pvalue < alpha:\n",
    "    print('Отвергаем нулевую гипотезу')\n",
    "else:\n",
    "    print('Не получилось отвергнуть нулевую гипотезу') "
   ]
  },
  {
   "cell_type": "markdown",
   "id": "263e8dcc",
   "metadata": {},
   "source": [
    "**Тест для проверки изменения количества обращений в поддержку**\n",
    "- Нулевая гипотеза: среднее количество обращений осталось на том же уровне, что и прежде\n",
    "- Альтернативная гипотеза: среднее количество обращений в поддержку стало меньше, чем до смены серверов"
   ]
  },
  {
   "cell_type": "code",
   "execution_count": 30,
   "id": "385712c8",
   "metadata": {},
   "outputs": [
    {
     "name": "stdout",
     "output_type": "stream",
     "text": [
      "p-значение: nan\n",
      "Не получилось отвергнуть нулевую гипотезу о равенстве среднего веса посылок\n"
     ]
    }
   ],
   "source": [
    "before = []\n",
    "\n",
    "after = []\n",
    "\n",
    "alpha = 0.05 \n",
    "\n",
    "results = st.ttest_rel(before, after)\n",
    "\n",
    "print('p-значение:', results.pvalue)\n",
    "\n",
    "if results.pvalue < alpha:\n",
    "    print('Отвергаем нулевую гипотезу о равенстве среднего веса посылок')\n",
    "else:\n",
    "    print('Не получилось отвергнуть нулевую гипотезу о равенстве среднего веса посылок')"
   ]
  },
  {
   "cell_type": "markdown",
   "id": "61213c5e",
   "metadata": {},
   "source": [
    "#### Шаг 7. Распределения"
   ]
  },
  {
   "cell_type": "code",
   "execution_count": 31,
   "id": "28d5a5fb",
   "metadata": {
    "scrolled": true
   },
   "outputs": [
    {
     "name": "stdout",
     "output_type": "stream",
     "text": [
      "Вероятность получить менее 100 подписок после проведения акции равна 0.05,       при общем количестве участников не менее 1171 человек\n"
     ]
    },
    {
     "data": {
      "image/png": "[encoded data removed]",
      "text/plain": [
       "<Figure size 432x288 with 1 Axes>"
      ]
     },
     "metadata": {
      "needs_background": "light"
     },
     "output_type": "display_data"
    }
   ],
   "source": [
    "n = 1000 \n",
    "p = 0.1 \n",
    "k = 100\n",
    "\n",
    "left_tail = 1\n",
    "distr = []\n",
    "\n",
    "while left_tail > 0.05:\n",
    "    left_tail = binom.cdf(k, n, p)\n",
    "    distr.append(left_tail)\n",
    "    n += 1\n",
    "\n",
    "plt.bar(range(1000, n), distr);\n",
    "\n",
    "print(f'Вероятность получить менее 100 подписок после проведения акции равна {round(binom.cdf(k, n-2, p), 2)}, \\\n",
    "      при общем количестве участников не менее {n-2} человек')"
   ]
  },
  {
   "cell_type": "code",
   "execution_count": 32,
   "id": "755e3b60",
   "metadata": {},
   "outputs": [
    {
     "name": "stdout",
     "output_type": "stream",
     "text": [
      "Условие применения аппроксимации выполняется\n"
     ]
    },
    {
     "data": {
      "image/png": "[encoded data removed]",
      "text/plain": [
       "<Figure size 432x288 with 1 Axes>"
      ]
     },
     "metadata": {
      "needs_background": "light"
     },
     "output_type": "display_data"
    },
    {
     "name": "stdout",
     "output_type": "stream",
     "text": [
      "Вероятность того, что уведомление откроют не более 399,5 тыс пользователей из 1 млн: 15.0 %\n"
     ]
    }
   ],
   "source": [
    "# параметры биномиального распределения\n",
    "n = 1000000\n",
    "p = 0.4\n",
    "\n",
    "# параметры аппроксимированного нормального распределения\n",
    "mu = n * p\n",
    "sigma = sqrt(n * p * (1 - p))\n",
    " \n",
    "if (mu - (3 * sigma) >= 0) and ((mu + (3 * sigma) <= n)):\n",
    "    print('Условие применения аппроксимации выполняется')\n",
    "else:\n",
    "    print('Условие применения аппроксимации не выполняется')\n",
    "\n",
    "\n",
    "distr = st.norm(mu, sigma)\n",
    "x = np.linspace(mu - 3*sigma, mu + 3*sigma, 100)\n",
    "plt.plot(x, st.norm.pdf(x, mu, sigma))\n",
    "plt.show()\n",
    "\n",
    "prob = distr.cdf(399500)\n",
    "print(f'Вероятность того, что уведомление откроют не более 399,5 тыс пользователей из 1 млн: {round(prob, 2)*100} %')"
   ]
  },
  {
   "cell_type": "markdown",
   "id": "22905da0",
   "metadata": {},
   "source": [
    "## Общий вывод"
   ]
  },
  {
   "cell_type": "markdown",
   "id": "2a63a3ae",
   "metadata": {},
   "source": [
    "Исследовательский анализ данных:\n",
    "- Примерно равное количество пользователей с подпиской и без, однако пользователей без подписки больше - 54% против 45%.\n",
    "- Средний возраст пользователей около 25 лет - около 800 человек из выборки, младше 15 лет и старше 35 встречаются единицы.\n",
    "- Все поездки можно разделить на 2 типа - короткие(600м в среднем) и длинные (3,5км в среднем).\n",
    "- Средняя длительность поездки в районе 20 минут, имеется небольшое число поездок с длительностью меньше минуты (данные поездки есть только у пользователей без подписки)\n",
    "\n",
    "Гипотезы: \n",
    "- **Разница времени аренды между пользователями с подпиской и без:** среднее значение времени аренды пользователей с подпиской больше, чем у пользователей без подписки.\n",
    "\n",
    "- **Расстояние, проезжаемое пользователями с подпиской, не превышает оптимальное с точки зрения износа самоката значение:** пользователи с подпиской проезжают за 1 поездку в среднем не более 3130 м.\n",
    "\n",
    "\n",
    "- **Разнице помесячной выручки между пользователями с подпиской и без:** средняя помесяная выручка с пользователя с подпиской выше, чем выручка с пользователя без подписки.\n",
    "\n",
    "\n",
    "Рекомендации:\n",
    " \n",
    "- Рекомендации по охвату пользователей промо-акцией: Вероятность получить менее 100 подписок после проведения акции равна 0.05,       при общем количестве участников не менее 1171 человек\n",
    "\n",
    "- Оценка конверсии push-уведомлений: Вероятность того, что уведомление откроют не более 399,5 тыс пользователей из 1 млн: 15.0 %\n",
    " \n",
    "\n",
    "\n"
   ]
  }
 ],
 "metadata": {
  "ExecuteTimeLog": [
   {
    "duration": 49,
    "start_time": "2023-08-16T07:52:54.833Z"
   },
   {
    "duration": 433,
    "start_time": "2023-08-16T07:52:58.116Z"
   },
   {
    "duration": 224,
    "start_time": "2023-08-16T07:53:00.142Z"
   },
   {
    "duration": 75,
    "start_time": "2023-08-16T07:53:14.425Z"
   },
   {
    "duration": 71,
    "start_time": "2023-08-16T07:55:04.933Z"
   },
   {
    "duration": 93,
    "start_time": "2023-08-16T07:55:34.009Z"
   },
   {
    "duration": 81,
    "start_time": "2023-08-16T07:55:49.172Z"
   },
   {
    "duration": 71,
    "start_time": "2023-08-16T07:59:49.011Z"
   },
   {
    "duration": 78,
    "start_time": "2023-08-16T08:00:04.841Z"
   },
   {
    "duration": 86,
    "start_time": "2023-08-16T08:01:51.690Z"
   },
   {
    "duration": 72,
    "start_time": "2023-08-16T08:02:10.550Z"
   },
   {
    "duration": 84,
    "start_time": "2023-08-16T08:07:43.641Z"
   },
   {
    "duration": 105,
    "start_time": "2023-08-16T08:09:48.968Z"
   },
   {
    "duration": 13,
    "start_time": "2023-08-16T08:15:48.477Z"
   },
   {
    "duration": 54,
    "start_time": "2023-08-16T08:15:53.113Z"
   },
   {
    "duration": 13,
    "start_time": "2023-08-16T08:16:39.206Z"
   },
   {
    "duration": 16,
    "start_time": "2023-08-16T08:16:46.092Z"
   },
   {
    "duration": 16,
    "start_time": "2023-08-16T08:16:57.124Z"
   },
   {
    "duration": 16,
    "start_time": "2023-08-16T08:17:56.260Z"
   },
   {
    "duration": 14,
    "start_time": "2023-08-16T08:18:25.533Z"
   },
   {
    "duration": 20,
    "start_time": "2023-08-16T08:18:43.700Z"
   },
   {
    "duration": 11,
    "start_time": "2023-08-16T08:21:42.215Z"
   },
   {
    "duration": 7,
    "start_time": "2023-08-16T08:24:44.413Z"
   },
   {
    "duration": 7,
    "start_time": "2023-08-16T08:24:58.852Z"
   },
   {
    "duration": 7,
    "start_time": "2023-08-16T08:25:09.654Z"
   },
   {
    "duration": 8,
    "start_time": "2023-08-16T08:25:29.528Z"
   },
   {
    "duration": 8,
    "start_time": "2023-08-16T08:26:29.867Z"
   },
   {
    "duration": 13,
    "start_time": "2023-08-16T08:26:48.815Z"
   },
   {
    "duration": 20,
    "start_time": "2023-08-16T08:27:12.453Z"
   },
   {
    "duration": 9,
    "start_time": "2023-08-16T08:33:31.305Z"
   },
   {
    "duration": 9,
    "start_time": "2023-08-16T08:39:15.165Z"
   },
   {
    "duration": 10,
    "start_time": "2023-08-16T08:39:22.019Z"
   },
   {
    "duration": 7,
    "start_time": "2023-08-16T08:40:06.237Z"
   },
   {
    "duration": 11,
    "start_time": "2023-08-16T08:41:25.156Z"
   },
   {
    "duration": 11,
    "start_time": "2023-08-16T08:41:38.820Z"
   },
   {
    "duration": 8,
    "start_time": "2023-08-16T08:44:56.681Z"
   },
   {
    "duration": 6,
    "start_time": "2023-08-16T08:45:16.402Z"
   },
   {
    "duration": 15,
    "start_time": "2023-08-16T08:45:22.077Z"
   },
   {
    "duration": 12,
    "start_time": "2023-08-16T08:46:10.690Z"
   },
   {
    "duration": 17,
    "start_time": "2023-08-16T08:46:33.558Z"
   },
   {
    "duration": 15,
    "start_time": "2023-08-16T08:46:59.002Z"
   },
   {
    "duration": 13,
    "start_time": "2023-08-16T08:53:22.129Z"
   },
   {
    "duration": 12,
    "start_time": "2023-08-16T08:58:13.946Z"
   },
   {
    "duration": 7,
    "start_time": "2023-08-16T09:00:54.554Z"
   },
   {
    "duration": 9,
    "start_time": "2023-08-16T09:01:15.847Z"
   },
   {
    "duration": 7,
    "start_time": "2023-08-16T09:37:59.589Z"
   },
   {
    "duration": 15,
    "start_time": "2023-08-16T09:38:04.048Z"
   },
   {
    "duration": 16,
    "start_time": "2023-08-16T09:38:19.029Z"
   },
   {
    "duration": 6,
    "start_time": "2023-08-16T09:39:19.611Z"
   },
   {
    "duration": 7,
    "start_time": "2023-08-16T09:41:24.496Z"
   },
   {
    "duration": 28,
    "start_time": "2023-08-16T09:41:31.674Z"
   },
   {
    "duration": 27,
    "start_time": "2023-08-16T09:41:46.978Z"
   },
   {
    "duration": 26,
    "start_time": "2023-08-16T09:42:08.546Z"
   },
   {
    "duration": 14,
    "start_time": "2023-08-16T09:42:34.380Z"
   },
   {
    "duration": 10,
    "start_time": "2023-08-16T09:45:20.016Z"
   },
   {
    "duration": 10,
    "start_time": "2023-08-16T09:46:17.722Z"
   },
   {
    "duration": 13,
    "start_time": "2023-08-16T09:50:06.216Z"
   },
   {
    "duration": 14,
    "start_time": "2023-08-16T09:52:34.749Z"
   },
   {
    "duration": 15,
    "start_time": "2023-08-16T09:53:39.511Z"
   },
   {
    "duration": 14,
    "start_time": "2023-08-16T09:53:45.258Z"
   },
   {
    "duration": 20,
    "start_time": "2023-08-16T09:54:19.817Z"
   },
   {
    "duration": 8,
    "start_time": "2023-08-16T09:57:16.624Z"
   },
   {
    "duration": 5,
    "start_time": "2023-08-16T09:57:20.973Z"
   },
   {
    "duration": 589,
    "start_time": "2023-08-16T09:57:38.655Z"
   },
   {
    "duration": 139,
    "start_time": "2023-08-16T09:57:49.062Z"
   },
   {
    "duration": 140,
    "start_time": "2023-08-16T09:57:58.310Z"
   },
   {
    "duration": 135,
    "start_time": "2023-08-16T10:03:43.423Z"
   },
   {
    "duration": 137,
    "start_time": "2023-08-16T10:03:48.462Z"
   },
   {
    "duration": 241,
    "start_time": "2023-08-16T10:04:00.910Z"
   },
   {
    "duration": 208,
    "start_time": "2023-08-16T10:05:05.335Z"
   },
   {
    "duration": 165,
    "start_time": "2023-08-16T10:05:09.182Z"
   },
   {
    "duration": 251,
    "start_time": "2023-08-16T10:05:17.002Z"
   },
   {
    "duration": 31,
    "start_time": "2023-08-16T10:38:45.182Z"
   },
   {
    "duration": 26,
    "start_time": "2023-08-16T10:40:07.149Z"
   },
   {
    "duration": 26,
    "start_time": "2023-08-16T10:41:13.923Z"
   },
   {
    "duration": 41,
    "start_time": "2023-08-16T10:41:41.192Z"
   },
   {
    "duration": 26,
    "start_time": "2023-08-16T10:44:16.211Z"
   },
   {
    "duration": 26,
    "start_time": "2023-08-16T10:44:27.128Z"
   },
   {
    "duration": 84,
    "start_time": "2023-08-16T11:11:07.461Z"
   },
   {
    "duration": 95,
    "start_time": "2023-08-16T11:11:28.426Z"
   },
   {
    "duration": 7,
    "start_time": "2023-08-16T11:11:34.701Z"
   },
   {
    "duration": 33,
    "start_time": "2023-08-16T11:11:44.043Z"
   },
   {
    "duration": 28,
    "start_time": "2023-08-16T11:14:08.050Z"
   },
   {
    "duration": 6,
    "start_time": "2023-08-16T11:14:14.163Z"
   },
   {
    "duration": 23,
    "start_time": "2023-08-16T11:14:21.764Z"
   },
   {
    "duration": 15,
    "start_time": "2023-08-16T11:27:41.902Z"
   },
   {
    "duration": 31,
    "start_time": "2023-08-16T11:30:27.209Z"
   },
   {
    "duration": 1088,
    "start_time": "2023-08-16T11:32:43.549Z"
   },
   {
    "duration": 186,
    "start_time": "2023-08-16T11:33:08.713Z"
   },
   {
    "duration": 30,
    "start_time": "2023-08-16T11:33:26.915Z"
   },
   {
    "duration": 42,
    "start_time": "2023-08-16T11:35:12.747Z"
   },
   {
    "duration": 565,
    "start_time": "2023-08-16T11:40:57.148Z"
   },
   {
    "duration": 4,
    "start_time": "2023-08-16T11:41:44.015Z"
   },
   {
    "duration": 31,
    "start_time": "2023-08-16T11:42:01.562Z"
   },
   {
    "duration": 22,
    "start_time": "2023-08-16T11:43:08.480Z"
   },
   {
    "duration": 5,
    "start_time": "2023-08-16T11:44:00.512Z"
   },
   {
    "duration": 107,
    "start_time": "2023-08-16T11:44:05.834Z"
   },
   {
    "duration": 21,
    "start_time": "2023-08-16T11:46:59.109Z"
   },
   {
    "duration": 80,
    "start_time": "2023-08-16T11:47:58.813Z"
   },
   {
    "duration": 117,
    "start_time": "2023-08-16T11:49:59.713Z"
   },
   {
    "duration": 64,
    "start_time": "2023-08-16T11:50:08.319Z"
   },
   {
    "duration": 12,
    "start_time": "2023-08-16T11:53:23.830Z"
   },
   {
    "duration": 11,
    "start_time": "2023-08-16T11:57:05.229Z"
   },
   {
    "duration": 120,
    "start_time": "2023-08-16T11:57:31.916Z"
   },
   {
    "duration": 5,
    "start_time": "2023-08-16T11:57:41.314Z"
   },
   {
    "duration": 69,
    "start_time": "2023-08-16T11:57:48.090Z"
   },
   {
    "duration": 13,
    "start_time": "2023-08-16T11:58:18.149Z"
   },
   {
    "duration": 93,
    "start_time": "2023-08-16T12:01:36.406Z"
   },
   {
    "duration": 50,
    "start_time": "2023-08-16T12:01:46.312Z"
   },
   {
    "duration": 40,
    "start_time": "2023-08-16T12:02:55.640Z"
   },
   {
    "duration": 42,
    "start_time": "2023-08-16T12:03:01.108Z"
   },
   {
    "duration": 3,
    "start_time": "2023-08-16T12:11:54.878Z"
   },
   {
    "duration": 10,
    "start_time": "2023-08-16T12:20:56.216Z"
   },
   {
    "duration": 9,
    "start_time": "2023-08-16T12:24:16.846Z"
   },
   {
    "duration": 7,
    "start_time": "2023-08-16T12:25:17.118Z"
   },
   {
    "duration": 27,
    "start_time": "2023-08-16T12:25:49.659Z"
   },
   {
    "duration": 9,
    "start_time": "2023-08-16T12:28:07.335Z"
   },
   {
    "duration": 8,
    "start_time": "2023-08-16T12:31:05.976Z"
   },
   {
    "duration": 13,
    "start_time": "2023-08-16T12:32:21.823Z"
   },
   {
    "duration": 9,
    "start_time": "2023-08-16T12:33:52.791Z"
   },
   {
    "duration": 10,
    "start_time": "2023-08-16T12:34:02.742Z"
   },
   {
    "duration": 8,
    "start_time": "2023-08-16T12:35:11.591Z"
   },
   {
    "duration": 3,
    "start_time": "2023-08-16T12:35:17.460Z"
   },
   {
    "duration": 28,
    "start_time": "2023-08-16T12:35:21.832Z"
   },
   {
    "duration": 10,
    "start_time": "2023-08-16T12:35:49.678Z"
   },
   {
    "duration": 36,
    "start_time": "2023-08-16T12:36:13.903Z"
   },
   {
    "duration": 49,
    "start_time": "2023-08-16T12:38:24.832Z"
   },
   {
    "duration": 406,
    "start_time": "2023-08-16T12:38:29.815Z"
   },
   {
    "duration": 119,
    "start_time": "2023-08-16T12:38:30.223Z"
   },
   {
    "duration": 14,
    "start_time": "2023-08-16T12:38:30.343Z"
   },
   {
    "duration": 62,
    "start_time": "2023-08-16T12:38:30.359Z"
   },
   {
    "duration": 37,
    "start_time": "2023-08-16T12:38:30.423Z"
   },
   {
    "duration": 62,
    "start_time": "2023-08-16T12:38:30.461Z"
   },
   {
    "duration": 47,
    "start_time": "2023-08-16T12:38:30.524Z"
   },
   {
    "duration": 31,
    "start_time": "2023-08-16T12:38:30.573Z"
   },
   {
    "duration": 39,
    "start_time": "2023-08-16T12:38:30.606Z"
   },
   {
    "duration": 65,
    "start_time": "2023-08-16T12:38:30.647Z"
   },
   {
    "duration": 415,
    "start_time": "2023-08-16T12:38:30.714Z"
   },
   {
    "duration": 258,
    "start_time": "2023-08-16T12:38:31.131Z"
   },
   {
    "duration": 89,
    "start_time": "2023-08-16T12:38:31.390Z"
   },
   {
    "duration": 0,
    "start_time": "2023-08-16T12:38:31.480Z"
   },
   {
    "duration": 0,
    "start_time": "2023-08-16T12:38:31.481Z"
   },
   {
    "duration": 0,
    "start_time": "2023-08-16T12:38:31.482Z"
   },
   {
    "duration": 0,
    "start_time": "2023-08-16T12:38:31.483Z"
   },
   {
    "duration": 0,
    "start_time": "2023-08-16T12:38:31.484Z"
   },
   {
    "duration": 0,
    "start_time": "2023-08-16T12:38:31.485Z"
   },
   {
    "duration": 0,
    "start_time": "2023-08-16T12:38:31.486Z"
   },
   {
    "duration": 0,
    "start_time": "2023-08-16T12:38:31.487Z"
   },
   {
    "duration": 3,
    "start_time": "2023-08-16T12:38:45.231Z"
   },
   {
    "duration": 105,
    "start_time": "2023-08-16T12:38:45.255Z"
   },
   {
    "duration": 16,
    "start_time": "2023-08-16T12:38:45.362Z"
   },
   {
    "duration": 30,
    "start_time": "2023-08-16T12:38:45.395Z"
   },
   {
    "duration": 27,
    "start_time": "2023-08-16T12:38:45.427Z"
   },
   {
    "duration": 17,
    "start_time": "2023-08-16T12:38:45.458Z"
   },
   {
    "duration": 26,
    "start_time": "2023-08-16T12:38:45.477Z"
   },
   {
    "duration": 9,
    "start_time": "2023-08-16T12:38:45.505Z"
   },
   {
    "duration": 11,
    "start_time": "2023-08-16T12:38:45.515Z"
   },
   {
    "duration": 27,
    "start_time": "2023-08-16T12:38:45.527Z"
   },
   {
    "duration": 167,
    "start_time": "2023-08-16T12:38:45.556Z"
   },
   {
    "duration": 320,
    "start_time": "2023-08-16T12:38:45.724Z"
   },
   {
    "duration": 256,
    "start_time": "2023-08-16T12:38:46.046Z"
   },
   {
    "duration": 93,
    "start_time": "2023-08-16T12:38:46.304Z"
   },
   {
    "duration": 0,
    "start_time": "2023-08-16T12:38:46.399Z"
   },
   {
    "duration": 0,
    "start_time": "2023-08-16T12:38:46.400Z"
   },
   {
    "duration": 0,
    "start_time": "2023-08-16T12:38:46.401Z"
   },
   {
    "duration": 0,
    "start_time": "2023-08-16T12:38:46.403Z"
   },
   {
    "duration": 0,
    "start_time": "2023-08-16T12:38:46.404Z"
   },
   {
    "duration": 0,
    "start_time": "2023-08-16T12:38:46.405Z"
   },
   {
    "duration": 2,
    "start_time": "2023-08-16T12:39:01.050Z"
   },
   {
    "duration": 167,
    "start_time": "2023-08-16T12:39:01.058Z"
   },
   {
    "duration": 16,
    "start_time": "2023-08-16T12:39:01.228Z"
   },
   {
    "duration": 58,
    "start_time": "2023-08-16T12:39:01.246Z"
   },
   {
    "duration": 92,
    "start_time": "2023-08-16T12:39:01.306Z"
   },
   {
    "duration": 51,
    "start_time": "2023-08-16T12:39:01.402Z"
   },
   {
    "duration": 70,
    "start_time": "2023-08-16T12:39:01.456Z"
   },
   {
    "duration": 41,
    "start_time": "2023-08-16T12:39:01.528Z"
   },
   {
    "duration": 46,
    "start_time": "2023-08-16T12:39:01.571Z"
   },
   {
    "duration": 81,
    "start_time": "2023-08-16T12:39:01.619Z"
   },
   {
    "duration": 163,
    "start_time": "2023-08-16T12:39:01.701Z"
   },
   {
    "duration": 250,
    "start_time": "2023-08-16T12:39:01.866Z"
   },
   {
    "duration": 290,
    "start_time": "2023-08-16T12:39:02.117Z"
   },
   {
    "duration": 34,
    "start_time": "2023-08-16T12:39:02.409Z"
   },
   {
    "duration": 119,
    "start_time": "2023-08-16T12:39:02.446Z"
   },
   {
    "duration": 47,
    "start_time": "2023-08-16T12:39:02.567Z"
   },
   {
    "duration": 59,
    "start_time": "2023-08-16T12:39:02.616Z"
   },
   {
    "duration": 35,
    "start_time": "2023-08-16T12:39:02.678Z"
   },
   {
    "duration": 61,
    "start_time": "2023-08-16T12:39:02.716Z"
   },
   {
    "duration": 9,
    "start_time": "2023-08-16T12:39:33.927Z"
   },
   {
    "duration": 24,
    "start_time": "2023-08-16T12:39:41.217Z"
   },
   {
    "duration": 16,
    "start_time": "2023-08-16T13:47:10.389Z"
   },
   {
    "duration": 54,
    "start_time": "2023-08-16T13:48:29.900Z"
   },
   {
    "duration": 6,
    "start_time": "2023-08-16T13:48:32.969Z"
   },
   {
    "duration": 429,
    "start_time": "2023-08-16T13:48:37.109Z"
   },
   {
    "duration": 118,
    "start_time": "2023-08-16T13:48:37.540Z"
   },
   {
    "duration": 13,
    "start_time": "2023-08-16T13:48:37.660Z"
   },
   {
    "duration": 28,
    "start_time": "2023-08-16T13:48:37.675Z"
   },
   {
    "duration": 20,
    "start_time": "2023-08-16T13:48:37.704Z"
   },
   {
    "duration": 26,
    "start_time": "2023-08-16T13:48:37.726Z"
   },
   {
    "duration": 36,
    "start_time": "2023-08-16T13:48:37.754Z"
   },
   {
    "duration": 35,
    "start_time": "2023-08-16T13:48:37.791Z"
   },
   {
    "duration": 30,
    "start_time": "2023-08-16T13:48:37.829Z"
   },
   {
    "duration": 41,
    "start_time": "2023-08-16T13:48:37.863Z"
   },
   {
    "duration": 529,
    "start_time": "2023-08-16T13:48:37.906Z"
   },
   {
    "duration": 264,
    "start_time": "2023-08-16T13:48:38.436Z"
   },
   {
    "duration": 248,
    "start_time": "2023-08-16T13:48:38.702Z"
   },
   {
    "duration": 44,
    "start_time": "2023-08-16T13:48:38.952Z"
   },
   {
    "duration": 26,
    "start_time": "2023-08-16T13:48:38.997Z"
   },
   {
    "duration": 111,
    "start_time": "2023-08-16T13:48:39.026Z"
   },
   {
    "duration": 60,
    "start_time": "2023-08-16T13:48:39.138Z"
   },
   {
    "duration": 40,
    "start_time": "2023-08-16T13:48:39.200Z"
   },
   {
    "duration": 0,
    "start_time": "2023-08-16T13:48:39.242Z"
   },
   {
    "duration": 0,
    "start_time": "2023-08-16T13:48:39.243Z"
   },
   {
    "duration": 13,
    "start_time": "2023-08-16T13:49:20.572Z"
   },
   {
    "duration": 13,
    "start_time": "2023-08-16T13:49:28.091Z"
   },
   {
    "duration": 15,
    "start_time": "2023-08-16T13:49:39.621Z"
   },
   {
    "duration": 15,
    "start_time": "2023-08-16T13:49:54.585Z"
   },
   {
    "duration": 29,
    "start_time": "2023-08-16T13:50:04.669Z"
   },
   {
    "duration": 23,
    "start_time": "2023-08-16T13:50:15.939Z"
   },
   {
    "duration": 38,
    "start_time": "2023-08-16T13:52:01.429Z"
   },
   {
    "duration": 22,
    "start_time": "2023-08-16T13:55:12.647Z"
   },
   {
    "duration": 23,
    "start_time": "2023-08-16T13:57:52.117Z"
   },
   {
    "duration": 14,
    "start_time": "2023-08-16T13:58:02.697Z"
   },
   {
    "duration": 16,
    "start_time": "2023-08-16T14:08:02.140Z"
   },
   {
    "duration": 19,
    "start_time": "2023-08-16T14:08:07.799Z"
   },
   {
    "duration": 34,
    "start_time": "2023-08-16T14:08:15.606Z"
   },
   {
    "duration": 22,
    "start_time": "2023-08-16T14:11:17.318Z"
   },
   {
    "duration": 44,
    "start_time": "2023-08-16T14:11:25.382Z"
   },
   {
    "duration": 51,
    "start_time": "2023-08-16T14:11:37.034Z"
   },
   {
    "duration": 78,
    "start_time": "2023-08-16T14:12:40.748Z"
   },
   {
    "duration": 403,
    "start_time": "2023-08-16T14:12:44.587Z"
   },
   {
    "duration": 134,
    "start_time": "2023-08-16T14:12:44.994Z"
   },
   {
    "duration": 18,
    "start_time": "2023-08-16T14:12:45.130Z"
   },
   {
    "duration": 45,
    "start_time": "2023-08-16T14:12:45.150Z"
   },
   {
    "duration": 12,
    "start_time": "2023-08-16T14:12:45.198Z"
   },
   {
    "duration": 26,
    "start_time": "2023-08-16T14:12:45.212Z"
   },
   {
    "duration": 55,
    "start_time": "2023-08-16T14:12:45.240Z"
   },
   {
    "duration": 8,
    "start_time": "2023-08-16T14:12:45.297Z"
   },
   {
    "duration": 10,
    "start_time": "2023-08-16T14:12:45.307Z"
   },
   {
    "duration": 24,
    "start_time": "2023-08-16T14:12:45.319Z"
   },
   {
    "duration": 595,
    "start_time": "2023-08-16T14:12:45.345Z"
   },
   {
    "duration": 438,
    "start_time": "2023-08-16T14:12:45.943Z"
   },
   {
    "duration": 313,
    "start_time": "2023-08-16T14:12:46.386Z"
   },
   {
    "duration": 48,
    "start_time": "2023-08-16T14:12:46.703Z"
   },
   {
    "duration": 57,
    "start_time": "2023-08-16T14:12:46.754Z"
   },
   {
    "duration": 99,
    "start_time": "2023-08-16T14:12:46.813Z"
   },
   {
    "duration": 91,
    "start_time": "2023-08-16T14:12:46.915Z"
   },
   {
    "duration": 17,
    "start_time": "2023-08-16T14:12:47.008Z"
   },
   {
    "duration": 73,
    "start_time": "2023-08-16T14:12:47.027Z"
   },
   {
    "duration": 51,
    "start_time": "2023-08-16T14:20:43.016Z"
   },
   {
    "duration": 18,
    "start_time": "2023-08-16T14:20:51.034Z"
   },
   {
    "duration": 45,
    "start_time": "2023-08-16T14:24:45.214Z"
   },
   {
    "duration": 47,
    "start_time": "2023-08-16T14:30:55.891Z"
   },
   {
    "duration": 379,
    "start_time": "2023-08-16T14:31:10.241Z"
   },
   {
    "duration": 126,
    "start_time": "2023-08-16T14:31:10.622Z"
   },
   {
    "duration": 14,
    "start_time": "2023-08-16T14:31:10.750Z"
   },
   {
    "duration": 36,
    "start_time": "2023-08-16T14:31:10.767Z"
   },
   {
    "duration": 11,
    "start_time": "2023-08-16T14:31:10.804Z"
   },
   {
    "duration": 27,
    "start_time": "2023-08-16T14:31:10.817Z"
   },
   {
    "duration": 24,
    "start_time": "2023-08-16T14:31:10.846Z"
   },
   {
    "duration": 12,
    "start_time": "2023-08-16T14:31:10.895Z"
   },
   {
    "duration": 11,
    "start_time": "2023-08-16T14:31:10.908Z"
   },
   {
    "duration": 24,
    "start_time": "2023-08-16T14:31:10.922Z"
   },
   {
    "duration": 483,
    "start_time": "2023-08-16T14:31:10.948Z"
   },
   {
    "duration": 271,
    "start_time": "2023-08-16T14:31:11.433Z"
   },
   {
    "duration": 283,
    "start_time": "2023-08-16T14:31:11.705Z"
   },
   {
    "duration": 44,
    "start_time": "2023-08-16T14:31:11.990Z"
   },
   {
    "duration": 61,
    "start_time": "2023-08-16T14:31:12.036Z"
   },
   {
    "duration": 84,
    "start_time": "2023-08-16T14:31:12.099Z"
   },
   {
    "duration": 48,
    "start_time": "2023-08-16T14:31:12.202Z"
   },
   {
    "duration": 13,
    "start_time": "2023-08-16T14:31:12.252Z"
   },
   {
    "duration": 54,
    "start_time": "2023-08-16T14:31:12.267Z"
   },
   {
    "duration": 2024,
    "start_time": "2023-08-16T14:35:04.160Z"
   },
   {
    "duration": 28,
    "start_time": "2023-08-16T14:36:57.813Z"
   },
   {
    "duration": 29,
    "start_time": "2023-08-16T14:37:08.103Z"
   },
   {
    "duration": 41,
    "start_time": "2023-08-16T14:37:17.654Z"
   },
   {
    "duration": 398,
    "start_time": "2023-08-16T14:38:17.623Z"
   },
   {
    "duration": 112,
    "start_time": "2023-08-16T14:38:18.023Z"
   },
   {
    "duration": 14,
    "start_time": "2023-08-16T14:38:18.137Z"
   },
   {
    "duration": 21,
    "start_time": "2023-08-16T14:38:18.153Z"
   },
   {
    "duration": 28,
    "start_time": "2023-08-16T14:38:18.175Z"
   },
   {
    "duration": 21,
    "start_time": "2023-08-16T14:38:18.205Z"
   },
   {
    "duration": 25,
    "start_time": "2023-08-16T14:38:18.227Z"
   },
   {
    "duration": 11,
    "start_time": "2023-08-16T14:38:18.254Z"
   },
   {
    "duration": 22,
    "start_time": "2023-08-16T14:38:18.266Z"
   },
   {
    "duration": 26,
    "start_time": "2023-08-16T14:38:18.296Z"
   },
   {
    "duration": 420,
    "start_time": "2023-08-16T14:38:18.324Z"
   },
   {
    "duration": 261,
    "start_time": "2023-08-16T14:38:18.746Z"
   },
   {
    "duration": 251,
    "start_time": "2023-08-16T14:38:19.008Z"
   },
   {
    "duration": 46,
    "start_time": "2023-08-16T14:38:19.260Z"
   },
   {
    "duration": 27,
    "start_time": "2023-08-16T14:38:19.307Z"
   },
   {
    "duration": 95,
    "start_time": "2023-08-16T14:38:19.335Z"
   },
   {
    "duration": 70,
    "start_time": "2023-08-16T14:38:19.432Z"
   },
   {
    "duration": 15,
    "start_time": "2023-08-16T14:38:19.505Z"
   },
   {
    "duration": 139,
    "start_time": "2023-08-16T14:38:19.522Z"
   },
   {
    "duration": 0,
    "start_time": "2023-08-16T14:38:19.664Z"
   },
   {
    "duration": 15,
    "start_time": "2023-08-16T14:38:35.914Z"
   },
   {
    "duration": 24,
    "start_time": "2023-08-16T14:38:38.336Z"
   },
   {
    "duration": 532,
    "start_time": "2023-08-16T14:44:23.516Z"
   },
   {
    "duration": 155,
    "start_time": "2023-08-16T14:44:24.051Z"
   },
   {
    "duration": 23,
    "start_time": "2023-08-16T14:44:24.208Z"
   },
   {
    "duration": 19,
    "start_time": "2023-08-16T14:44:24.234Z"
   },
   {
    "duration": 40,
    "start_time": "2023-08-16T14:44:24.255Z"
   },
   {
    "duration": 19,
    "start_time": "2023-08-16T14:44:24.297Z"
   },
   {
    "duration": 28,
    "start_time": "2023-08-16T14:44:24.318Z"
   },
   {
    "duration": 14,
    "start_time": "2023-08-16T14:44:24.348Z"
   },
   {
    "duration": 32,
    "start_time": "2023-08-16T14:44:24.364Z"
   },
   {
    "duration": 23,
    "start_time": "2023-08-16T14:44:24.399Z"
   },
   {
    "duration": 637,
    "start_time": "2023-08-16T14:44:24.424Z"
   },
   {
    "duration": 421,
    "start_time": "2023-08-16T14:44:25.063Z"
   },
   {
    "duration": 400,
    "start_time": "2023-08-16T14:44:25.486Z"
   },
   {
    "duration": 58,
    "start_time": "2023-08-16T14:44:25.888Z"
   },
   {
    "duration": 61,
    "start_time": "2023-08-16T14:44:25.949Z"
   },
   {
    "duration": 124,
    "start_time": "2023-08-16T14:44:26.012Z"
   },
   {
    "duration": 79,
    "start_time": "2023-08-16T14:44:26.138Z"
   },
   {
    "duration": 16,
    "start_time": "2023-08-16T14:44:26.219Z"
   },
   {
    "duration": 143,
    "start_time": "2023-08-16T14:44:26.237Z"
   },
   {
    "duration": 0,
    "start_time": "2023-08-16T14:44:26.383Z"
   },
   {
    "duration": 587,
    "start_time": "2023-08-16T14:44:54.779Z"
   },
   {
    "duration": 150,
    "start_time": "2023-08-16T14:44:55.369Z"
   },
   {
    "duration": 23,
    "start_time": "2023-08-16T14:44:55.521Z"
   },
   {
    "duration": 46,
    "start_time": "2023-08-16T14:44:55.548Z"
   },
   {
    "duration": 20,
    "start_time": "2023-08-16T14:44:55.597Z"
   },
   {
    "duration": 46,
    "start_time": "2023-08-16T14:44:55.619Z"
   },
   {
    "duration": 26,
    "start_time": "2023-08-16T14:44:55.667Z"
   },
   {
    "duration": 17,
    "start_time": "2023-08-16T14:44:55.695Z"
   },
   {
    "duration": 22,
    "start_time": "2023-08-16T14:44:55.714Z"
   },
   {
    "duration": 47,
    "start_time": "2023-08-16T14:44:55.738Z"
   },
   {
    "duration": 614,
    "start_time": "2023-08-16T14:44:55.788Z"
   },
   {
    "duration": 413,
    "start_time": "2023-08-16T14:44:56.405Z"
   },
   {
    "duration": 396,
    "start_time": "2023-08-16T14:44:56.822Z"
   },
   {
    "duration": 57,
    "start_time": "2023-08-16T14:44:57.221Z"
   },
   {
    "duration": 52,
    "start_time": "2023-08-16T14:44:57.280Z"
   },
   {
    "duration": 162,
    "start_time": "2023-08-16T14:44:57.335Z"
   },
   {
    "duration": 67,
    "start_time": "2023-08-16T14:44:57.500Z"
   },
   {
    "duration": 29,
    "start_time": "2023-08-16T14:44:57.570Z"
   },
   {
    "duration": 68,
    "start_time": "2023-08-16T14:44:57.601Z"
   },
   {
    "duration": 36,
    "start_time": "2023-08-16T14:44:57.671Z"
   },
   {
    "duration": 38,
    "start_time": "2023-08-16T14:47:03.514Z"
   },
   {
    "duration": 35,
    "start_time": "2023-08-16T14:47:35.104Z"
   },
   {
    "duration": 34,
    "start_time": "2023-08-16T14:47:36.552Z"
   },
   {
    "duration": 36,
    "start_time": "2023-08-16T14:47:37.262Z"
   },
   {
    "duration": 34,
    "start_time": "2023-08-16T14:47:38.044Z"
   },
   {
    "duration": 429,
    "start_time": "2023-08-16T14:47:47.647Z"
   },
   {
    "duration": 146,
    "start_time": "2023-08-16T14:47:48.078Z"
   },
   {
    "duration": 21,
    "start_time": "2023-08-16T14:47:48.226Z"
   },
   {
    "duration": 47,
    "start_time": "2023-08-16T14:47:48.250Z"
   },
   {
    "duration": 16,
    "start_time": "2023-08-16T14:47:48.299Z"
   },
   {
    "duration": 31,
    "start_time": "2023-08-16T14:47:48.318Z"
   },
   {
    "duration": 26,
    "start_time": "2023-08-16T14:47:48.352Z"
   },
   {
    "duration": 18,
    "start_time": "2023-08-16T14:47:48.380Z"
   },
   {
    "duration": 7,
    "start_time": "2023-08-16T14:47:48.400Z"
   },
   {
    "duration": 24,
    "start_time": "2023-08-16T14:47:48.410Z"
   },
   {
    "duration": 446,
    "start_time": "2023-08-16T14:47:48.436Z"
   },
   {
    "duration": 297,
    "start_time": "2023-08-16T14:47:48.884Z"
   },
   {
    "duration": 270,
    "start_time": "2023-08-16T14:47:49.183Z"
   },
   {
    "duration": 47,
    "start_time": "2023-08-16T14:47:49.454Z"
   },
   {
    "duration": 23,
    "start_time": "2023-08-16T14:47:49.502Z"
   },
   {
    "duration": 128,
    "start_time": "2023-08-16T14:47:49.527Z"
   },
   {
    "duration": 71,
    "start_time": "2023-08-16T14:47:49.657Z"
   },
   {
    "duration": 12,
    "start_time": "2023-08-16T14:47:49.730Z"
   },
   {
    "duration": 23,
    "start_time": "2023-08-16T14:47:49.744Z"
   },
   {
    "duration": 56,
    "start_time": "2023-08-16T14:47:49.769Z"
   },
   {
    "duration": 159,
    "start_time": "2023-08-16T14:48:25.320Z"
   },
   {
    "duration": 349,
    "start_time": "2023-08-16T14:48:44.558Z"
   },
   {
    "duration": 39,
    "start_time": "2023-08-16T14:48:54.691Z"
   },
   {
    "duration": 56,
    "start_time": "2023-08-16T14:49:56.886Z"
   },
   {
    "duration": 457,
    "start_time": "2023-08-16T14:50:00.869Z"
   },
   {
    "duration": 136,
    "start_time": "2023-08-16T14:50:01.328Z"
   },
   {
    "duration": 37,
    "start_time": "2023-08-16T14:50:01.466Z"
   },
   {
    "duration": 22,
    "start_time": "2023-08-16T14:50:01.511Z"
   },
   {
    "duration": 91,
    "start_time": "2023-08-16T14:50:01.535Z"
   },
   {
    "duration": 64,
    "start_time": "2023-08-16T14:50:01.628Z"
   },
   {
    "duration": 116,
    "start_time": "2023-08-16T14:50:01.695Z"
   },
   {
    "duration": 46,
    "start_time": "2023-08-16T14:50:01.813Z"
   },
   {
    "duration": 49,
    "start_time": "2023-08-16T14:50:01.861Z"
   },
   {
    "duration": 55,
    "start_time": "2023-08-16T14:50:01.913Z"
   },
   {
    "duration": 721,
    "start_time": "2023-08-16T14:50:01.971Z"
   },
   {
    "duration": 290,
    "start_time": "2023-08-16T14:50:02.693Z"
   },
   {
    "duration": 282,
    "start_time": "2023-08-16T14:50:02.985Z"
   },
   {
    "duration": 57,
    "start_time": "2023-08-16T14:50:03.269Z"
   },
   {
    "duration": 31,
    "start_time": "2023-08-16T14:50:03.328Z"
   },
   {
    "duration": 100,
    "start_time": "2023-08-16T14:50:03.360Z"
   },
   {
    "duration": 58,
    "start_time": "2023-08-16T14:50:03.462Z"
   },
   {
    "duration": 11,
    "start_time": "2023-08-16T14:50:03.522Z"
   },
   {
    "duration": 25,
    "start_time": "2023-08-16T14:50:03.535Z"
   },
   {
    "duration": 45,
    "start_time": "2023-08-16T14:50:03.562Z"
   },
   {
    "duration": 424,
    "start_time": "2023-08-16T15:04:42.347Z"
   },
   {
    "duration": 127,
    "start_time": "2023-08-16T15:04:42.774Z"
   },
   {
    "duration": 17,
    "start_time": "2023-08-16T15:04:42.903Z"
   },
   {
    "duration": 25,
    "start_time": "2023-08-16T15:04:42.922Z"
   },
   {
    "duration": 21,
    "start_time": "2023-08-16T15:04:42.949Z"
   },
   {
    "duration": 23,
    "start_time": "2023-08-16T15:04:42.972Z"
   },
   {
    "duration": 28,
    "start_time": "2023-08-16T15:04:42.996Z"
   },
   {
    "duration": 14,
    "start_time": "2023-08-16T15:04:43.026Z"
   },
   {
    "duration": 21,
    "start_time": "2023-08-16T15:04:43.042Z"
   },
   {
    "duration": 29,
    "start_time": "2023-08-16T15:04:43.066Z"
   },
   {
    "duration": 513,
    "start_time": "2023-08-16T15:04:43.097Z"
   },
   {
    "duration": 323,
    "start_time": "2023-08-16T15:04:43.612Z"
   },
   {
    "duration": 311,
    "start_time": "2023-08-16T15:04:43.937Z"
   },
   {
    "duration": 54,
    "start_time": "2023-08-16T15:04:44.250Z"
   },
   {
    "duration": 31,
    "start_time": "2023-08-16T15:04:44.308Z"
   },
   {
    "duration": 100,
    "start_time": "2023-08-16T15:04:44.341Z"
   },
   {
    "duration": 71,
    "start_time": "2023-08-16T15:04:44.443Z"
   },
   {
    "duration": 11,
    "start_time": "2023-08-16T15:04:44.516Z"
   },
   {
    "duration": 28,
    "start_time": "2023-08-16T15:04:44.528Z"
   },
   {
    "duration": 48,
    "start_time": "2023-08-16T15:04:44.558Z"
   },
   {
    "duration": 452,
    "start_time": "2023-08-16T15:07:04.724Z"
   },
   {
    "duration": 121,
    "start_time": "2023-08-16T15:07:05.179Z"
   },
   {
    "duration": 15,
    "start_time": "2023-08-16T15:07:05.302Z"
   },
   {
    "duration": 38,
    "start_time": "2023-08-16T15:07:05.319Z"
   },
   {
    "duration": 31,
    "start_time": "2023-08-16T15:07:05.359Z"
   },
   {
    "duration": 59,
    "start_time": "2023-08-16T15:07:05.392Z"
   },
   {
    "duration": 45,
    "start_time": "2023-08-16T15:07:05.454Z"
   },
   {
    "duration": 63,
    "start_time": "2023-08-16T15:07:05.501Z"
   },
   {
    "duration": 38,
    "start_time": "2023-08-16T15:07:05.566Z"
   },
   {
    "duration": 78,
    "start_time": "2023-08-16T15:07:05.606Z"
   },
   {
    "duration": 444,
    "start_time": "2023-08-16T15:07:05.686Z"
   },
   {
    "duration": 299,
    "start_time": "2023-08-16T15:07:06.132Z"
   },
   {
    "duration": 322,
    "start_time": "2023-08-16T15:07:06.433Z"
   },
   {
    "duration": 43,
    "start_time": "2023-08-16T15:07:06.757Z"
   },
   {
    "duration": 26,
    "start_time": "2023-08-16T15:07:06.802Z"
   },
   {
    "duration": 105,
    "start_time": "2023-08-16T15:07:06.830Z"
   },
   {
    "duration": 72,
    "start_time": "2023-08-16T15:07:06.937Z"
   },
   {
    "duration": 86,
    "start_time": "2023-08-16T15:07:07.011Z"
   },
   {
    "duration": 0,
    "start_time": "2023-08-16T15:07:07.100Z"
   },
   {
    "duration": 0,
    "start_time": "2023-08-16T15:07:07.101Z"
   },
   {
    "duration": 3,
    "start_time": "2023-08-16T15:07:18.663Z"
   },
   {
    "duration": 118,
    "start_time": "2023-08-16T15:07:18.677Z"
   },
   {
    "duration": 18,
    "start_time": "2023-08-16T15:07:18.798Z"
   },
   {
    "duration": 25,
    "start_time": "2023-08-16T15:07:18.818Z"
   },
   {
    "duration": 8,
    "start_time": "2023-08-16T15:07:18.845Z"
   },
   {
    "duration": 12,
    "start_time": "2023-08-16T15:07:18.855Z"
   },
   {
    "duration": 37,
    "start_time": "2023-08-16T15:07:18.868Z"
   },
   {
    "duration": 9,
    "start_time": "2023-08-16T15:07:18.907Z"
   },
   {
    "duration": 24,
    "start_time": "2023-08-16T15:07:18.918Z"
   },
   {
    "duration": 31,
    "start_time": "2023-08-16T15:07:18.943Z"
   },
   {
    "duration": 198,
    "start_time": "2023-08-16T15:07:18.976Z"
   },
   {
    "duration": 299,
    "start_time": "2023-08-16T15:07:19.176Z"
   },
   {
    "duration": 278,
    "start_time": "2023-08-16T15:07:19.477Z"
   },
   {
    "duration": 41,
    "start_time": "2023-08-16T15:07:19.756Z"
   },
   {
    "duration": 24,
    "start_time": "2023-08-16T15:07:19.800Z"
   },
   {
    "duration": 22,
    "start_time": "2023-08-16T15:07:19.826Z"
   },
   {
    "duration": 80,
    "start_time": "2023-08-16T15:07:19.850Z"
   },
   {
    "duration": 24,
    "start_time": "2023-08-16T15:07:19.932Z"
   },
   {
    "duration": 15,
    "start_time": "2023-08-16T15:07:19.957Z"
   },
   {
    "duration": 31,
    "start_time": "2023-08-16T15:07:19.999Z"
   },
   {
    "duration": 27,
    "start_time": "2023-08-16T15:07:31.562Z"
   },
   {
    "duration": 1735,
    "start_time": "2023-08-16T15:09:25.352Z"
   },
   {
    "duration": 61,
    "start_time": "2023-08-16T15:09:38.997Z"
   },
   {
    "duration": 438,
    "start_time": "2023-08-16T15:09:49.161Z"
   },
   {
    "duration": 113,
    "start_time": "2023-08-16T15:09:49.602Z"
   },
   {
    "duration": 14,
    "start_time": "2023-08-16T15:09:49.717Z"
   },
   {
    "duration": 12,
    "start_time": "2023-08-16T15:09:49.735Z"
   },
   {
    "duration": 48,
    "start_time": "2023-08-16T15:09:49.749Z"
   },
   {
    "duration": 17,
    "start_time": "2023-08-16T15:09:49.799Z"
   },
   {
    "duration": 14,
    "start_time": "2023-08-16T15:09:49.818Z"
   },
   {
    "duration": 9,
    "start_time": "2023-08-16T15:09:49.834Z"
   },
   {
    "duration": 51,
    "start_time": "2023-08-16T15:09:49.845Z"
   },
   {
    "duration": 19,
    "start_time": "2023-08-16T15:09:49.899Z"
   },
   {
    "duration": 432,
    "start_time": "2023-08-16T15:09:49.920Z"
   },
   {
    "duration": 266,
    "start_time": "2023-08-16T15:09:50.354Z"
   },
   {
    "duration": 265,
    "start_time": "2023-08-16T15:09:50.621Z"
   },
   {
    "duration": 39,
    "start_time": "2023-08-16T15:09:50.888Z"
   },
   {
    "duration": 24,
    "start_time": "2023-08-16T15:09:50.930Z"
   },
   {
    "duration": 118,
    "start_time": "2023-08-16T15:09:50.957Z"
   },
   {
    "duration": 54,
    "start_time": "2023-08-16T15:09:51.078Z"
   },
   {
    "duration": 26,
    "start_time": "2023-08-16T15:09:51.133Z"
   },
   {
    "duration": 42,
    "start_time": "2023-08-16T15:09:51.161Z"
   },
   {
    "duration": 28,
    "start_time": "2023-08-16T15:09:51.205Z"
   },
   {
    "duration": 523,
    "start_time": "2023-08-16T15:10:25.804Z"
   },
   {
    "duration": 409,
    "start_time": "2023-08-16T15:10:40.799Z"
   },
   {
    "duration": 140,
    "start_time": "2023-08-16T15:10:41.210Z"
   },
   {
    "duration": 15,
    "start_time": "2023-08-16T15:10:41.352Z"
   },
   {
    "duration": 15,
    "start_time": "2023-08-16T15:10:41.396Z"
   },
   {
    "duration": 11,
    "start_time": "2023-08-16T15:10:41.413Z"
   },
   {
    "duration": 30,
    "start_time": "2023-08-16T15:10:41.426Z"
   },
   {
    "duration": 38,
    "start_time": "2023-08-16T15:10:41.458Z"
   },
   {
    "duration": 11,
    "start_time": "2023-08-16T15:10:41.498Z"
   },
   {
    "duration": 8,
    "start_time": "2023-08-16T15:10:41.511Z"
   },
   {
    "duration": 33,
    "start_time": "2023-08-16T15:10:41.523Z"
   },
   {
    "duration": 466,
    "start_time": "2023-08-16T15:10:41.559Z"
   },
   {
    "duration": 262,
    "start_time": "2023-08-16T15:10:42.026Z"
   },
   {
    "duration": 306,
    "start_time": "2023-08-16T15:10:42.295Z"
   },
   {
    "duration": 47,
    "start_time": "2023-08-16T15:10:42.603Z"
   },
   {
    "duration": 53,
    "start_time": "2023-08-16T15:10:42.652Z"
   },
   {
    "duration": 92,
    "start_time": "2023-08-16T15:10:42.707Z"
   },
   {
    "duration": 45,
    "start_time": "2023-08-16T15:10:42.801Z"
   },
   {
    "duration": 56,
    "start_time": "2023-08-16T15:10:42.848Z"
   },
   {
    "duration": 16,
    "start_time": "2023-08-16T15:10:42.906Z"
   },
   {
    "duration": 28,
    "start_time": "2023-08-16T15:10:42.923Z"
   },
   {
    "duration": 408,
    "start_time": "2023-08-16T15:25:35.614Z"
   },
   {
    "duration": 9,
    "start_time": "2023-08-16T15:32:09.664Z"
   },
   {
    "duration": 7,
    "start_time": "2023-08-16T15:32:25.587Z"
   },
   {
    "duration": 6,
    "start_time": "2023-08-16T15:32:33.386Z"
   },
   {
    "duration": 6,
    "start_time": "2023-08-16T15:33:16.990Z"
   },
   {
    "duration": 7,
    "start_time": "2023-08-16T15:33:35.735Z"
   },
   {
    "duration": 6,
    "start_time": "2023-08-16T15:34:00.236Z"
   },
   {
    "duration": 11,
    "start_time": "2023-08-16T15:35:37.025Z"
   },
   {
    "duration": 10,
    "start_time": "2023-08-16T15:36:41.713Z"
   },
   {
    "duration": 9,
    "start_time": "2023-08-16T15:36:55.457Z"
   },
   {
    "duration": 6,
    "start_time": "2023-08-16T15:37:24.727Z"
   },
   {
    "duration": 7,
    "start_time": "2023-08-16T15:38:10.855Z"
   },
   {
    "duration": 6,
    "start_time": "2023-08-16T15:39:50.265Z"
   },
   {
    "duration": 6,
    "start_time": "2023-08-16T15:41:57.713Z"
   },
   {
    "duration": 6,
    "start_time": "2023-08-16T15:42:12.378Z"
   },
   {
    "duration": 5,
    "start_time": "2023-08-16T15:48:39.875Z"
   },
   {
    "duration": 5,
    "start_time": "2023-08-16T15:49:37.020Z"
   },
   {
    "duration": 5,
    "start_time": "2023-08-16T15:49:40.680Z"
   },
   {
    "duration": 840,
    "start_time": "2023-08-16T16:02:18.404Z"
   },
   {
    "duration": 114,
    "start_time": "2023-08-16T16:02:19.247Z"
   },
   {
    "duration": 14,
    "start_time": "2023-08-16T16:02:19.363Z"
   },
   {
    "duration": 21,
    "start_time": "2023-08-16T16:02:19.379Z"
   },
   {
    "duration": 8,
    "start_time": "2023-08-16T16:02:19.402Z"
   },
   {
    "duration": 18,
    "start_time": "2023-08-16T16:02:19.411Z"
   },
   {
    "duration": 15,
    "start_time": "2023-08-16T16:02:19.430Z"
   },
   {
    "duration": 8,
    "start_time": "2023-08-16T16:02:19.446Z"
   },
   {
    "duration": 19,
    "start_time": "2023-08-16T16:02:19.456Z"
   },
   {
    "duration": 30,
    "start_time": "2023-08-16T16:02:19.479Z"
   },
   {
    "duration": 394,
    "start_time": "2023-08-16T16:02:19.510Z"
   },
   {
    "duration": 247,
    "start_time": "2023-08-16T16:02:19.906Z"
   },
   {
    "duration": 244,
    "start_time": "2023-08-16T16:02:20.155Z"
   },
   {
    "duration": 32,
    "start_time": "2023-08-16T16:02:20.400Z"
   },
   {
    "duration": 23,
    "start_time": "2023-08-16T16:02:20.433Z"
   },
   {
    "duration": 41,
    "start_time": "2023-08-16T16:02:20.458Z"
   },
   {
    "duration": 47,
    "start_time": "2023-08-16T16:02:20.502Z"
   },
   {
    "duration": 55,
    "start_time": "2023-08-16T16:02:20.550Z"
   },
   {
    "duration": 15,
    "start_time": "2023-08-16T16:02:20.607Z"
   },
   {
    "duration": 69,
    "start_time": "2023-08-16T16:02:20.624Z"
   },
   {
    "duration": 25,
    "start_time": "2023-08-16T16:02:20.695Z"
   },
   {
    "duration": 55,
    "start_time": "2023-08-16T16:02:20.721Z"
   },
   {
    "duration": 49,
    "start_time": "2023-08-16T16:02:20.778Z"
   },
   {
    "duration": 10,
    "start_time": "2023-08-16T16:06:43.011Z"
   },
   {
    "duration": 8,
    "start_time": "2023-08-16T16:06:49.043Z"
   },
   {
    "duration": 10,
    "start_time": "2023-08-16T16:06:54.280Z"
   },
   {
    "duration": 98,
    "start_time": "2023-08-16T16:49:39.898Z"
   },
   {
    "duration": 3,
    "start_time": "2023-08-16T16:49:50.604Z"
   },
   {
    "duration": 21,
    "start_time": "2023-08-16T16:49:53.739Z"
   },
   {
    "duration": 4,
    "start_time": "2023-08-16T16:50:06.412Z"
   },
   {
    "duration": 1088,
    "start_time": "2023-08-16T16:50:10.221Z"
   },
   {
    "duration": 203,
    "start_time": "2023-08-16T16:51:02.906Z"
   },
   {
    "duration": 10666,
    "start_time": "2023-08-16T16:51:09.844Z"
   },
   {
    "duration": 238,
    "start_time": "2023-08-16T16:51:32.370Z"
   },
   {
    "duration": 13,
    "start_time": "2023-08-16T16:59:48.438Z"
   },
   {
    "duration": 4,
    "start_time": "2023-08-16T17:00:09.228Z"
   },
   {
    "duration": 127,
    "start_time": "2023-08-16T17:00:13.425Z"
   },
   {
    "duration": 262,
    "start_time": "2023-08-16T17:01:02.080Z"
   },
   {
    "duration": 1506,
    "start_time": "2023-08-16T17:01:30.561Z"
   },
   {
    "duration": 15,
    "start_time": "2023-08-16T19:58:07.030Z"
   },
   {
    "duration": 12,
    "start_time": "2023-08-16T19:58:51.339Z"
   },
   {
    "duration": 1127,
    "start_time": "2023-08-16T19:58:57.737Z"
   },
   {
    "duration": 426,
    "start_time": "2023-08-16T19:58:58.867Z"
   },
   {
    "duration": 15,
    "start_time": "2023-08-16T19:58:59.295Z"
   },
   {
    "duration": 12,
    "start_time": "2023-08-16T19:58:59.312Z"
   },
   {
    "duration": 49,
    "start_time": "2023-08-16T19:58:59.326Z"
   },
   {
    "duration": 15,
    "start_time": "2023-08-16T19:58:59.377Z"
   },
   {
    "duration": 20,
    "start_time": "2023-08-16T19:58:59.394Z"
   },
   {
    "duration": 12,
    "start_time": "2023-08-16T19:58:59.416Z"
   },
   {
    "duration": 6,
    "start_time": "2023-08-16T19:58:59.430Z"
   },
   {
    "duration": 46,
    "start_time": "2023-08-16T19:58:59.439Z"
   },
   {
    "duration": 156,
    "start_time": "2023-08-16T19:58:59.487Z"
   },
   {
    "duration": 250,
    "start_time": "2023-08-16T19:58:59.644Z"
   },
   {
    "duration": 265,
    "start_time": "2023-08-16T19:58:59.896Z"
   },
   {
    "duration": 42,
    "start_time": "2023-08-16T19:59:00.163Z"
   },
   {
    "duration": 38,
    "start_time": "2023-08-16T19:59:00.206Z"
   },
   {
    "duration": 32,
    "start_time": "2023-08-16T19:59:00.245Z"
   },
   {
    "duration": 49,
    "start_time": "2023-08-16T19:59:00.279Z"
   },
   {
    "duration": 63,
    "start_time": "2023-08-16T19:59:00.329Z"
   },
   {
    "duration": 14,
    "start_time": "2023-08-16T19:59:00.394Z"
   },
   {
    "duration": 45,
    "start_time": "2023-08-16T19:59:00.410Z"
   },
   {
    "duration": 40,
    "start_time": "2023-08-16T19:59:00.457Z"
   },
   {
    "duration": 34,
    "start_time": "2023-08-16T19:59:00.499Z"
   },
   {
    "duration": 45,
    "start_time": "2023-08-16T19:59:00.536Z"
   },
   {
    "duration": 36,
    "start_time": "2023-08-16T19:59:00.584Z"
   },
   {
    "duration": 307,
    "start_time": "2023-08-16T19:59:00.622Z"
   },
   {
    "duration": 333,
    "start_time": "2023-08-16T19:59:55.959Z"
   },
   {
    "duration": 155,
    "start_time": "2023-08-16T20:02:16.830Z"
   },
   {
    "duration": 253,
    "start_time": "2023-08-16T20:02:22.516Z"
   },
   {
    "duration": 6,
    "start_time": "2023-08-16T20:02:58.757Z"
   },
   {
    "duration": 5,
    "start_time": "2023-08-16T20:03:57.418Z"
   },
   {
    "duration": 5,
    "start_time": "2023-08-16T20:04:44.363Z"
   },
   {
    "duration": 9,
    "start_time": "2023-08-16T20:04:59.350Z"
   },
   {
    "duration": 125,
    "start_time": "2023-08-16T20:05:21.143Z"
   },
   {
    "duration": 8,
    "start_time": "2023-08-16T20:05:33.160Z"
   },
   {
    "duration": 227,
    "start_time": "2023-08-16T20:06:20.379Z"
   },
   {
    "duration": 9,
    "start_time": "2023-08-16T20:09:39.259Z"
   },
   {
    "duration": 5,
    "start_time": "2023-08-16T20:11:27.747Z"
   },
   {
    "duration": 6,
    "start_time": "2023-08-16T20:11:52.704Z"
   },
   {
    "duration": 21057,
    "start_time": "2023-08-16T20:13:41.228Z"
   },
   {
    "duration": 14719,
    "start_time": "2023-08-16T20:14:34.597Z"
   },
   {
    "duration": 12302,
    "start_time": "2023-08-16T20:14:54.495Z"
   },
   {
    "duration": 5954,
    "start_time": "2023-08-16T20:15:44.558Z"
   },
   {
    "duration": 6,
    "start_time": "2023-08-16T20:16:00.332Z"
   },
   {
    "duration": 5,
    "start_time": "2023-08-16T20:16:10.120Z"
   },
   {
    "duration": 4,
    "start_time": "2023-08-16T20:17:09.378Z"
   },
   {
    "duration": 6,
    "start_time": "2023-08-16T20:17:37.462Z"
   },
   {
    "duration": 22372,
    "start_time": "2023-08-16T20:18:35.640Z"
   },
   {
    "duration": 119,
    "start_time": "2023-08-16T20:19:37.412Z"
   },
   {
    "duration": 117,
    "start_time": "2023-08-16T20:19:54.835Z"
   },
   {
    "duration": 5,
    "start_time": "2023-08-16T20:20:49.840Z"
   },
   {
    "duration": 5,
    "start_time": "2023-08-16T20:21:00.874Z"
   },
   {
    "duration": 4,
    "start_time": "2023-08-16T20:21:09.620Z"
   },
   {
    "duration": 4,
    "start_time": "2023-08-16T20:21:16.979Z"
   },
   {
    "duration": 6,
    "start_time": "2023-08-16T20:21:24.461Z"
   },
   {
    "duration": 5,
    "start_time": "2023-08-16T20:21:31.865Z"
   },
   {
    "duration": 4,
    "start_time": "2023-08-16T20:21:39.180Z"
   },
   {
    "duration": 6,
    "start_time": "2023-08-16T20:21:45.809Z"
   },
   {
    "duration": 4,
    "start_time": "2023-08-16T20:22:59.981Z"
   },
   {
    "duration": 5,
    "start_time": "2023-08-16T20:23:08.435Z"
   },
   {
    "duration": 6,
    "start_time": "2023-08-16T20:23:40.212Z"
   },
   {
    "duration": 5,
    "start_time": "2023-08-16T20:24:13.559Z"
   },
   {
    "duration": 35,
    "start_time": "2023-08-16T20:24:27.197Z"
   },
   {
    "duration": 313,
    "start_time": "2023-08-16T20:25:02.664Z"
   },
   {
    "duration": 491,
    "start_time": "2023-08-16T20:25:23.654Z"
   },
   {
    "duration": 323,
    "start_time": "2023-08-16T20:25:37.853Z"
   },
   {
    "duration": 361,
    "start_time": "2023-08-16T20:25:44.199Z"
   },
   {
    "duration": 450,
    "start_time": "2023-08-16T20:28:50.397Z"
   },
   {
    "duration": 390,
    "start_time": "2023-08-16T20:29:44.005Z"
   },
   {
    "duration": 355,
    "start_time": "2023-08-16T20:30:02.682Z"
   },
   {
    "duration": 370,
    "start_time": "2023-08-16T20:30:22.582Z"
   },
   {
    "duration": 495,
    "start_time": "2023-08-16T20:31:27.801Z"
   },
   {
    "duration": 474,
    "start_time": "2023-08-16T20:31:50.006Z"
   },
   {
    "duration": 328,
    "start_time": "2023-08-16T20:32:56.755Z"
   },
   {
    "duration": 319,
    "start_time": "2023-08-16T20:33:43.005Z"
   },
   {
    "duration": 473,
    "start_time": "2023-08-16T20:34:03.079Z"
   },
   {
    "duration": 13,
    "start_time": "2023-08-16T20:39:56.666Z"
   },
   {
    "duration": 9,
    "start_time": "2023-08-16T20:40:07.626Z"
   },
   {
    "duration": 0,
    "start_time": "2023-08-16T20:43:41.177Z"
   },
   {
    "duration": 94,
    "start_time": "2023-08-16T20:44:28.288Z"
   },
   {
    "duration": 38960,
    "start_time": "2023-08-16T20:45:17.920Z"
   },
   {
    "duration": 5,
    "start_time": "2023-08-16T20:51:14.733Z"
   },
   {
    "duration": 6,
    "start_time": "2023-08-16T20:53:17.052Z"
   },
   {
    "duration": 8,
    "start_time": "2023-08-16T20:53:23.333Z"
   },
   {
    "duration": 3,
    "start_time": "2023-08-16T20:54:28.032Z"
   },
   {
    "duration": 9,
    "start_time": "2023-08-16T20:56:30.492Z"
   },
   {
    "duration": 9,
    "start_time": "2023-08-16T20:58:07.416Z"
   },
   {
    "duration": 6,
    "start_time": "2023-08-16T20:58:38.143Z"
   },
   {
    "duration": 11,
    "start_time": "2023-08-16T20:59:22.062Z"
   },
   {
    "duration": 142,
    "start_time": "2023-08-16T20:59:39.334Z"
   },
   {
    "duration": 238,
    "start_time": "2023-08-16T21:00:22.317Z"
   },
   {
    "duration": 13,
    "start_time": "2023-08-16T21:02:01.980Z"
   },
   {
    "duration": 174,
    "start_time": "2023-08-16T21:02:13.722Z"
   },
   {
    "duration": 1233,
    "start_time": "2023-08-17T08:29:34.568Z"
   },
   {
    "duration": 339,
    "start_time": "2023-08-17T08:29:35.803Z"
   },
   {
    "duration": 17,
    "start_time": "2023-08-17T08:29:36.143Z"
   },
   {
    "duration": 34,
    "start_time": "2023-08-17T08:29:36.162Z"
   },
   {
    "duration": 12,
    "start_time": "2023-08-17T08:29:36.197Z"
   },
   {
    "duration": 22,
    "start_time": "2023-08-17T08:29:36.211Z"
   },
   {
    "duration": 13,
    "start_time": "2023-08-17T08:29:36.235Z"
   },
   {
    "duration": 17,
    "start_time": "2023-08-17T08:29:36.255Z"
   },
   {
    "duration": 18,
    "start_time": "2023-08-17T08:29:36.273Z"
   },
   {
    "duration": 21,
    "start_time": "2023-08-17T08:29:36.294Z"
   },
   {
    "duration": 166,
    "start_time": "2023-08-17T08:29:36.316Z"
   },
   {
    "duration": 242,
    "start_time": "2023-08-17T08:29:36.483Z"
   },
   {
    "duration": 252,
    "start_time": "2023-08-17T08:29:36.726Z"
   },
   {
    "duration": 42,
    "start_time": "2023-08-17T08:29:36.980Z"
   },
   {
    "duration": 45,
    "start_time": "2023-08-17T08:29:37.024Z"
   },
   {
    "duration": 18,
    "start_time": "2023-08-17T08:29:37.070Z"
   },
   {
    "duration": 38,
    "start_time": "2023-08-17T08:29:37.089Z"
   },
   {
    "duration": 54,
    "start_time": "2023-08-17T08:29:37.129Z"
   },
   {
    "duration": 13,
    "start_time": "2023-08-17T08:29:37.185Z"
   },
   {
    "duration": 32,
    "start_time": "2023-08-17T08:29:37.199Z"
   },
   {
    "duration": 5,
    "start_time": "2023-08-17T08:29:37.233Z"
   },
   {
    "duration": 5,
    "start_time": "2023-08-17T08:29:37.265Z"
   },
   {
    "duration": 10,
    "start_time": "2023-08-17T08:29:37.272Z"
   },
   {
    "duration": 9,
    "start_time": "2023-08-17T08:29:37.284Z"
   },
   {
    "duration": 343,
    "start_time": "2023-08-17T08:29:37.294Z"
   },
   {
    "duration": 147,
    "start_time": "2023-08-17T08:29:37.639Z"
   },
   {
    "duration": 6,
    "start_time": "2023-08-17T08:51:40.879Z"
   },
   {
    "duration": 7,
    "start_time": "2023-08-17T08:51:53.674Z"
   },
   {
    "duration": 70,
    "start_time": "2023-08-17T14:57:57.645Z"
   },
   {
    "duration": 1769,
    "start_time": "2023-08-17T14:58:06.377Z"
   },
   {
    "duration": 320,
    "start_time": "2023-08-17T14:58:08.149Z"
   },
   {
    "duration": 15,
    "start_time": "2023-08-17T14:58:08.470Z"
   },
   {
    "duration": 23,
    "start_time": "2023-08-17T14:58:18.419Z"
   },
   {
    "duration": 87,
    "start_time": "2023-08-17T15:00:27.174Z"
   },
   {
    "duration": 110,
    "start_time": "2023-08-17T15:00:49.953Z"
   },
   {
    "duration": 18,
    "start_time": "2023-08-17T15:01:48.336Z"
   },
   {
    "duration": 15,
    "start_time": "2023-08-17T15:01:55.214Z"
   },
   {
    "duration": 17,
    "start_time": "2023-08-17T15:02:01.897Z"
   },
   {
    "duration": 134,
    "start_time": "2023-08-17T15:09:28.772Z"
   },
   {
    "duration": 62,
    "start_time": "2023-08-17T15:09:47.868Z"
   },
   {
    "duration": 146,
    "start_time": "2023-08-17T15:10:08.133Z"
   },
   {
    "duration": 141,
    "start_time": "2023-08-17T15:10:14.077Z"
   },
   {
    "duration": 12,
    "start_time": "2023-08-17T15:16:00.579Z"
   },
   {
    "duration": 10,
    "start_time": "2023-08-17T15:16:47.888Z"
   },
   {
    "duration": 57,
    "start_time": "2023-08-17T15:16:58.627Z"
   },
   {
    "duration": 131,
    "start_time": "2023-08-17T15:17:03.107Z"
   },
   {
    "duration": 110,
    "start_time": "2023-08-17T15:17:37.052Z"
   },
   {
    "duration": 133,
    "start_time": "2023-08-17T15:21:25.206Z"
   },
   {
    "duration": 108,
    "start_time": "2023-08-17T15:21:48.086Z"
   },
   {
    "duration": 90,
    "start_time": "2023-08-17T15:22:36.262Z"
   },
   {
    "duration": 127,
    "start_time": "2023-08-17T15:22:41.784Z"
   },
   {
    "duration": 122,
    "start_time": "2023-08-17T15:23:15.766Z"
   },
   {
    "duration": 248,
    "start_time": "2023-08-17T15:23:20.329Z"
   },
   {
    "duration": 122,
    "start_time": "2023-08-17T15:23:26.804Z"
   },
   {
    "duration": 6,
    "start_time": "2023-08-17T15:31:52.852Z"
   },
   {
    "duration": 138,
    "start_time": "2023-08-17T15:32:01.492Z"
   },
   {
    "duration": 6,
    "start_time": "2023-08-17T16:08:13.793Z"
   },
   {
    "duration": 127,
    "start_time": "2023-08-17T16:08:43.940Z"
   },
   {
    "duration": 4,
    "start_time": "2023-08-17T16:08:48.747Z"
   },
   {
    "duration": 146,
    "start_time": "2023-08-17T16:08:51.304Z"
   },
   {
    "duration": 147,
    "start_time": "2023-08-17T16:09:24.442Z"
   },
   {
    "duration": 171,
    "start_time": "2023-08-17T16:13:05.828Z"
   },
   {
    "duration": 144,
    "start_time": "2023-08-17T16:13:29.165Z"
   },
   {
    "duration": 188,
    "start_time": "2023-08-17T16:15:59.297Z"
   },
   {
    "duration": 8,
    "start_time": "2023-08-17T16:22:55.595Z"
   },
   {
    "duration": 22,
    "start_time": "2023-08-17T16:23:58.375Z"
   },
   {
    "duration": 6,
    "start_time": "2023-08-17T16:24:08.425Z"
   },
   {
    "duration": 152,
    "start_time": "2023-08-17T16:24:36.820Z"
   },
   {
    "duration": 165,
    "start_time": "2023-08-17T16:24:58.803Z"
   },
   {
    "duration": 169,
    "start_time": "2023-08-17T16:30:12.715Z"
   },
   {
    "duration": 10,
    "start_time": "2023-08-17T16:33:35.725Z"
   },
   {
    "duration": 13,
    "start_time": "2023-08-17T16:33:41.721Z"
   },
   {
    "duration": 4,
    "start_time": "2023-08-17T16:33:51.139Z"
   },
   {
    "duration": 6,
    "start_time": "2023-08-17T16:34:08.139Z"
   },
   {
    "duration": 266,
    "start_time": "2023-08-17T16:34:48.400Z"
   },
   {
    "duration": 163,
    "start_time": "2023-08-17T16:35:03.780Z"
   },
   {
    "duration": 174,
    "start_time": "2023-08-17T16:37:04.067Z"
   },
   {
    "duration": 164,
    "start_time": "2023-08-17T16:37:25.321Z"
   },
   {
    "duration": 170,
    "start_time": "2023-08-17T16:37:57.805Z"
   },
   {
    "duration": 172,
    "start_time": "2023-08-17T16:39:45.939Z"
   },
   {
    "duration": 185,
    "start_time": "2023-08-17T16:40:15.503Z"
   },
   {
    "duration": 142,
    "start_time": "2023-08-17T16:41:04.977Z"
   },
   {
    "duration": 1236,
    "start_time": "2023-08-17T16:42:41.581Z"
   },
   {
    "duration": 259,
    "start_time": "2023-08-17T16:42:42.820Z"
   },
   {
    "duration": 15,
    "start_time": "2023-08-17T16:42:43.080Z"
   },
   {
    "duration": 67,
    "start_time": "2023-08-17T16:42:43.096Z"
   },
   {
    "duration": 21,
    "start_time": "2023-08-17T16:42:43.165Z"
   },
   {
    "duration": 43,
    "start_time": "2023-08-17T16:42:43.188Z"
   },
   {
    "duration": 30,
    "start_time": "2023-08-17T16:42:43.234Z"
   },
   {
    "duration": 28,
    "start_time": "2023-08-17T16:42:43.266Z"
   },
   {
    "duration": 45,
    "start_time": "2023-08-17T16:42:43.295Z"
   },
   {
    "duration": 171,
    "start_time": "2023-08-17T16:42:43.342Z"
   },
   {
    "duration": 17,
    "start_time": "2023-08-17T16:42:43.515Z"
   },
   {
    "duration": 173,
    "start_time": "2023-08-17T16:42:43.533Z"
   },
   {
    "duration": 271,
    "start_time": "2023-08-17T16:42:43.707Z"
   },
   {
    "duration": 300,
    "start_time": "2023-08-17T16:42:43.982Z"
   },
   {
    "duration": 48,
    "start_time": "2023-08-17T16:42:44.284Z"
   },
   {
    "duration": 25,
    "start_time": "2023-08-17T16:42:44.335Z"
   },
   {
    "duration": 50,
    "start_time": "2023-08-17T16:42:44.363Z"
   },
   {
    "duration": 51,
    "start_time": "2023-08-17T16:42:44.415Z"
   },
   {
    "duration": 199,
    "start_time": "2023-08-17T16:42:44.468Z"
   },
   {
    "duration": 75,
    "start_time": "2023-08-17T16:42:44.668Z"
   },
   {
    "duration": 179,
    "start_time": "2023-08-17T16:42:44.745Z"
   },
   {
    "duration": 7,
    "start_time": "2023-08-17T16:42:44.926Z"
   },
   {
    "duration": 13,
    "start_time": "2023-08-17T16:42:44.935Z"
   },
   {
    "duration": 25,
    "start_time": "2023-08-17T16:42:44.950Z"
   },
   {
    "duration": 6,
    "start_time": "2023-08-17T16:42:44.976Z"
   },
   {
    "duration": 523,
    "start_time": "2023-08-17T16:42:44.983Z"
   },
   {
    "duration": 173,
    "start_time": "2023-08-17T16:42:45.507Z"
   },
   {
    "duration": 236,
    "start_time": "2023-08-17T16:43:08.475Z"
   },
   {
    "duration": 152,
    "start_time": "2023-08-17T16:44:16.713Z"
   },
   {
    "duration": 2693,
    "start_time": "2023-08-17T16:49:38.936Z"
   },
   {
    "duration": 154,
    "start_time": "2023-08-17T16:51:00.522Z"
   },
   {
    "duration": 156,
    "start_time": "2023-08-17T16:51:07.121Z"
   },
   {
    "duration": 95,
    "start_time": "2023-08-17T16:54:41.689Z"
   },
   {
    "duration": 203,
    "start_time": "2023-08-17T16:55:11.584Z"
   },
   {
    "duration": 157,
    "start_time": "2023-08-17T16:56:38.309Z"
   },
   {
    "duration": 150,
    "start_time": "2023-08-17T16:57:05.249Z"
   },
   {
    "duration": 153,
    "start_time": "2023-08-17T16:59:34.224Z"
   },
   {
    "duration": 158,
    "start_time": "2023-08-17T16:59:45.702Z"
   },
   {
    "duration": 310,
    "start_time": "2023-08-17T16:59:53.560Z"
   },
   {
    "duration": 172,
    "start_time": "2023-08-17T17:00:24.641Z"
   },
   {
    "duration": 162,
    "start_time": "2023-08-17T17:00:31.903Z"
   },
   {
    "duration": 167,
    "start_time": "2023-08-17T17:00:36.744Z"
   },
   {
    "duration": 166,
    "start_time": "2023-08-17T17:00:53.022Z"
   },
   {
    "duration": 245,
    "start_time": "2023-08-17T17:00:59.351Z"
   },
   {
    "duration": 113,
    "start_time": "2023-08-17T17:05:20.769Z"
   },
   {
    "duration": 65,
    "start_time": "2023-08-17T17:13:52.646Z"
   },
   {
    "duration": 62,
    "start_time": "2023-08-17T17:13:57.882Z"
   },
   {
    "duration": 66,
    "start_time": "2023-08-17T17:14:49.834Z"
   },
   {
    "duration": 164,
    "start_time": "2023-08-17T17:15:41.747Z"
   },
   {
    "duration": 173,
    "start_time": "2023-08-17T17:15:50.777Z"
   },
   {
    "duration": 336,
    "start_time": "2023-08-17T17:16:30.151Z"
   },
   {
    "duration": 169,
    "start_time": "2023-08-17T17:16:59.541Z"
   },
   {
    "duration": 182,
    "start_time": "2023-08-17T17:17:09.262Z"
   },
   {
    "duration": 197,
    "start_time": "2023-08-17T17:17:13.166Z"
   },
   {
    "duration": 163,
    "start_time": "2023-08-17T17:17:20.982Z"
   },
   {
    "duration": 324,
    "start_time": "2023-08-17T17:18:45.200Z"
   },
   {
    "duration": 270,
    "start_time": "2023-08-17T17:19:35.327Z"
   },
   {
    "duration": 84,
    "start_time": "2023-08-17T17:30:00.221Z"
   },
   {
    "duration": 57,
    "start_time": "2023-08-17T17:30:14.017Z"
   },
   {
    "duration": 203,
    "start_time": "2023-08-17T17:31:30.858Z"
   },
   {
    "duration": 88,
    "start_time": "2023-08-17T17:31:50.882Z"
   },
   {
    "duration": 79,
    "start_time": "2023-08-17T17:32:08.785Z"
   },
   {
    "duration": 37,
    "start_time": "2023-08-17T17:32:55.406Z"
   },
   {
    "duration": 17,
    "start_time": "2023-08-17T17:35:57.760Z"
   },
   {
    "duration": 29,
    "start_time": "2023-08-17T17:36:01.290Z"
   },
   {
    "duration": 1296,
    "start_time": "2023-08-17T17:36:52.366Z"
   },
   {
    "duration": 1209,
    "start_time": "2023-08-17T17:36:57.676Z"
   },
   {
    "duration": 1230,
    "start_time": "2023-08-17T17:37:10.359Z"
   },
   {
    "duration": 1247,
    "start_time": "2023-08-17T17:37:27.786Z"
   },
   {
    "duration": 15,
    "start_time": "2023-08-17T17:37:41.408Z"
   },
   {
    "duration": 444,
    "start_time": "2023-08-17T17:37:43.386Z"
   },
   {
    "duration": 72,
    "start_time": "2023-08-17T17:37:51.173Z"
   },
   {
    "duration": 8449,
    "start_time": "2023-08-17T17:37:55.010Z"
   },
   {
    "duration": 318,
    "start_time": "2023-08-17T17:38:03.461Z"
   },
   {
    "duration": 14,
    "start_time": "2023-08-17T17:38:03.781Z"
   },
   {
    "duration": 47,
    "start_time": "2023-08-17T17:38:03.796Z"
   },
   {
    "duration": 12,
    "start_time": "2023-08-17T17:38:03.846Z"
   },
   {
    "duration": 44,
    "start_time": "2023-08-17T17:38:03.860Z"
   },
   {
    "duration": 37,
    "start_time": "2023-08-17T17:38:03.906Z"
   },
   {
    "duration": 34,
    "start_time": "2023-08-17T17:38:03.944Z"
   },
   {
    "duration": 16,
    "start_time": "2023-08-17T17:38:03.979Z"
   },
   {
    "duration": 279,
    "start_time": "2023-08-17T17:38:03.997Z"
   },
   {
    "duration": 16,
    "start_time": "2023-08-17T17:38:04.278Z"
   },
   {
    "duration": 116,
    "start_time": "2023-08-17T17:38:04.295Z"
   },
   {
    "duration": 194,
    "start_time": "2023-08-17T17:38:04.413Z"
   },
   {
    "duration": 319,
    "start_time": "2023-08-17T17:38:04.612Z"
   },
   {
    "duration": 304,
    "start_time": "2023-08-17T17:38:04.933Z"
   },
   {
    "duration": 43,
    "start_time": "2023-08-17T17:38:05.239Z"
   },
   {
    "duration": 52,
    "start_time": "2023-08-17T17:38:05.284Z"
   },
   {
    "duration": 23,
    "start_time": "2023-08-17T17:38:05.337Z"
   },
   {
    "duration": 88,
    "start_time": "2023-08-17T17:38:05.362Z"
   },
   {
    "duration": 33,
    "start_time": "2023-08-17T17:38:05.453Z"
   },
   {
    "duration": 32,
    "start_time": "2023-08-17T17:38:05.488Z"
   },
   {
    "duration": 48,
    "start_time": "2023-08-17T17:38:05.523Z"
   },
   {
    "duration": 64,
    "start_time": "2023-08-17T17:38:05.573Z"
   },
   {
    "duration": 24,
    "start_time": "2023-08-17T17:38:05.639Z"
   },
   {
    "duration": 19,
    "start_time": "2023-08-17T17:38:05.665Z"
   },
   {
    "duration": 6,
    "start_time": "2023-08-17T17:38:05.686Z"
   },
   {
    "duration": 569,
    "start_time": "2023-08-17T17:38:05.694Z"
   },
   {
    "duration": 152,
    "start_time": "2023-08-17T17:38:06.265Z"
   },
   {
    "duration": 265,
    "start_time": "2023-08-17T17:41:40.343Z"
   },
   {
    "duration": 263,
    "start_time": "2023-08-17T17:42:20.415Z"
   },
   {
    "duration": 265,
    "start_time": "2023-08-17T17:43:49.554Z"
   },
   {
    "duration": 280,
    "start_time": "2023-08-17T17:43:53.383Z"
   },
   {
    "duration": 3413,
    "start_time": "2023-08-17T18:02:50.765Z"
   },
   {
    "duration": 218,
    "start_time": "2023-08-17T18:02:54.180Z"
   },
   {
    "duration": 14,
    "start_time": "2023-08-17T18:02:54.400Z"
   },
   {
    "duration": 43,
    "start_time": "2023-08-17T18:02:54.417Z"
   },
   {
    "duration": 31,
    "start_time": "2023-08-17T18:02:54.462Z"
   },
   {
    "duration": 14,
    "start_time": "2023-08-17T18:02:54.494Z"
   },
   {
    "duration": 34,
    "start_time": "2023-08-17T18:02:54.509Z"
   },
   {
    "duration": 20,
    "start_time": "2023-08-17T18:02:54.545Z"
   },
   {
    "duration": 7,
    "start_time": "2023-08-17T18:02:54.567Z"
   },
   {
    "duration": 184,
    "start_time": "2023-08-17T18:02:54.578Z"
   },
   {
    "duration": 18,
    "start_time": "2023-08-17T18:02:54.764Z"
   },
   {
    "duration": 86,
    "start_time": "2023-08-17T18:02:54.784Z"
   },
   {
    "duration": 178,
    "start_time": "2023-08-17T18:02:54.872Z"
   },
   {
    "duration": 287,
    "start_time": "2023-08-17T18:02:55.052Z"
   },
   {
    "duration": 285,
    "start_time": "2023-08-17T18:02:55.341Z"
   },
   {
    "duration": 38,
    "start_time": "2023-08-17T18:02:55.628Z"
   },
   {
    "duration": 47,
    "start_time": "2023-08-17T18:02:55.668Z"
   },
   {
    "duration": 23,
    "start_time": "2023-08-17T18:02:55.717Z"
   },
   {
    "duration": 375,
    "start_time": "2023-08-17T18:02:55.742Z"
   },
   {
    "duration": 370,
    "start_time": "2023-08-17T18:02:56.119Z"
   },
   {
    "duration": 96,
    "start_time": "2023-08-17T18:02:56.491Z"
   },
   {
    "duration": 0,
    "start_time": "2023-08-17T18:02:56.590Z"
   },
   {
    "duration": 0,
    "start_time": "2023-08-17T18:02:56.591Z"
   },
   {
    "duration": 0,
    "start_time": "2023-08-17T18:02:56.593Z"
   },
   {
    "duration": 0,
    "start_time": "2023-08-17T18:02:56.594Z"
   },
   {
    "duration": 0,
    "start_time": "2023-08-17T18:02:56.596Z"
   },
   {
    "duration": 0,
    "start_time": "2023-08-17T18:02:56.598Z"
   },
   {
    "duration": 0,
    "start_time": "2023-08-17T18:02:56.599Z"
   },
   {
    "duration": 0,
    "start_time": "2023-08-17T18:02:56.599Z"
   },
   {
    "duration": 0,
    "start_time": "2023-08-17T18:02:56.600Z"
   },
   {
    "duration": 0,
    "start_time": "2023-08-17T18:02:56.602Z"
   },
   {
    "duration": 0,
    "start_time": "2023-08-17T18:02:56.603Z"
   },
   {
    "duration": 0,
    "start_time": "2023-08-17T18:02:56.604Z"
   },
   {
    "duration": 0,
    "start_time": "2023-08-17T18:02:56.604Z"
   },
   {
    "duration": 3588,
    "start_time": "2023-08-17T20:49:54.679Z"
   },
   {
    "duration": 126,
    "start_time": "2023-08-17T20:49:58.269Z"
   },
   {
    "duration": 14,
    "start_time": "2023-08-17T20:49:58.396Z"
   },
   {
    "duration": 14,
    "start_time": "2023-08-17T20:49:58.413Z"
   },
   {
    "duration": 10,
    "start_time": "2023-08-17T20:49:58.428Z"
   },
   {
    "duration": 17,
    "start_time": "2023-08-17T20:49:58.439Z"
   },
   {
    "duration": 46,
    "start_time": "2023-08-17T20:49:58.457Z"
   },
   {
    "duration": 8,
    "start_time": "2023-08-17T20:49:58.505Z"
   },
   {
    "duration": 7,
    "start_time": "2023-08-17T20:49:58.515Z"
   },
   {
    "duration": 195,
    "start_time": "2023-08-17T20:49:58.525Z"
   },
   {
    "duration": 15,
    "start_time": "2023-08-17T20:49:58.721Z"
   },
   {
    "duration": 91,
    "start_time": "2023-08-17T20:49:58.738Z"
   },
   {
    "duration": 178,
    "start_time": "2023-08-17T20:49:58.832Z"
   },
   {
    "duration": 283,
    "start_time": "2023-08-17T20:49:59.012Z"
   },
   {
    "duration": 291,
    "start_time": "2023-08-17T20:49:59.297Z"
   },
   {
    "duration": 36,
    "start_time": "2023-08-17T20:49:59.594Z"
   },
   {
    "duration": 25,
    "start_time": "2023-08-17T20:49:59.632Z"
   },
   {
    "duration": 47,
    "start_time": "2023-08-17T20:49:59.659Z"
   },
   {
    "duration": 280,
    "start_time": "2023-08-17T20:49:59.707Z"
   },
   {
    "duration": 342,
    "start_time": "2023-08-17T20:49:59.989Z"
   },
   {
    "duration": 88,
    "start_time": "2023-08-17T20:50:00.333Z"
   },
   {
    "duration": 0,
    "start_time": "2023-08-17T20:50:00.423Z"
   },
   {
    "duration": 0,
    "start_time": "2023-08-17T20:50:00.425Z"
   },
   {
    "duration": 0,
    "start_time": "2023-08-17T20:50:00.426Z"
   },
   {
    "duration": 0,
    "start_time": "2023-08-17T20:50:00.428Z"
   },
   {
    "duration": 0,
    "start_time": "2023-08-17T20:50:00.430Z"
   },
   {
    "duration": 0,
    "start_time": "2023-08-17T20:50:00.431Z"
   },
   {
    "duration": 0,
    "start_time": "2023-08-17T20:50:00.432Z"
   },
   {
    "duration": 0,
    "start_time": "2023-08-17T20:50:00.434Z"
   },
   {
    "duration": 0,
    "start_time": "2023-08-17T20:50:00.435Z"
   },
   {
    "duration": 0,
    "start_time": "2023-08-17T20:50:00.437Z"
   },
   {
    "duration": 0,
    "start_time": "2023-08-17T20:50:00.439Z"
   },
   {
    "duration": 0,
    "start_time": "2023-08-17T20:50:00.440Z"
   },
   {
    "duration": 0,
    "start_time": "2023-08-17T20:50:00.441Z"
   },
   {
    "duration": 4397,
    "start_time": "2023-08-17T21:03:24.044Z"
   },
   {
    "duration": 463,
    "start_time": "2023-08-17T21:03:28.444Z"
   },
   {
    "duration": 15,
    "start_time": "2023-08-17T21:03:28.911Z"
   },
   {
    "duration": 17,
    "start_time": "2023-08-17T21:03:28.927Z"
   },
   {
    "duration": 25,
    "start_time": "2023-08-17T21:03:28.946Z"
   },
   {
    "duration": 26,
    "start_time": "2023-08-17T21:03:28.973Z"
   },
   {
    "duration": 15,
    "start_time": "2023-08-17T21:03:29.000Z"
   },
   {
    "duration": 9,
    "start_time": "2023-08-17T21:03:29.016Z"
   },
   {
    "duration": 10,
    "start_time": "2023-08-17T21:03:29.026Z"
   },
   {
    "duration": 248,
    "start_time": "2023-08-17T21:03:29.038Z"
   },
   {
    "duration": 32,
    "start_time": "2023-08-17T21:03:29.287Z"
   },
   {
    "duration": 89,
    "start_time": "2023-08-17T21:03:29.323Z"
   },
   {
    "duration": 194,
    "start_time": "2023-08-17T21:03:29.414Z"
   },
   {
    "duration": 309,
    "start_time": "2023-08-17T21:03:29.615Z"
   },
   {
    "duration": 320,
    "start_time": "2023-08-17T21:03:29.925Z"
   },
   {
    "duration": 57,
    "start_time": "2023-08-17T21:03:30.247Z"
   },
   {
    "duration": 34,
    "start_time": "2023-08-17T21:03:30.307Z"
   },
   {
    "duration": 44,
    "start_time": "2023-08-17T21:03:30.343Z"
   },
   {
    "duration": 347,
    "start_time": "2023-08-17T21:03:30.389Z"
   },
   {
    "duration": 406,
    "start_time": "2023-08-17T21:03:30.738Z"
   },
   {
    "duration": 305,
    "start_time": "2023-08-17T21:03:31.146Z"
   },
   {
    "duration": 311,
    "start_time": "2023-08-17T21:03:31.469Z"
   },
   {
    "duration": 141,
    "start_time": "2023-08-17T21:03:31.781Z"
   },
   {
    "duration": 0,
    "start_time": "2023-08-17T21:03:31.924Z"
   },
   {
    "duration": 0,
    "start_time": "2023-08-17T21:03:31.925Z"
   },
   {
    "duration": 0,
    "start_time": "2023-08-17T21:03:31.926Z"
   },
   {
    "duration": 0,
    "start_time": "2023-08-17T21:03:31.928Z"
   },
   {
    "duration": 0,
    "start_time": "2023-08-17T21:03:31.929Z"
   },
   {
    "duration": 0,
    "start_time": "2023-08-17T21:03:31.930Z"
   },
   {
    "duration": 0,
    "start_time": "2023-08-17T21:03:31.932Z"
   },
   {
    "duration": 0,
    "start_time": "2023-08-17T21:03:31.933Z"
   },
   {
    "duration": 0,
    "start_time": "2023-08-17T21:03:31.934Z"
   },
   {
    "duration": 0,
    "start_time": "2023-08-17T21:03:31.935Z"
   },
   {
    "duration": 3700,
    "start_time": "2023-08-17T21:04:22.015Z"
   },
   {
    "duration": 168,
    "start_time": "2023-08-17T21:04:25.717Z"
   },
   {
    "duration": 21,
    "start_time": "2023-08-17T21:04:25.886Z"
   },
   {
    "duration": 44,
    "start_time": "2023-08-17T21:04:25.909Z"
   },
   {
    "duration": 26,
    "start_time": "2023-08-17T21:04:25.956Z"
   },
   {
    "duration": 18,
    "start_time": "2023-08-17T21:04:25.989Z"
   },
   {
    "duration": 29,
    "start_time": "2023-08-17T21:04:26.009Z"
   },
   {
    "duration": 97,
    "start_time": "2023-08-17T21:04:26.040Z"
   },
   {
    "duration": 7,
    "start_time": "2023-08-17T21:04:26.140Z"
   },
   {
    "duration": 205,
    "start_time": "2023-08-17T21:04:26.149Z"
   },
   {
    "duration": 38,
    "start_time": "2023-08-17T21:04:26.355Z"
   },
   {
    "duration": 85,
    "start_time": "2023-08-17T21:04:26.404Z"
   },
   {
    "duration": 183,
    "start_time": "2023-08-17T21:04:26.492Z"
   },
   {
    "duration": 340,
    "start_time": "2023-08-17T21:04:26.678Z"
   },
   {
    "duration": 326,
    "start_time": "2023-08-17T21:04:27.021Z"
   },
   {
    "duration": 55,
    "start_time": "2023-08-17T21:04:27.350Z"
   },
   {
    "duration": 28,
    "start_time": "2023-08-17T21:04:27.409Z"
   },
   {
    "duration": 52,
    "start_time": "2023-08-17T21:04:27.439Z"
   },
   {
    "duration": 308,
    "start_time": "2023-08-17T21:04:27.502Z"
   },
   {
    "duration": 401,
    "start_time": "2023-08-17T21:04:27.812Z"
   },
   {
    "duration": 294,
    "start_time": "2023-08-17T21:04:28.214Z"
   },
   {
    "duration": 310,
    "start_time": "2023-08-17T21:04:28.510Z"
   },
   {
    "duration": 66,
    "start_time": "2023-08-17T21:04:28.822Z"
   },
   {
    "duration": 35,
    "start_time": "2023-08-17T21:04:28.889Z"
   },
   {
    "duration": 15,
    "start_time": "2023-08-17T21:04:28.925Z"
   },
   {
    "duration": 51,
    "start_time": "2023-08-17T21:04:28.942Z"
   },
   {
    "duration": 8,
    "start_time": "2023-08-17T21:04:28.995Z"
   },
   {
    "duration": 12,
    "start_time": "2023-08-17T21:04:29.008Z"
   },
   {
    "duration": 12,
    "start_time": "2023-08-17T21:04:29.022Z"
   },
   {
    "duration": 4,
    "start_time": "2023-08-17T21:04:29.036Z"
   },
   {
    "duration": 425,
    "start_time": "2023-08-17T21:04:29.042Z"
   },
   {
    "duration": 159,
    "start_time": "2023-08-17T21:04:29.469Z"
   },
   {
    "duration": 3706,
    "start_time": "2023-08-18T09:23:37.695Z"
   },
   {
    "duration": 340,
    "start_time": "2023-08-18T09:23:41.403Z"
   },
   {
    "duration": 12,
    "start_time": "2023-08-18T09:23:41.744Z"
   },
   {
    "duration": 17,
    "start_time": "2023-08-18T09:23:41.758Z"
   },
   {
    "duration": 7,
    "start_time": "2023-08-18T09:23:41.777Z"
   },
   {
    "duration": 75,
    "start_time": "2023-08-18T09:23:41.785Z"
   },
   {
    "duration": 26,
    "start_time": "2023-08-18T09:23:41.862Z"
   },
   {
    "duration": 7,
    "start_time": "2023-08-18T09:23:41.889Z"
   },
   {
    "duration": 9,
    "start_time": "2023-08-18T09:23:41.897Z"
   },
   {
    "duration": 170,
    "start_time": "2023-08-18T09:23:41.908Z"
   },
   {
    "duration": 14,
    "start_time": "2023-08-18T09:23:42.080Z"
   },
   {
    "duration": 80,
    "start_time": "2023-08-18T09:23:42.096Z"
   },
   {
    "duration": 150,
    "start_time": "2023-08-18T09:23:42.178Z"
   },
   {
    "duration": 243,
    "start_time": "2023-08-18T09:23:42.329Z"
   },
   {
    "duration": 269,
    "start_time": "2023-08-18T09:23:42.574Z"
   },
   {
    "duration": 39,
    "start_time": "2023-08-18T09:23:42.844Z"
   },
   {
    "duration": 20,
    "start_time": "2023-08-18T09:23:42.884Z"
   },
   {
    "duration": 23,
    "start_time": "2023-08-18T09:23:42.906Z"
   },
   {
    "duration": 249,
    "start_time": "2023-08-18T09:23:42.931Z"
   },
   {
    "duration": 322,
    "start_time": "2023-08-18T09:23:43.182Z"
   },
   {
    "duration": 246,
    "start_time": "2023-08-18T09:23:43.506Z"
   },
   {
    "duration": 268,
    "start_time": "2023-08-18T09:23:43.754Z"
   },
   {
    "duration": 52,
    "start_time": "2023-08-18T09:23:44.024Z"
   },
   {
    "duration": 30,
    "start_time": "2023-08-18T09:23:44.078Z"
   },
   {
    "duration": 25,
    "start_time": "2023-08-18T09:23:44.110Z"
   },
   {
    "duration": 29,
    "start_time": "2023-08-18T09:23:44.136Z"
   },
   {
    "duration": 15,
    "start_time": "2023-08-18T09:23:44.174Z"
   },
   {
    "duration": 23,
    "start_time": "2023-08-18T09:23:44.193Z"
   },
   {
    "duration": 38,
    "start_time": "2023-08-18T09:23:44.217Z"
   },
   {
    "duration": 7,
    "start_time": "2023-08-18T09:23:44.256Z"
   },
   {
    "duration": 330,
    "start_time": "2023-08-18T09:23:44.265Z"
   },
   {
    "duration": 129,
    "start_time": "2023-08-18T09:23:44.597Z"
   }
  ],
  "kernelspec": {
   "display_name": "Python 3 (ipykernel)",
   "language": "python",
   "name": "python3"
  },
  "language_info": {
   "codemirror_mode": {
    "name": "ipython",
    "version": 3
   },
   "file_extension": ".py",
   "mimetype": "text/x-python",
   "name": "python",
   "nbconvert_exporter": "python",
   "pygments_lexer": "ipython3",
   "version": "3.9.5"
  },
  "toc": {
   "base_numbering": 1,
   "nav_menu": {},
   "number_sections": true,
   "sideBar": true,
   "skip_h1_title": true,
   "title_cell": "Table of Contents",
   "title_sidebar": "Contents",
   "toc_cell": false,
   "toc_position": {},
   "toc_section_display": true,
   "toc_window_display": true
  }
 },
 "nbformat": 4,
 "nbformat_minor": 5
}
